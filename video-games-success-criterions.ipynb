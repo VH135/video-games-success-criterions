{
 "cells": [
  {
   "cell_type": "markdown",
   "id": "24e983a6",
   "metadata": {
    "toc": true
   },
   "source": [
    "<h1>Оглавление<span class=\"tocSkip\"></span></h1>\n",
    "<div class=\"toc\"><ul class=\"toc-item\"><li><ul class=\"toc-item\"><li><span><a href=\"#Описание-проекта\" data-toc-modified-id=\"Описание-проекта-0.1\"><span class=\"toc-item-num\">0.1&nbsp;&nbsp;</span>Описание проекта</a></span></li><li><span><a href=\"#Описание-данных\" data-toc-modified-id=\"Описание-данных-0.2\"><span class=\"toc-item-num\">0.2&nbsp;&nbsp;</span>Описание данных</a></span></li><li><span><a href=\"#План-по-выполнению-проекта\" data-toc-modified-id=\"План-по-выполнению-проекта-0.3\"><span class=\"toc-item-num\">0.3&nbsp;&nbsp;</span>План по выполнению проекта</a></span></li></ul></li><li><span><a href=\"#Шаг.-Открываем-файл-с-данными-и-изучаем-общую-информацию\" data-toc-modified-id=\"Шаг.-Открываем-файл-с-данными-и-изучаем-общую-информацию-1\"><span class=\"toc-item-num\">1&nbsp;&nbsp;</span>Шаг. Открываем файл с данными и изучаем общую информацию</a></span></li><li><span><a href=\"#Шаг.-Подготовим-данные\" data-toc-modified-id=\"Шаг.-Подготовим-данные-2\"><span class=\"toc-item-num\">2&nbsp;&nbsp;</span>Шаг. Подготовим данные</a></span><ul class=\"toc-item\"><li><span><a href=\"#Заменим-названия-столбцов-(приведём-к-нижнему-регистру)\" data-toc-modified-id=\"Заменим-названия-столбцов-(приведём-к-нижнему-регистру)-2.1\"><span class=\"toc-item-num\">2.1&nbsp;&nbsp;</span>Заменим названия столбцов (приведём к нижнему регистру)</a></span></li><li><span><a href=\"#Преобразуем-данные-в-нужные-типы.-Опишем,-в-каких-столбцах-заменили-тип-данных-и-почему\" data-toc-modified-id=\"Преобразуем-данные-в-нужные-типы.-Опишем,-в-каких-столбцах-заменили-тип-данных-и-почему-2.2\"><span class=\"toc-item-num\">2.2&nbsp;&nbsp;</span>Преобразуем данные в нужные типы. Опишем, в каких столбцах заменили тип данных и почему</a></span></li><li><span><a href=\"#Столбец-release_year\" data-toc-modified-id=\"Столбец-release_year-2.3\"><span class=\"toc-item-num\">2.3&nbsp;&nbsp;</span>Столбец <code>release_year</code></a></span></li><li><span><a href=\"#Столбец-user_score\" data-toc-modified-id=\"Столбец-user_score-2.4\"><span class=\"toc-item-num\">2.4&nbsp;&nbsp;</span>Столбец <code>user_score</code></a></span></li><li><span><a href=\"#Столбец-platform\" data-toc-modified-id=\"Столбец-platform-2.5\"><span class=\"toc-item-num\">2.5&nbsp;&nbsp;</span>Столбец <code>platform</code></a></span></li><li><span><a href=\"#Столбец-genre\" data-toc-modified-id=\"Столбец-genre-2.6\"><span class=\"toc-item-num\">2.6&nbsp;&nbsp;</span>Столбец <code>genre</code></a></span></li><li><span><a href=\"#Столбец-critic_score\" data-toc-modified-id=\"Столбец-critic_score-2.7\"><span class=\"toc-item-num\">2.7&nbsp;&nbsp;</span>Столбец <code>critic_score</code></a></span></li><li><span><a href=\"#Столбец-rating\" data-toc-modified-id=\"Столбец-rating-2.8\"><span class=\"toc-item-num\">2.8&nbsp;&nbsp;</span>Столбец <code>rating</code></a></span></li><li><span><a href=\"#Столбец-name\" data-toc-modified-id=\"Столбец-name-2.9\"><span class=\"toc-item-num\">2.9&nbsp;&nbsp;</span>Столбец <code>name</code></a></span></li><li><span><a href=\"#Посчитаем-суммарные-продажи-во-всех-регионах-и-запишите-их-в-отдельный-столбец\" data-toc-modified-id=\"Посчитаем-суммарные-продажи-во-всех-регионах-и-запишите-их-в-отдельный-столбец-2.10\"><span class=\"toc-item-num\">2.10&nbsp;&nbsp;</span>Посчитаем суммарные продажи во всех регионах и запишите их в отдельный столбец</a></span></li></ul></li><li><span><a href=\"#Шаг.-Проведём-исследовательский-анализ-данных\" data-toc-modified-id=\"Шаг.-Проведём-исследовательский-анализ-данных-3\"><span class=\"toc-item-num\">3&nbsp;&nbsp;</span>Шаг. Проведём исследовательский анализ данных</a></span><ul class=\"toc-item\"><li><span><a href=\"#Посмотрим,-сколько-игр-выпускалось-в-разные-годы.-Ответим-на-вопрос,-важны-ли-данные-за-все-периоды?\" data-toc-modified-id=\"Посмотрим,-сколько-игр-выпускалось-в-разные-годы.-Ответим-на-вопрос,-важны-ли-данные-за-все-периоды?-3.1\"><span class=\"toc-item-num\">3.1&nbsp;&nbsp;</span>Посмотрим, сколько игр выпускалось в разные годы. Ответим на вопрос, важны ли данные за все периоды?</a></span></li><li><span><a href=\"#Посмотрим,-как-менялись-продажи-по-платформам.-Выберем-платформы-с-наибольшими-суммарными-продажами-и-построим-распределение-по-годам.-Ответим-на-вопрос,-за-какой-характерный-срок-появляются-новые-и-исчезают-старые-платформы?\" data-toc-modified-id=\"Посмотрим,-как-менялись-продажи-по-платформам.-Выберем-платформы-с-наибольшими-суммарными-продажами-и-построим-распределение-по-годам.-Ответим-на-вопрос,-за-какой-характерный-срок-появляются-новые-и-исчезают-старые-платформы?-3.2\"><span class=\"toc-item-num\">3.2&nbsp;&nbsp;</span>Посмотрим, как менялись продажи по платформам. Выберем платформы с наибольшими суммарными продажами и построим распределение по годам. Ответим на вопрос, за какой характерный срок появляются новые и исчезают старые платформы?</a></span></li><li><span><a href=\"#Возьмём-данные-за-соответствующий-актуальный-период\" data-toc-modified-id=\"Возьмём-данные-за-соответствующий-актуальный-период-3.3\"><span class=\"toc-item-num\">3.3&nbsp;&nbsp;</span>Возьмём данные за соответствующий актуальный период</a></span></li><li><span><a href=\"#Ответим-на-вопрос,-какие-платформы-лидируют-по-продажам,-растут-или-падают?-Выберем-несколько-потенциально-прибыльных-платформ\" data-toc-modified-id=\"Ответим-на-вопрос,-какие-платформы-лидируют-по-продажам,-растут-или-падают?-Выберем-несколько-потенциально-прибыльных-платформ-3.4\"><span class=\"toc-item-num\">3.4&nbsp;&nbsp;</span>Ответим на вопрос, какие платформы лидируют по продажам, растут или падают? Выберем несколько потенциально прибыльных платформ</a></span></li><li><span><a href=\"#Построим-график-«ящик-с-усами»-по-глобальным-продажам-игр-в-разбивке-по-платформам,-опишем-результат\" data-toc-modified-id=\"Построим-график-«ящик-с-усами»-по-глобальным-продажам-игр-в-разбивке-по-платформам,-опишем-результат-3.5\"><span class=\"toc-item-num\">3.5&nbsp;&nbsp;</span>Построим график «ящик с усами» по глобальным продажам игр в разбивке по платформам, опишем результат</a></span></li><li><span><a href=\"#Посмотрим,-как-влияют-на-продажи-внутри-одной-популярной-платформы-отзывы-пользователей-и-критиков\" data-toc-modified-id=\"Посмотрим,-как-влияют-на-продажи-внутри-одной-популярной-платформы-отзывы-пользователей-и-критиков-3.6\"><span class=\"toc-item-num\">3.6&nbsp;&nbsp;</span>Посмотрим, как влияют на продажи внутри одной популярной платформы отзывы пользователей и критиков</a></span></li><li><span><a href=\"#Соотнесём-выводы-с-продажами-игр-на-других-платформах\" data-toc-modified-id=\"Соотнесём-выводы-с-продажами-игр-на-других-платформах-3.7\"><span class=\"toc-item-num\">3.7&nbsp;&nbsp;</span>Соотнесём выводы с продажами игр на других платформах</a></span></li><li><span><a href=\"#Посмотрим-на-общее-распределение-игр-по-жанрам\" data-toc-modified-id=\"Посмотрим-на-общее-распределение-игр-по-жанрам-3.8\"><span class=\"toc-item-num\">3.8&nbsp;&nbsp;</span>Посмотрим на общее распределение игр по жанрам</a></span></li></ul></li><li><span><a href=\"#Шаг.-Составим-портрет-пользователя-каждого-региона\" data-toc-modified-id=\"Шаг.-Составим-портрет-пользователя-каждого-региона-4\"><span class=\"toc-item-num\">4&nbsp;&nbsp;</span>Шаг. Составим портрет пользователя каждого региона</a></span><ul class=\"toc-item\"><li><span><a href=\"#Самые-популярные-платформы-(топ-5).-Опишем-различия-в-долях-продаж\" data-toc-modified-id=\"Самые-популярные-платформы-(топ-5).-Опишем-различия-в-долях-продаж-4.1\"><span class=\"toc-item-num\">4.1&nbsp;&nbsp;</span>Самые популярные платформы (топ-5). Опишем различия в долях продаж</a></span><ul class=\"toc-item\"><li><span><a href=\"#Самые-популярные-платформы-в-Северной-Америке-(NA)\" data-toc-modified-id=\"Самые-популярные-платформы-в-Северной-Америке-(NA)-4.1.1\"><span class=\"toc-item-num\">4.1.1&nbsp;&nbsp;</span>Самые популярные платформы в Северной Америке (NA)</a></span></li><li><span><a href=\"#Самые-популярные-платформы-в-Европе-(EU)\" data-toc-modified-id=\"Самые-популярные-платформы-в-Европе-(EU)-4.1.2\"><span class=\"toc-item-num\">4.1.2&nbsp;&nbsp;</span>Самые популярные платформы в Европе (EU)</a></span></li><li><span><a href=\"#Самые-популярные-платформы-в-Японии-(JP)\" data-toc-modified-id=\"Самые-популярные-платформы-в-Японии-(JP)-4.1.3\"><span class=\"toc-item-num\">4.1.3&nbsp;&nbsp;</span>Самые популярные платформы в Японии (JP)</a></span></li></ul></li><li><span><a href=\"#Самые-популярные-жанры-(топ-5).-Поясним-разницу\" data-toc-modified-id=\"Самые-популярные-жанры-(топ-5).-Поясним-разницу-4.2\"><span class=\"toc-item-num\">4.2&nbsp;&nbsp;</span>Самые популярные жанры (топ-5). Поясним разницу</a></span><ul class=\"toc-item\"><li><span><a href=\"#Самые-популярные-жанры-в-Северной-Америке-(NA)\" data-toc-modified-id=\"Самые-популярные-жанры-в-Северной-Америке-(NA)-4.2.1\"><span class=\"toc-item-num\">4.2.1&nbsp;&nbsp;</span>Самые популярные жанры в Северной Америке (NA)</a></span></li><li><span><a href=\"#Самые-популярные-жанры-в-Европе-(EU)\" data-toc-modified-id=\"Самые-популярные-жанры-в-Европе-(EU)-4.2.2\"><span class=\"toc-item-num\">4.2.2&nbsp;&nbsp;</span>Самые популярные жанры в Европе (EU)</a></span></li><li><span><a href=\"#Самые-популярные-жанры-в-Японии-(JP)\" data-toc-modified-id=\"Самые-популярные-жанры-в-Японии-(JP)-4.2.3\"><span class=\"toc-item-num\">4.2.3&nbsp;&nbsp;</span>Самые популярные жанры в Японии (JP)</a></span></li></ul></li><li><span><a href=\"#Влияет-ли-рейтинг-ESRB-на-продажи-в-отдельном-регионе?\" data-toc-modified-id=\"Влияет-ли-рейтинг-ESRB-на-продажи-в-отдельном-регионе?-4.3\"><span class=\"toc-item-num\">4.3&nbsp;&nbsp;</span>Влияет ли рейтинг ESRB на продажи в отдельном регионе?</a></span></li></ul></li><li><span><a href=\"#Шаг-5.-Проверим-гипотезы\" data-toc-modified-id=\"Шаг-5.-Проверим-гипотезы-5\"><span class=\"toc-item-num\">5&nbsp;&nbsp;</span>Шаг 5. Проверим гипотезы</a></span><ul class=\"toc-item\"><li><span><a href=\"#Средние-пользовательские-рейтинги-платформ-Xbox-One-и-PC-одинаковые\" data-toc-modified-id=\"Средние-пользовательские-рейтинги-платформ-Xbox-One-и-PC-одинаковые-5.1\"><span class=\"toc-item-num\">5.1&nbsp;&nbsp;</span>Средние пользовательские рейтинги платформ Xbox One и PC одинаковые</a></span></li><li><span><a href=\"#Средние-пользовательские-рейтинги-жанров-Action-и-Sports-разные\" data-toc-modified-id=\"Средние-пользовательские-рейтинги-жанров-Action-и-Sports-разные-5.2\"><span class=\"toc-item-num\">5.2&nbsp;&nbsp;</span>Средние пользовательские рейтинги жанров Action и Sports разные</a></span></li></ul></li><li><span><a href=\"#Шаг.-Общий-вывод\" data-toc-modified-id=\"Шаг.-Общий-вывод-6\"><span class=\"toc-item-num\">6&nbsp;&nbsp;</span>Шаг. Общий вывод</a></span></li></ul></div>"
   ]
  },
  {
   "cell_type": "markdown",
   "id": "b19c59d4",
   "metadata": {},
   "source": [
    "# Выявление определяющих успешность игры закономерностей"
   ]
  },
  {
   "cell_type": "markdown",
   "id": "955237d8",
   "metadata": {},
   "source": [
    "### Описание проекта\n",
    "Вы работаете в интернет-магазине «Стримчик», который продаёт по всему миру компьютерные игры. Из открытых источников доступны исторические данные о продажах игр, оценки пользователей и экспертов, жанры и платформы (например, Xbox или PlayStation). Вам нужно выявить определяющие успешность игры закономерности. Это позволит сделать ставку на потенциально популярный продукт и спланировать рекламные кампании.  \n",
    "\n",
    "Перед вами данные до 2016 года. Представим, что сейчас декабрь 2016 г., и вы планируете кампанию на 2017-й. Нужно отработать принцип работы с данными. Неважно, прогнозируете ли вы продажи на 2017 год по данным 2016-го или же 2027-й — по данным 2026 года.  \n",
    "\n",
    "В наборе данных попадается аббревиатура ESRB (Entertainment Software Rating Board) — это ассоциация, определяющая возрастной рейтинг компьютерных игр. ESRB оценивает игровой контент и присваивает ему подходящую возрастную категорию, например, «Для взрослых», «Для детей младшего возраста» или «Для подростков»."
   ]
  },
  {
   "cell_type": "markdown",
   "id": "a9f2bc72",
   "metadata": {},
   "source": [
    "### Описание данных\n",
    "\n",
    "- *Name* — название игры\n",
    "- *Platform* — платформа\n",
    "- *Year_of_Release* — год выпуска\n",
    "- *Genre* — жанр игры\n",
    "- *NA_sales* — продажи в Северной Америке (миллионы проданных копий)\n",
    "- *EU_sales* — продажи в Европе (миллионы проданных копий)\n",
    "- *JP_sales* — продажи в Японии (миллионы проданных копий)\n",
    "- *Other_sales* — продажи в других странах (миллионы проданных копий)\n",
    "- *Critic_Score* — оценка критиков (максимум 100)\n",
    "- *User_Score* — оценка пользователей (максимум 10)\n",
    "- *Rating* — рейтинг от организации ESRB (англ. Entertainment Software Rating Board). Эта ассоциация определяет рейтинг компьютерных игр и присваивает им подходящую возрастную категорию.\n",
    "\n",
    "Данные за 2016 год могут быть неполными."
   ]
  },
  {
   "cell_type": "markdown",
   "id": "52f75760",
   "metadata": {},
   "source": [
    "### План по выполнению проекта\n",
    "\n",
    "**Шаг 1. Откройте файл с данными и изучите общую информацию**\n",
    "\n",
    "**Шаг 2. Подготовьте данные**  \n",
    "\n",
    "- Замените названия столбцов (приведите к нижнему регистру);\n",
    "- Преобразуйте данные в нужные типы. Опишите, в каких столбцах заменили тип данных и почему;\n",
    "- Обработайте пропуски при необходимости:\n",
    "-- Объясните, почему заполнили пропуски определённым образом или почему не стали это делать;\n",
    "-- Опишите причины, которые могли привести к пропускам;\n",
    "-- Обратите внимание на аббревиатуру 'tbd' в столбце с оценкой пользователей. Отдельно разберите это значение и опишите, как его обработать;\n",
    "- Посчитайте суммарные продажи во всех регионах и запишите их в отдельный столбец."
   ]
  },
  {
   "cell_type": "markdown",
   "id": "b47e9323",
   "metadata": {},
   "source": [
    "**Шаг 3. Проведите исследовательский анализ данных**\n",
    "\n",
    "- Посмотрите, сколько игр выпускалось в разные годы. Важны ли данные за все периоды?\n",
    "- Посмотрите, как менялись продажи по платформам. Выберите платформы с наибольшими суммарными продажами и постройте распределение по годам. За какой характерный срок появляются новые и исчезают старые платформы?\n",
    "- Возьмите данные за соответствующий **актуальный период**. Актуальный период определите самостоятельно в результате исследования предыдущих вопросов. Основной фактор — эти данные помогут построить прогноз на 2017 год.\n",
    "- Не учитывайте в работе данные за **предыдущие годы**.\n",
    "- Какие платформы лидируют по продажам, растут или падают? Выберите несколько потенциально прибыльных платформ.\n",
    "- Постройте график «ящик с усами» по глобальным продажам игр в разбивке по платформам. Опишите результат.\n",
    "- Посмотрите, как влияют на продажи внутри одной популярной платформы отзывы пользователей и критиков. Постройте диаграмму рассеяния и посчитайте корреляцию между отзывами и продажами. Сформулируйте выводы.\n",
    "- Соотнесите выводы с продажами игр на других платформах.\n",
    "- Посмотрите на общее распределение игр по жанрам. Что можно сказать о самых прибыльных жанрах? Выделяются ли жанры с высокими и низкими продажами?"
   ]
  },
  {
   "cell_type": "markdown",
   "id": "b8cff0d7",
   "metadata": {},
   "source": [
    "**Шаг 4. Составьте портрет пользователя каждого региона**\n",
    "\n",
    "- Определите для пользователя каждого региона (NA, EU, JP):\n",
    "- Самые популярные платформы (топ-5). Опишите различия в долях продаж.\n",
    "- Самые популярные жанры (топ-5). Поясните разницу.\n",
    "- Влияет ли рейтинг ESRB на продажи в отдельном регионе?"
   ]
  },
  {
   "cell_type": "markdown",
   "id": "8e296590",
   "metadata": {},
   "source": [
    "**Шаг 5. Проверьте гипотезы**\n",
    "\n",
    "- Средние пользовательские рейтинги платформ Xbox One и PC одинаковые;\n",
    "- Средние пользовательские рейтинги жанров Action (англ. «действие», экшен-игры) и Sports (англ. «спортивные соревнования») разные.  \n",
    "\n",
    "Задайте самостоятельно пороговое значение alpha.  \n",
    "\n",
    "Поясните:\n",
    "- Как вы сформулировали нулевую и альтернативную гипотезы;\n",
    "- Какой критерий применили для проверки гипотез и почему.\n",
    "\n",
    "**Шаг 6. Напишите общий вывод**"
   ]
  },
  {
   "cell_type": "markdown",
   "id": "2c2970dd",
   "metadata": {},
   "source": [
    "## Открываем файл с данными и изучаем общую информацию"
   ]
  },
  {
   "cell_type": "code",
   "execution_count": 142,
   "id": "930f234f",
   "metadata": {},
   "outputs": [],
   "source": [
    "# импортируем нужные библиотеки\n",
    "\n",
    "import pandas as pd\n",
    "import matplotlib.pyplot as plt\n",
    "import numpy as np\n",
    "import seaborn as sns\n",
    "from scipy import stats as st"
   ]
  },
  {
   "cell_type": "code",
   "execution_count": 143,
   "id": "cf866140",
   "metadata": {},
   "outputs": [],
   "source": [
    "# читаем датафрейм\n",
    "\n",
    "try: df1 = pd.read_csv('/Users/Vadim/Documents/!Data/games.csv')\n",
    "except: df1 = pd.read_csv('/datasets/games.csv')"
   ]
  },
  {
   "cell_type": "code",
   "execution_count": 144,
   "id": "f4a3f11d",
   "metadata": {},
   "outputs": [
    {
     "name": "stdout",
     "output_type": "stream",
     "text": [
      "<class 'pandas.core.frame.DataFrame'>\n",
      "RangeIndex: 16715 entries, 0 to 16714\n",
      "Data columns (total 11 columns):\n",
      " #   Column           Non-Null Count  Dtype  \n",
      "---  ------           --------------  -----  \n",
      " 0   Name             16713 non-null  object \n",
      " 1   Platform         16715 non-null  object \n",
      " 2   Year_of_Release  16446 non-null  float64\n",
      " 3   Genre            16713 non-null  object \n",
      " 4   NA_sales         16715 non-null  float64\n",
      " 5   EU_sales         16715 non-null  float64\n",
      " 6   JP_sales         16715 non-null  float64\n",
      " 7   Other_sales      16715 non-null  float64\n",
      " 8   Critic_Score     8137 non-null   float64\n",
      " 9   User_Score       10014 non-null  object \n",
      " 10  Rating           9949 non-null   object \n",
      "dtypes: float64(6), object(5)\n",
      "memory usage: 1.4+ MB\n"
     ]
    }
   ],
   "source": [
    "# получаем общую информацию\n",
    "\n",
    "df1.info()"
   ]
  },
  {
   "cell_type": "code",
   "execution_count": 145,
   "id": "ab59f752",
   "metadata": {},
   "outputs": [
    {
     "data": {
      "text/html": [
       "<div>\n",
       "<style scoped>\n",
       "    .dataframe tbody tr th:only-of-type {\n",
       "        vertical-align: middle;\n",
       "    }\n",
       "\n",
       "    .dataframe tbody tr th {\n",
       "        vertical-align: top;\n",
       "    }\n",
       "\n",
       "    .dataframe thead th {\n",
       "        text-align: right;\n",
       "    }\n",
       "</style>\n",
       "<table border=\"1\" class=\"dataframe\">\n",
       "  <thead>\n",
       "    <tr style=\"text-align: right;\">\n",
       "      <th></th>\n",
       "      <th>Name</th>\n",
       "      <th>Platform</th>\n",
       "      <th>Year_of_Release</th>\n",
       "      <th>Genre</th>\n",
       "      <th>NA_sales</th>\n",
       "      <th>EU_sales</th>\n",
       "      <th>JP_sales</th>\n",
       "      <th>Other_sales</th>\n",
       "      <th>Critic_Score</th>\n",
       "      <th>User_Score</th>\n",
       "      <th>Rating</th>\n",
       "    </tr>\n",
       "  </thead>\n",
       "  <tbody>\n",
       "    <tr>\n",
       "      <th>0</th>\n",
       "      <td>Wii Sports</td>\n",
       "      <td>Wii</td>\n",
       "      <td>2006.0</td>\n",
       "      <td>Sports</td>\n",
       "      <td>41.36</td>\n",
       "      <td>28.96</td>\n",
       "      <td>3.77</td>\n",
       "      <td>8.45</td>\n",
       "      <td>76.0</td>\n",
       "      <td>8</td>\n",
       "      <td>E</td>\n",
       "    </tr>\n",
       "    <tr>\n",
       "      <th>1</th>\n",
       "      <td>Super Mario Bros.</td>\n",
       "      <td>NES</td>\n",
       "      <td>1985.0</td>\n",
       "      <td>Platform</td>\n",
       "      <td>29.08</td>\n",
       "      <td>3.58</td>\n",
       "      <td>6.81</td>\n",
       "      <td>0.77</td>\n",
       "      <td>NaN</td>\n",
       "      <td>NaN</td>\n",
       "      <td>NaN</td>\n",
       "    </tr>\n",
       "    <tr>\n",
       "      <th>2</th>\n",
       "      <td>Mario Kart Wii</td>\n",
       "      <td>Wii</td>\n",
       "      <td>2008.0</td>\n",
       "      <td>Racing</td>\n",
       "      <td>15.68</td>\n",
       "      <td>12.76</td>\n",
       "      <td>3.79</td>\n",
       "      <td>3.29</td>\n",
       "      <td>82.0</td>\n",
       "      <td>8.3</td>\n",
       "      <td>E</td>\n",
       "    </tr>\n",
       "    <tr>\n",
       "      <th>3</th>\n",
       "      <td>Wii Sports Resort</td>\n",
       "      <td>Wii</td>\n",
       "      <td>2009.0</td>\n",
       "      <td>Sports</td>\n",
       "      <td>15.61</td>\n",
       "      <td>10.93</td>\n",
       "      <td>3.28</td>\n",
       "      <td>2.95</td>\n",
       "      <td>80.0</td>\n",
       "      <td>8</td>\n",
       "      <td>E</td>\n",
       "    </tr>\n",
       "    <tr>\n",
       "      <th>4</th>\n",
       "      <td>Pokemon Red/Pokemon Blue</td>\n",
       "      <td>GB</td>\n",
       "      <td>1996.0</td>\n",
       "      <td>Role-Playing</td>\n",
       "      <td>11.27</td>\n",
       "      <td>8.89</td>\n",
       "      <td>10.22</td>\n",
       "      <td>1.00</td>\n",
       "      <td>NaN</td>\n",
       "      <td>NaN</td>\n",
       "      <td>NaN</td>\n",
       "    </tr>\n",
       "    <tr>\n",
       "      <th>5</th>\n",
       "      <td>Tetris</td>\n",
       "      <td>GB</td>\n",
       "      <td>1989.0</td>\n",
       "      <td>Puzzle</td>\n",
       "      <td>23.20</td>\n",
       "      <td>2.26</td>\n",
       "      <td>4.22</td>\n",
       "      <td>0.58</td>\n",
       "      <td>NaN</td>\n",
       "      <td>NaN</td>\n",
       "      <td>NaN</td>\n",
       "    </tr>\n",
       "    <tr>\n",
       "      <th>6</th>\n",
       "      <td>New Super Mario Bros.</td>\n",
       "      <td>DS</td>\n",
       "      <td>2006.0</td>\n",
       "      <td>Platform</td>\n",
       "      <td>11.28</td>\n",
       "      <td>9.14</td>\n",
       "      <td>6.50</td>\n",
       "      <td>2.88</td>\n",
       "      <td>89.0</td>\n",
       "      <td>8.5</td>\n",
       "      <td>E</td>\n",
       "    </tr>\n",
       "    <tr>\n",
       "      <th>7</th>\n",
       "      <td>Wii Play</td>\n",
       "      <td>Wii</td>\n",
       "      <td>2006.0</td>\n",
       "      <td>Misc</td>\n",
       "      <td>13.96</td>\n",
       "      <td>9.18</td>\n",
       "      <td>2.93</td>\n",
       "      <td>2.84</td>\n",
       "      <td>58.0</td>\n",
       "      <td>6.6</td>\n",
       "      <td>E</td>\n",
       "    </tr>\n",
       "    <tr>\n",
       "      <th>8</th>\n",
       "      <td>New Super Mario Bros. Wii</td>\n",
       "      <td>Wii</td>\n",
       "      <td>2009.0</td>\n",
       "      <td>Platform</td>\n",
       "      <td>14.44</td>\n",
       "      <td>6.94</td>\n",
       "      <td>4.70</td>\n",
       "      <td>2.24</td>\n",
       "      <td>87.0</td>\n",
       "      <td>8.4</td>\n",
       "      <td>E</td>\n",
       "    </tr>\n",
       "    <tr>\n",
       "      <th>9</th>\n",
       "      <td>Duck Hunt</td>\n",
       "      <td>NES</td>\n",
       "      <td>1984.0</td>\n",
       "      <td>Shooter</td>\n",
       "      <td>26.93</td>\n",
       "      <td>0.63</td>\n",
       "      <td>0.28</td>\n",
       "      <td>0.47</td>\n",
       "      <td>NaN</td>\n",
       "      <td>NaN</td>\n",
       "      <td>NaN</td>\n",
       "    </tr>\n",
       "  </tbody>\n",
       "</table>\n",
       "</div>"
      ],
      "text/plain": [
       "                        Name Platform  Year_of_Release         Genre  \\\n",
       "0                 Wii Sports      Wii           2006.0        Sports   \n",
       "1          Super Mario Bros.      NES           1985.0      Platform   \n",
       "2             Mario Kart Wii      Wii           2008.0        Racing   \n",
       "3          Wii Sports Resort      Wii           2009.0        Sports   \n",
       "4   Pokemon Red/Pokemon Blue       GB           1996.0  Role-Playing   \n",
       "5                     Tetris       GB           1989.0        Puzzle   \n",
       "6      New Super Mario Bros.       DS           2006.0      Platform   \n",
       "7                   Wii Play      Wii           2006.0          Misc   \n",
       "8  New Super Mario Bros. Wii      Wii           2009.0      Platform   \n",
       "9                  Duck Hunt      NES           1984.0       Shooter   \n",
       "\n",
       "   NA_sales  EU_sales  JP_sales  Other_sales  Critic_Score User_Score Rating  \n",
       "0     41.36     28.96      3.77         8.45          76.0          8      E  \n",
       "1     29.08      3.58      6.81         0.77           NaN        NaN    NaN  \n",
       "2     15.68     12.76      3.79         3.29          82.0        8.3      E  \n",
       "3     15.61     10.93      3.28         2.95          80.0          8      E  \n",
       "4     11.27      8.89     10.22         1.00           NaN        NaN    NaN  \n",
       "5     23.20      2.26      4.22         0.58           NaN        NaN    NaN  \n",
       "6     11.28      9.14      6.50         2.88          89.0        8.5      E  \n",
       "7     13.96      9.18      2.93         2.84          58.0        6.6      E  \n",
       "8     14.44      6.94      4.70         2.24          87.0        8.4      E  \n",
       "9     26.93      0.63      0.28         0.47           NaN        NaN    NaN  "
      ]
     },
     "execution_count": 145,
     "metadata": {},
     "output_type": "execute_result"
    }
   ],
   "source": [
    "# изучим первые строки\n",
    "\n",
    "df1.head(10)"
   ]
  },
  {
   "cell_type": "code",
   "execution_count": 146,
   "id": "56f36e3e",
   "metadata": {
    "scrolled": true
   },
   "outputs": [
    {
     "data": {
      "text/plain": [
       "2008.0    1427\n",
       "2009.0    1426\n",
       "2010.0    1255\n",
       "2007.0    1197\n",
       "2011.0    1136\n",
       "2006.0    1006\n",
       "2005.0     939\n",
       "2002.0     829\n",
       "2003.0     775\n",
       "2004.0     762\n",
       "2012.0     653\n",
       "2015.0     606\n",
       "2014.0     581\n",
       "2013.0     544\n",
       "2016.0     502\n",
       "2001.0     482\n",
       "1998.0     379\n",
       "2000.0     350\n",
       "1999.0     338\n",
       "1997.0     289\n",
       "1996.0     263\n",
       "1995.0     219\n",
       "1994.0     121\n",
       "1993.0      62\n",
       "1981.0      46\n",
       "1992.0      43\n",
       "1991.0      41\n",
       "1982.0      36\n",
       "1986.0      21\n",
       "1989.0      17\n",
       "1983.0      17\n",
       "1987.0      16\n",
       "1990.0      16\n",
       "1988.0      15\n",
       "1984.0      14\n",
       "1985.0      14\n",
       "1980.0       9\n",
       "Name: Year_of_Release, dtype: int64"
      ]
     },
     "execution_count": 146,
     "metadata": {},
     "output_type": "execute_result"
    }
   ],
   "source": [
    "# посмотрим, за какие года есть записи\n",
    "\n",
    "df1['Year_of_Release'].value_counts()"
   ]
  },
  {
   "cell_type": "code",
   "execution_count": 147,
   "id": "aa843393",
   "metadata": {},
   "outputs": [
    {
     "data": {
      "text/plain": [
       "37"
      ]
     },
     "execution_count": 147,
     "metadata": {},
     "output_type": "execute_result"
    }
   ],
   "source": [
    "# и их количество\n",
    "\n",
    "df1['Year_of_Release'].nunique()"
   ]
  },
  {
   "cell_type": "code",
   "execution_count": 148,
   "id": "40287095",
   "metadata": {},
   "outputs": [
    {
     "data": {
      "text/plain": [
       "array([2006., 1985., 2008., 2009., 1996., 1989., 1984., 2005., 1999.,\n",
       "       2007., 2010., 2013., 2004., 1990., 1988., 2002., 2001., 2011.,\n",
       "       1998., 2015., 2012., 2014., 1992., 1997., 1993., 1994., 1982.,\n",
       "       2016., 2003., 1986., 2000.,   nan, 1995., 1991., 1981., 1987.,\n",
       "       1980., 1983.])"
      ]
     },
     "execution_count": 148,
     "metadata": {},
     "output_type": "execute_result"
    }
   ],
   "source": [
    "# видим значение nan\n",
    "\n",
    "df1['Year_of_Release'].unique()"
   ]
  },
  {
   "cell_type": "code",
   "execution_count": 149,
   "id": "b54a518d",
   "metadata": {},
   "outputs": [
    {
     "data": {
      "text/plain": [
       "2016.0"
      ]
     },
     "execution_count": 149,
     "metadata": {},
     "output_type": "execute_result"
    }
   ],
   "source": [
    "# выводим максимальное значение\n",
    "\n",
    "df1['Year_of_Release'].max()"
   ]
  },
  {
   "cell_type": "code",
   "execution_count": 150,
   "id": "deb7b82f",
   "metadata": {},
   "outputs": [
    {
     "data": {
      "text/plain": [
       "1980.0"
      ]
     },
     "execution_count": 150,
     "metadata": {},
     "output_type": "execute_result"
    }
   ],
   "source": [
    "# и минимальное\n",
    "\n",
    "df1['Year_of_Release'].min()"
   ]
  },
  {
   "cell_type": "code",
   "execution_count": 151,
   "id": "847bf25e",
   "metadata": {},
   "outputs": [
    {
     "data": {
      "text/plain": [
       "36"
      ]
     },
     "execution_count": 151,
     "metadata": {},
     "output_type": "execute_result"
    }
   ],
   "source": [
    "# данные с 1980 по 2016 год, плюс значение nan, всё верно\n",
    "\n",
    "2016-1980"
   ]
  },
  {
   "cell_type": "markdown",
   "id": "d370f63c",
   "metadata": {},
   "source": [
    "**Вывод:** Открыли и ознакомились с данными. Названия столбцов нужно привести к нижнему регистру, изменить типы данных. Обнаружены пропуски (столбцы `Critic_Score`, `User_Score`, `Rating`), нужно будет детальнее с ними ознакомиться и решить, как их обработать и стоит ли вообще. Отсутствие данных - тоже информация."
   ]
  },
  {
   "cell_type": "markdown",
   "id": "6d4eb95f",
   "metadata": {},
   "source": [
    "## Подготовим данные"
   ]
  },
  {
   "cell_type": "markdown",
   "id": "dbb9f3a3",
   "metadata": {},
   "source": [
    "### Заменим названия столбцов (приведём к нижнему регистру)"
   ]
  },
  {
   "cell_type": "code",
   "execution_count": 152,
   "id": "7485b95d",
   "metadata": {
    "scrolled": true
   },
   "outputs": [
    {
     "data": {
      "text/plain": [
       "Index(['Name', 'Platform', 'Year_of_Release', 'Genre', 'NA_sales', 'EU_sales',\n",
       "       'JP_sales', 'Other_sales', 'Critic_Score', 'User_Score', 'Rating'],\n",
       "      dtype='object')"
      ]
     },
     "execution_count": 152,
     "metadata": {},
     "output_type": "execute_result"
    }
   ],
   "source": [
    "# выводим список названий колонок\n",
    "\n",
    "df1.columns"
   ]
  },
  {
   "cell_type": "code",
   "execution_count": 153,
   "id": "1414c9b3",
   "metadata": {},
   "outputs": [],
   "source": [
    "# переименовываем, Year_of_Release заменим на более короткое название\n",
    "\n",
    "df = df1.rename(columns = {'Name': 'name',\n",
    "                     'Platform': 'platform',\n",
    "                     'Year_of_Release': 'release_year',\n",
    "                     'Genre': 'genre',\n",
    "                     'NA_sales': 'na_sales',\n",
    "                     'EU_sales': 'eu_sales',\n",
    "                     'JP_sales': 'jp_sales',\n",
    "                     'Other_sales': 'other_sales',\n",
    "                     'Critic_Score': 'critic_score',\n",
    "                     'User_Score': 'user_score',\n",
    "                     'Rating': 'rating'})"
   ]
  },
  {
   "cell_type": "code",
   "execution_count": 154,
   "id": "871b5e88",
   "metadata": {},
   "outputs": [
    {
     "data": {
      "text/plain": [
       "Index(['name', 'platform', 'release_year', 'genre', 'na_sales', 'eu_sales',\n",
       "       'jp_sales', 'other_sales', 'critic_score', 'user_score', 'rating'],\n",
       "      dtype='object')"
      ]
     },
     "execution_count": 154,
     "metadata": {},
     "output_type": "execute_result"
    }
   ],
   "source": [
    "# проверка\n",
    "\n",
    "df.columns"
   ]
  },
  {
   "cell_type": "markdown",
   "id": "7598425c",
   "metadata": {},
   "source": [
    "### Преобразуем данные в нужные типы. Опишем, в каких столбцах заменили тип данных и почему"
   ]
  },
  {
   "cell_type": "code",
   "execution_count": 155,
   "id": "b03482eb",
   "metadata": {},
   "outputs": [
    {
     "data": {
      "text/plain": [
       "name             object\n",
       "platform         object\n",
       "release_year    float64\n",
       "genre            object\n",
       "na_sales        float64\n",
       "eu_sales        float64\n",
       "jp_sales        float64\n",
       "other_sales     float64\n",
       "critic_score    float64\n",
       "user_score       object\n",
       "rating           object\n",
       "dtype: object"
      ]
     },
     "execution_count": 155,
     "metadata": {},
     "output_type": "execute_result"
    }
   ],
   "source": [
    "# выводим типы\n",
    "\n",
    "df.dtypes"
   ]
  },
  {
   "cell_type": "code",
   "execution_count": 156,
   "id": "ab6f8893",
   "metadata": {},
   "outputs": [
    {
     "data": {
      "text/html": [
       "<div>\n",
       "<style scoped>\n",
       "    .dataframe tbody tr th:only-of-type {\n",
       "        vertical-align: middle;\n",
       "    }\n",
       "\n",
       "    .dataframe tbody tr th {\n",
       "        vertical-align: top;\n",
       "    }\n",
       "\n",
       "    .dataframe thead th {\n",
       "        text-align: right;\n",
       "    }\n",
       "</style>\n",
       "<table border=\"1\" class=\"dataframe\">\n",
       "  <thead>\n",
       "    <tr style=\"text-align: right;\">\n",
       "      <th></th>\n",
       "      <th>name</th>\n",
       "      <th>platform</th>\n",
       "      <th>release_year</th>\n",
       "      <th>genre</th>\n",
       "      <th>na_sales</th>\n",
       "      <th>eu_sales</th>\n",
       "      <th>jp_sales</th>\n",
       "      <th>other_sales</th>\n",
       "      <th>critic_score</th>\n",
       "      <th>user_score</th>\n",
       "      <th>rating</th>\n",
       "    </tr>\n",
       "  </thead>\n",
       "  <tbody>\n",
       "    <tr>\n",
       "      <th>0</th>\n",
       "      <td>Wii Sports</td>\n",
       "      <td>Wii</td>\n",
       "      <td>2006.0</td>\n",
       "      <td>Sports</td>\n",
       "      <td>41.36</td>\n",
       "      <td>28.96</td>\n",
       "      <td>3.77</td>\n",
       "      <td>8.45</td>\n",
       "      <td>76.0</td>\n",
       "      <td>8</td>\n",
       "      <td>E</td>\n",
       "    </tr>\n",
       "    <tr>\n",
       "      <th>1</th>\n",
       "      <td>Super Mario Bros.</td>\n",
       "      <td>NES</td>\n",
       "      <td>1985.0</td>\n",
       "      <td>Platform</td>\n",
       "      <td>29.08</td>\n",
       "      <td>3.58</td>\n",
       "      <td>6.81</td>\n",
       "      <td>0.77</td>\n",
       "      <td>NaN</td>\n",
       "      <td>NaN</td>\n",
       "      <td>NaN</td>\n",
       "    </tr>\n",
       "    <tr>\n",
       "      <th>2</th>\n",
       "      <td>Mario Kart Wii</td>\n",
       "      <td>Wii</td>\n",
       "      <td>2008.0</td>\n",
       "      <td>Racing</td>\n",
       "      <td>15.68</td>\n",
       "      <td>12.76</td>\n",
       "      <td>3.79</td>\n",
       "      <td>3.29</td>\n",
       "      <td>82.0</td>\n",
       "      <td>8.3</td>\n",
       "      <td>E</td>\n",
       "    </tr>\n",
       "    <tr>\n",
       "      <th>3</th>\n",
       "      <td>Wii Sports Resort</td>\n",
       "      <td>Wii</td>\n",
       "      <td>2009.0</td>\n",
       "      <td>Sports</td>\n",
       "      <td>15.61</td>\n",
       "      <td>10.93</td>\n",
       "      <td>3.28</td>\n",
       "      <td>2.95</td>\n",
       "      <td>80.0</td>\n",
       "      <td>8</td>\n",
       "      <td>E</td>\n",
       "    </tr>\n",
       "    <tr>\n",
       "      <th>4</th>\n",
       "      <td>Pokemon Red/Pokemon Blue</td>\n",
       "      <td>GB</td>\n",
       "      <td>1996.0</td>\n",
       "      <td>Role-Playing</td>\n",
       "      <td>11.27</td>\n",
       "      <td>8.89</td>\n",
       "      <td>10.22</td>\n",
       "      <td>1.00</td>\n",
       "      <td>NaN</td>\n",
       "      <td>NaN</td>\n",
       "      <td>NaN</td>\n",
       "    </tr>\n",
       "  </tbody>\n",
       "</table>\n",
       "</div>"
      ],
      "text/plain": [
       "                       name platform  release_year         genre  na_sales  \\\n",
       "0                Wii Sports      Wii        2006.0        Sports     41.36   \n",
       "1         Super Mario Bros.      NES        1985.0      Platform     29.08   \n",
       "2            Mario Kart Wii      Wii        2008.0        Racing     15.68   \n",
       "3         Wii Sports Resort      Wii        2009.0        Sports     15.61   \n",
       "4  Pokemon Red/Pokemon Blue       GB        1996.0  Role-Playing     11.27   \n",
       "\n",
       "   eu_sales  jp_sales  other_sales  critic_score user_score rating  \n",
       "0     28.96      3.77         8.45          76.0          8      E  \n",
       "1      3.58      6.81         0.77           NaN        NaN    NaN  \n",
       "2     12.76      3.79         3.29          82.0        8.3      E  \n",
       "3     10.93      3.28         2.95          80.0          8      E  \n",
       "4      8.89     10.22         1.00           NaN        NaN    NaN  "
      ]
     },
     "execution_count": 156,
     "metadata": {},
     "output_type": "execute_result"
    }
   ],
   "source": [
    "# первые строки для наглядности\n",
    "\n",
    "df.head()"
   ]
  },
  {
   "cell_type": "markdown",
   "id": "7d582d39",
   "metadata": {},
   "source": [
    "Тип данных нужно изменить в следующих столбцах: `release_year` и `user_score`. Год это всегда целое число, а оценка юзеров в нашем датафрейме десятичное."
   ]
  },
  {
   "cell_type": "markdown",
   "id": "13ce2362",
   "metadata": {},
   "source": [
    "### Столбец `release_year`"
   ]
  },
  {
   "cell_type": "code",
   "execution_count": 157,
   "id": "9cad7594",
   "metadata": {
    "scrolled": true
   },
   "outputs": [
    {
     "data": {
      "text/plain": [
       "269"
      ]
     },
     "execution_count": 157,
     "metadata": {},
     "output_type": "execute_result"
    }
   ],
   "source": [
    "# проверим перед изменением пропуски\n",
    "\n",
    "df['release_year'].isnull().sum()"
   ]
  },
  {
   "cell_type": "code",
   "execution_count": 158,
   "id": "f763f068",
   "metadata": {},
   "outputs": [],
   "source": [
    "# заполним нулями, удалять не будем\n",
    "\n",
    "df['release_year'] = df['release_year'].fillna(0)"
   ]
  },
  {
   "cell_type": "code",
   "execution_count": 159,
   "id": "0469d0a7",
   "metadata": {},
   "outputs": [],
   "source": [
    "# изменяем тип года\n",
    "\n",
    "df['release_year'] = df['release_year'].astype('int')"
   ]
  },
  {
   "cell_type": "code",
   "execution_count": 160,
   "id": "298086a9",
   "metadata": {},
   "outputs": [
    {
     "name": "stdout",
     "output_type": "stream",
     "text": [
      "<class 'pandas.core.frame.DataFrame'>\n",
      "RangeIndex: 16715 entries, 0 to 16714\n",
      "Data columns (total 11 columns):\n",
      " #   Column        Non-Null Count  Dtype  \n",
      "---  ------        --------------  -----  \n",
      " 0   name          16713 non-null  object \n",
      " 1   platform      16715 non-null  object \n",
      " 2   release_year  16715 non-null  int64  \n",
      " 3   genre         16713 non-null  object \n",
      " 4   na_sales      16715 non-null  float64\n",
      " 5   eu_sales      16715 non-null  float64\n",
      " 6   jp_sales      16715 non-null  float64\n",
      " 7   other_sales   16715 non-null  float64\n",
      " 8   critic_score  8137 non-null   float64\n",
      " 9   user_score    10014 non-null  object \n",
      " 10  rating        9949 non-null   object \n",
      "dtypes: float64(5), int64(1), object(5)\n",
      "memory usage: 1.4+ MB\n"
     ]
    }
   ],
   "source": [
    "# проверка\n",
    "\n",
    "df.info()"
   ]
  },
  {
   "cell_type": "code",
   "execution_count": 161,
   "id": "48371458",
   "metadata": {},
   "outputs": [
    {
     "data": {
      "text/html": [
       "<div>\n",
       "<style scoped>\n",
       "    .dataframe tbody tr th:only-of-type {\n",
       "        vertical-align: middle;\n",
       "    }\n",
       "\n",
       "    .dataframe tbody tr th {\n",
       "        vertical-align: top;\n",
       "    }\n",
       "\n",
       "    .dataframe thead th {\n",
       "        text-align: right;\n",
       "    }\n",
       "</style>\n",
       "<table border=\"1\" class=\"dataframe\">\n",
       "  <thead>\n",
       "    <tr style=\"text-align: right;\">\n",
       "      <th></th>\n",
       "      <th>name</th>\n",
       "      <th>platform</th>\n",
       "      <th>release_year</th>\n",
       "      <th>genre</th>\n",
       "      <th>na_sales</th>\n",
       "      <th>eu_sales</th>\n",
       "      <th>jp_sales</th>\n",
       "      <th>other_sales</th>\n",
       "      <th>critic_score</th>\n",
       "      <th>user_score</th>\n",
       "      <th>rating</th>\n",
       "    </tr>\n",
       "  </thead>\n",
       "  <tbody>\n",
       "    <tr>\n",
       "      <th>0</th>\n",
       "      <td>Wii Sports</td>\n",
       "      <td>Wii</td>\n",
       "      <td>2006</td>\n",
       "      <td>Sports</td>\n",
       "      <td>41.36</td>\n",
       "      <td>28.96</td>\n",
       "      <td>3.77</td>\n",
       "      <td>8.45</td>\n",
       "      <td>76.0</td>\n",
       "      <td>8</td>\n",
       "      <td>E</td>\n",
       "    </tr>\n",
       "    <tr>\n",
       "      <th>1</th>\n",
       "      <td>Super Mario Bros.</td>\n",
       "      <td>NES</td>\n",
       "      <td>1985</td>\n",
       "      <td>Platform</td>\n",
       "      <td>29.08</td>\n",
       "      <td>3.58</td>\n",
       "      <td>6.81</td>\n",
       "      <td>0.77</td>\n",
       "      <td>NaN</td>\n",
       "      <td>NaN</td>\n",
       "      <td>NaN</td>\n",
       "    </tr>\n",
       "    <tr>\n",
       "      <th>2</th>\n",
       "      <td>Mario Kart Wii</td>\n",
       "      <td>Wii</td>\n",
       "      <td>2008</td>\n",
       "      <td>Racing</td>\n",
       "      <td>15.68</td>\n",
       "      <td>12.76</td>\n",
       "      <td>3.79</td>\n",
       "      <td>3.29</td>\n",
       "      <td>82.0</td>\n",
       "      <td>8.3</td>\n",
       "      <td>E</td>\n",
       "    </tr>\n",
       "    <tr>\n",
       "      <th>3</th>\n",
       "      <td>Wii Sports Resort</td>\n",
       "      <td>Wii</td>\n",
       "      <td>2009</td>\n",
       "      <td>Sports</td>\n",
       "      <td>15.61</td>\n",
       "      <td>10.93</td>\n",
       "      <td>3.28</td>\n",
       "      <td>2.95</td>\n",
       "      <td>80.0</td>\n",
       "      <td>8</td>\n",
       "      <td>E</td>\n",
       "    </tr>\n",
       "    <tr>\n",
       "      <th>4</th>\n",
       "      <td>Pokemon Red/Pokemon Blue</td>\n",
       "      <td>GB</td>\n",
       "      <td>1996</td>\n",
       "      <td>Role-Playing</td>\n",
       "      <td>11.27</td>\n",
       "      <td>8.89</td>\n",
       "      <td>10.22</td>\n",
       "      <td>1.00</td>\n",
       "      <td>NaN</td>\n",
       "      <td>NaN</td>\n",
       "      <td>NaN</td>\n",
       "    </tr>\n",
       "  </tbody>\n",
       "</table>\n",
       "</div>"
      ],
      "text/plain": [
       "                       name platform  release_year         genre  na_sales  \\\n",
       "0                Wii Sports      Wii          2006        Sports     41.36   \n",
       "1         Super Mario Bros.      NES          1985      Platform     29.08   \n",
       "2            Mario Kart Wii      Wii          2008        Racing     15.68   \n",
       "3         Wii Sports Resort      Wii          2009        Sports     15.61   \n",
       "4  Pokemon Red/Pokemon Blue       GB          1996  Role-Playing     11.27   \n",
       "\n",
       "   eu_sales  jp_sales  other_sales  critic_score user_score rating  \n",
       "0     28.96      3.77         8.45          76.0          8      E  \n",
       "1      3.58      6.81         0.77           NaN        NaN    NaN  \n",
       "2     12.76      3.79         3.29          82.0        8.3      E  \n",
       "3     10.93      3.28         2.95          80.0          8      E  \n",
       "4      8.89     10.22         1.00           NaN        NaN    NaN  "
      ]
     },
     "execution_count": 161,
     "metadata": {},
     "output_type": "execute_result"
    }
   ],
   "source": [
    "# проверка\n",
    "\n",
    "df.head()"
   ]
  },
  {
   "cell_type": "code",
   "execution_count": 162,
   "id": "ff2b22c6",
   "metadata": {},
   "outputs": [
    {
     "data": {
      "text/html": [
       "<div>\n",
       "<style scoped>\n",
       "    .dataframe tbody tr th:only-of-type {\n",
       "        vertical-align: middle;\n",
       "    }\n",
       "\n",
       "    .dataframe tbody tr th {\n",
       "        vertical-align: top;\n",
       "    }\n",
       "\n",
       "    .dataframe thead th {\n",
       "        text-align: right;\n",
       "    }\n",
       "</style>\n",
       "<table border=\"1\" class=\"dataframe\">\n",
       "  <thead>\n",
       "    <tr style=\"text-align: right;\">\n",
       "      <th></th>\n",
       "      <th>name</th>\n",
       "      <th>platform</th>\n",
       "      <th>release_year</th>\n",
       "      <th>genre</th>\n",
       "      <th>na_sales</th>\n",
       "      <th>eu_sales</th>\n",
       "      <th>jp_sales</th>\n",
       "      <th>other_sales</th>\n",
       "      <th>critic_score</th>\n",
       "      <th>user_score</th>\n",
       "      <th>rating</th>\n",
       "    </tr>\n",
       "  </thead>\n",
       "  <tbody>\n",
       "    <tr>\n",
       "      <th>183</th>\n",
       "      <td>Madden NFL 2004</td>\n",
       "      <td>PS2</td>\n",
       "      <td>0</td>\n",
       "      <td>Sports</td>\n",
       "      <td>4.26</td>\n",
       "      <td>0.26</td>\n",
       "      <td>0.01</td>\n",
       "      <td>0.71</td>\n",
       "      <td>94.0</td>\n",
       "      <td>8.5</td>\n",
       "      <td>E</td>\n",
       "    </tr>\n",
       "    <tr>\n",
       "      <th>377</th>\n",
       "      <td>FIFA Soccer 2004</td>\n",
       "      <td>PS2</td>\n",
       "      <td>0</td>\n",
       "      <td>Sports</td>\n",
       "      <td>0.59</td>\n",
       "      <td>2.36</td>\n",
       "      <td>0.04</td>\n",
       "      <td>0.51</td>\n",
       "      <td>84.0</td>\n",
       "      <td>6.4</td>\n",
       "      <td>E</td>\n",
       "    </tr>\n",
       "    <tr>\n",
       "      <th>456</th>\n",
       "      <td>LEGO Batman: The Videogame</td>\n",
       "      <td>Wii</td>\n",
       "      <td>0</td>\n",
       "      <td>Action</td>\n",
       "      <td>1.80</td>\n",
       "      <td>0.97</td>\n",
       "      <td>0.00</td>\n",
       "      <td>0.29</td>\n",
       "      <td>74.0</td>\n",
       "      <td>7.9</td>\n",
       "      <td>E10+</td>\n",
       "    </tr>\n",
       "    <tr>\n",
       "      <th>475</th>\n",
       "      <td>wwe Smackdown vs. Raw 2006</td>\n",
       "      <td>PS2</td>\n",
       "      <td>0</td>\n",
       "      <td>Fighting</td>\n",
       "      <td>1.57</td>\n",
       "      <td>1.02</td>\n",
       "      <td>0.00</td>\n",
       "      <td>0.41</td>\n",
       "      <td>NaN</td>\n",
       "      <td>NaN</td>\n",
       "      <td>NaN</td>\n",
       "    </tr>\n",
       "    <tr>\n",
       "      <th>609</th>\n",
       "      <td>Space Invaders</td>\n",
       "      <td>2600</td>\n",
       "      <td>0</td>\n",
       "      <td>Shooter</td>\n",
       "      <td>2.36</td>\n",
       "      <td>0.14</td>\n",
       "      <td>0.00</td>\n",
       "      <td>0.03</td>\n",
       "      <td>NaN</td>\n",
       "      <td>NaN</td>\n",
       "      <td>NaN</td>\n",
       "    </tr>\n",
       "    <tr>\n",
       "      <th>...</th>\n",
       "      <td>...</td>\n",
       "      <td>...</td>\n",
       "      <td>...</td>\n",
       "      <td>...</td>\n",
       "      <td>...</td>\n",
       "      <td>...</td>\n",
       "      <td>...</td>\n",
       "      <td>...</td>\n",
       "      <td>...</td>\n",
       "      <td>...</td>\n",
       "      <td>...</td>\n",
       "    </tr>\n",
       "    <tr>\n",
       "      <th>16373</th>\n",
       "      <td>PDC World Championship Darts 2008</td>\n",
       "      <td>PSP</td>\n",
       "      <td>0</td>\n",
       "      <td>Sports</td>\n",
       "      <td>0.01</td>\n",
       "      <td>0.00</td>\n",
       "      <td>0.00</td>\n",
       "      <td>0.00</td>\n",
       "      <td>43.0</td>\n",
       "      <td>tbd</td>\n",
       "      <td>E10+</td>\n",
       "    </tr>\n",
       "    <tr>\n",
       "      <th>16405</th>\n",
       "      <td>Freaky Flyers</td>\n",
       "      <td>GC</td>\n",
       "      <td>0</td>\n",
       "      <td>Racing</td>\n",
       "      <td>0.01</td>\n",
       "      <td>0.00</td>\n",
       "      <td>0.00</td>\n",
       "      <td>0.00</td>\n",
       "      <td>69.0</td>\n",
       "      <td>6.5</td>\n",
       "      <td>T</td>\n",
       "    </tr>\n",
       "    <tr>\n",
       "      <th>16448</th>\n",
       "      <td>Inversion</td>\n",
       "      <td>PC</td>\n",
       "      <td>0</td>\n",
       "      <td>Shooter</td>\n",
       "      <td>0.01</td>\n",
       "      <td>0.00</td>\n",
       "      <td>0.00</td>\n",
       "      <td>0.00</td>\n",
       "      <td>59.0</td>\n",
       "      <td>6.7</td>\n",
       "      <td>M</td>\n",
       "    </tr>\n",
       "    <tr>\n",
       "      <th>16458</th>\n",
       "      <td>Hakuouki: Shinsengumi Kitan</td>\n",
       "      <td>PS3</td>\n",
       "      <td>0</td>\n",
       "      <td>Adventure</td>\n",
       "      <td>0.01</td>\n",
       "      <td>0.00</td>\n",
       "      <td>0.00</td>\n",
       "      <td>0.00</td>\n",
       "      <td>NaN</td>\n",
       "      <td>NaN</td>\n",
       "      <td>NaN</td>\n",
       "    </tr>\n",
       "    <tr>\n",
       "      <th>16522</th>\n",
       "      <td>Virtua Quest</td>\n",
       "      <td>GC</td>\n",
       "      <td>0</td>\n",
       "      <td>Role-Playing</td>\n",
       "      <td>0.01</td>\n",
       "      <td>0.00</td>\n",
       "      <td>0.00</td>\n",
       "      <td>0.00</td>\n",
       "      <td>55.0</td>\n",
       "      <td>5.5</td>\n",
       "      <td>T</td>\n",
       "    </tr>\n",
       "  </tbody>\n",
       "</table>\n",
       "<p>269 rows × 11 columns</p>\n",
       "</div>"
      ],
      "text/plain": [
       "                                    name platform  release_year         genre  \\\n",
       "183                      Madden NFL 2004      PS2             0        Sports   \n",
       "377                     FIFA Soccer 2004      PS2             0        Sports   \n",
       "456           LEGO Batman: The Videogame      Wii             0        Action   \n",
       "475           wwe Smackdown vs. Raw 2006      PS2             0      Fighting   \n",
       "609                       Space Invaders     2600             0       Shooter   \n",
       "...                                  ...      ...           ...           ...   \n",
       "16373  PDC World Championship Darts 2008      PSP             0        Sports   \n",
       "16405                      Freaky Flyers       GC             0        Racing   \n",
       "16448                          Inversion       PC             0       Shooter   \n",
       "16458        Hakuouki: Shinsengumi Kitan      PS3             0     Adventure   \n",
       "16522                       Virtua Quest       GC             0  Role-Playing   \n",
       "\n",
       "       na_sales  eu_sales  jp_sales  other_sales  critic_score user_score  \\\n",
       "183        4.26      0.26      0.01         0.71          94.0        8.5   \n",
       "377        0.59      2.36      0.04         0.51          84.0        6.4   \n",
       "456        1.80      0.97      0.00         0.29          74.0        7.9   \n",
       "475        1.57      1.02      0.00         0.41           NaN        NaN   \n",
       "609        2.36      0.14      0.00         0.03           NaN        NaN   \n",
       "...         ...       ...       ...          ...           ...        ...   \n",
       "16373      0.01      0.00      0.00         0.00          43.0        tbd   \n",
       "16405      0.01      0.00      0.00         0.00          69.0        6.5   \n",
       "16448      0.01      0.00      0.00         0.00          59.0        6.7   \n",
       "16458      0.01      0.00      0.00         0.00           NaN        NaN   \n",
       "16522      0.01      0.00      0.00         0.00          55.0        5.5   \n",
       "\n",
       "      rating  \n",
       "183        E  \n",
       "377        E  \n",
       "456     E10+  \n",
       "475      NaN  \n",
       "609      NaN  \n",
       "...      ...  \n",
       "16373   E10+  \n",
       "16405      T  \n",
       "16448      M  \n",
       "16458    NaN  \n",
       "16522      T  \n",
       "\n",
       "[269 rows x 11 columns]"
      ]
     },
     "execution_count": 162,
     "metadata": {},
     "output_type": "execute_result"
    }
   ],
   "source": [
    "# посмотрим на игры, у которых нет года\n",
    "\n",
    "df[df['release_year'] == 0]"
   ]
  },
  {
   "cell_type": "code",
   "execution_count": 163,
   "id": "f4adff91",
   "metadata": {},
   "outputs": [
    {
     "data": {
      "text/plain": [
       "0.016095255190570215"
      ]
     },
     "execution_count": 163,
     "metadata": {},
     "output_type": "execute_result"
    }
   ],
   "source": [
    "# посчитаем их долю от общего числа\n",
    "\n",
    "269/16713"
   ]
  },
  {
   "cell_type": "markdown",
   "id": "a5195d65",
   "metadata": {},
   "source": [
    "Столбец обработан. По какой-то причине у 269 игр не указан год выпуска. Возможно, причиной была ошибка при выгрузке, либо просто кто-то забыл указать дату, человеческий фактор. \n",
    "Их доля от общего числа незначительна, поэтому просто не будем их учитывать в дальнейшем. Что можно и нужно сделать, так это сообщить об этой проблеме тем, кто делал выгрузку."
   ]
  },
  {
   "cell_type": "code",
   "execution_count": 164,
   "id": "66f5b93e",
   "metadata": {},
   "outputs": [
    {
     "name": "stdout",
     "output_type": "stream",
     "text": [
      "<class 'pandas.core.frame.DataFrame'>\n",
      "Int64Index: 16446 entries, 0 to 16714\n",
      "Data columns (total 11 columns):\n",
      " #   Column        Non-Null Count  Dtype  \n",
      "---  ------        --------------  -----  \n",
      " 0   name          16444 non-null  object \n",
      " 1   platform      16446 non-null  object \n",
      " 2   release_year  16446 non-null  int64  \n",
      " 3   genre         16444 non-null  object \n",
      " 4   na_sales      16446 non-null  float64\n",
      " 5   eu_sales      16446 non-null  float64\n",
      " 6   jp_sales      16446 non-null  float64\n",
      " 7   other_sales   16446 non-null  float64\n",
      " 8   critic_score  7983 non-null   float64\n",
      " 9   user_score    9839 non-null   object \n",
      " 10  rating        9768 non-null   object \n",
      "dtypes: float64(5), int64(1), object(5)\n",
      "memory usage: 1.5+ MB\n"
     ]
    }
   ],
   "source": [
    "# для дальнейшей работы уберём эти строки\n",
    "\n",
    "df = df[df['release_year'] > 0]\n",
    "df.info()"
   ]
  },
  {
   "cell_type": "markdown",
   "id": "e97c2912",
   "metadata": {},
   "source": [
    "### Столбец `user_score`"
   ]
  },
  {
   "cell_type": "code",
   "execution_count": 165,
   "id": "3be9095a",
   "metadata": {
    "scrolled": true
   },
   "outputs": [
    {
     "data": {
      "text/plain": [
       "array(['0', '0.2', '0.3', '0.5', '0.6', '0.7', '0.9', '1', '1.1', '1.2',\n",
       "       '1.3', '1.4', '1.5', '1.6', '1.7', '1.8', '1.9', '2', '2.1', '2.2',\n",
       "       '2.3', '2.4', '2.5', '2.6', '2.7', '2.8', '2.9', '3', '3.1', '3.2',\n",
       "       '3.3', '3.4', '3.5', '3.6', '3.7', '3.8', '3.9', '4', '4.1', '4.2',\n",
       "       '4.3', '4.4', '4.5', '4.6', '4.7', '4.8', '4.9', '5', '5.1', '5.2',\n",
       "       '5.3', '5.4', '5.5', '5.6', '5.7', '5.8', '5.9', '6', '6.1', '6.2',\n",
       "       '6.3', '6.4', '6.5', '6.6', '6.7', '6.8', '6.9', '7', '7.1', '7.2',\n",
       "       '7.3', '7.4', '7.5', '7.6', '7.7', '7.8', '7.9', '8', '8.1', '8.2',\n",
       "       '8.3', '8.4', '8.5', '8.6', '8.7', '8.8', '8.9', '9', '9.1', '9.2',\n",
       "       '9.3', '9.4', '9.5', '9.6', '9.7', 'tbd', nan], dtype=object)"
      ]
     },
     "execution_count": 165,
     "metadata": {},
     "output_type": "execute_result"
    }
   ],
   "source": [
    "# посмотрим на спектр оценок\n",
    "\n",
    "df['user_score'].sort_values().unique()"
   ]
  },
  {
   "cell_type": "code",
   "execution_count": 166,
   "id": "233954bf",
   "metadata": {},
   "outputs": [
    {
     "data": {
      "text/plain": [
       "6607"
      ]
     },
     "execution_count": 166,
     "metadata": {},
     "output_type": "execute_result"
    }
   ],
   "source": [
    "# проверим перед изменением пропуски\n",
    "\n",
    "df['user_score'].isnull().sum()"
   ]
  },
  {
   "cell_type": "code",
   "execution_count": 167,
   "id": "454357d8",
   "metadata": {
    "scrolled": true
   },
   "outputs": [
    {
     "data": {
      "text/html": [
       "<div>\n",
       "<style scoped>\n",
       "    .dataframe tbody tr th:only-of-type {\n",
       "        vertical-align: middle;\n",
       "    }\n",
       "\n",
       "    .dataframe tbody tr th {\n",
       "        vertical-align: top;\n",
       "    }\n",
       "\n",
       "    .dataframe thead th {\n",
       "        text-align: right;\n",
       "    }\n",
       "</style>\n",
       "<table border=\"1\" class=\"dataframe\">\n",
       "  <thead>\n",
       "    <tr style=\"text-align: right;\">\n",
       "      <th></th>\n",
       "      <th>name</th>\n",
       "      <th>platform</th>\n",
       "      <th>release_year</th>\n",
       "      <th>genre</th>\n",
       "      <th>na_sales</th>\n",
       "      <th>eu_sales</th>\n",
       "      <th>jp_sales</th>\n",
       "      <th>other_sales</th>\n",
       "      <th>critic_score</th>\n",
       "      <th>user_score</th>\n",
       "      <th>rating</th>\n",
       "    </tr>\n",
       "  </thead>\n",
       "  <tbody>\n",
       "    <tr>\n",
       "      <th>119</th>\n",
       "      <td>Zumba Fitness</td>\n",
       "      <td>Wii</td>\n",
       "      <td>2010</td>\n",
       "      <td>Sports</td>\n",
       "      <td>3.45</td>\n",
       "      <td>2.59</td>\n",
       "      <td>0.0</td>\n",
       "      <td>0.66</td>\n",
       "      <td>NaN</td>\n",
       "      <td>tbd</td>\n",
       "      <td>E</td>\n",
       "    </tr>\n",
       "    <tr>\n",
       "      <th>301</th>\n",
       "      <td>Namco Museum: 50th Anniversary</td>\n",
       "      <td>PS2</td>\n",
       "      <td>2005</td>\n",
       "      <td>Misc</td>\n",
       "      <td>2.08</td>\n",
       "      <td>1.35</td>\n",
       "      <td>0.0</td>\n",
       "      <td>0.54</td>\n",
       "      <td>61.0</td>\n",
       "      <td>tbd</td>\n",
       "      <td>E10+</td>\n",
       "    </tr>\n",
       "    <tr>\n",
       "      <th>520</th>\n",
       "      <td>Zumba Fitness 2</td>\n",
       "      <td>Wii</td>\n",
       "      <td>2011</td>\n",
       "      <td>Sports</td>\n",
       "      <td>1.51</td>\n",
       "      <td>1.03</td>\n",
       "      <td>0.0</td>\n",
       "      <td>0.27</td>\n",
       "      <td>NaN</td>\n",
       "      <td>tbd</td>\n",
       "      <td>T</td>\n",
       "    </tr>\n",
       "    <tr>\n",
       "      <th>645</th>\n",
       "      <td>uDraw Studio</td>\n",
       "      <td>Wii</td>\n",
       "      <td>2010</td>\n",
       "      <td>Misc</td>\n",
       "      <td>1.65</td>\n",
       "      <td>0.57</td>\n",
       "      <td>0.0</td>\n",
       "      <td>0.20</td>\n",
       "      <td>71.0</td>\n",
       "      <td>tbd</td>\n",
       "      <td>E</td>\n",
       "    </tr>\n",
       "    <tr>\n",
       "      <th>718</th>\n",
       "      <td>Just Dance Kids</td>\n",
       "      <td>Wii</td>\n",
       "      <td>2010</td>\n",
       "      <td>Misc</td>\n",
       "      <td>1.52</td>\n",
       "      <td>0.54</td>\n",
       "      <td>0.0</td>\n",
       "      <td>0.18</td>\n",
       "      <td>NaN</td>\n",
       "      <td>tbd</td>\n",
       "      <td>E</td>\n",
       "    </tr>\n",
       "    <tr>\n",
       "      <th>...</th>\n",
       "      <td>...</td>\n",
       "      <td>...</td>\n",
       "      <td>...</td>\n",
       "      <td>...</td>\n",
       "      <td>...</td>\n",
       "      <td>...</td>\n",
       "      <td>...</td>\n",
       "      <td>...</td>\n",
       "      <td>...</td>\n",
       "      <td>...</td>\n",
       "      <td>...</td>\n",
       "    </tr>\n",
       "    <tr>\n",
       "      <th>16695</th>\n",
       "      <td>Planet Monsters</td>\n",
       "      <td>GBA</td>\n",
       "      <td>2001</td>\n",
       "      <td>Action</td>\n",
       "      <td>0.01</td>\n",
       "      <td>0.00</td>\n",
       "      <td>0.0</td>\n",
       "      <td>0.00</td>\n",
       "      <td>67.0</td>\n",
       "      <td>tbd</td>\n",
       "      <td>E</td>\n",
       "    </tr>\n",
       "    <tr>\n",
       "      <th>16697</th>\n",
       "      <td>Bust-A-Move 3000</td>\n",
       "      <td>GC</td>\n",
       "      <td>2003</td>\n",
       "      <td>Puzzle</td>\n",
       "      <td>0.01</td>\n",
       "      <td>0.00</td>\n",
       "      <td>0.0</td>\n",
       "      <td>0.00</td>\n",
       "      <td>53.0</td>\n",
       "      <td>tbd</td>\n",
       "      <td>E</td>\n",
       "    </tr>\n",
       "    <tr>\n",
       "      <th>16698</th>\n",
       "      <td>Mega Brain Boost</td>\n",
       "      <td>DS</td>\n",
       "      <td>2008</td>\n",
       "      <td>Puzzle</td>\n",
       "      <td>0.01</td>\n",
       "      <td>0.00</td>\n",
       "      <td>0.0</td>\n",
       "      <td>0.00</td>\n",
       "      <td>48.0</td>\n",
       "      <td>tbd</td>\n",
       "      <td>E</td>\n",
       "    </tr>\n",
       "    <tr>\n",
       "      <th>16704</th>\n",
       "      <td>Plushees</td>\n",
       "      <td>DS</td>\n",
       "      <td>2008</td>\n",
       "      <td>Simulation</td>\n",
       "      <td>0.01</td>\n",
       "      <td>0.00</td>\n",
       "      <td>0.0</td>\n",
       "      <td>0.00</td>\n",
       "      <td>NaN</td>\n",
       "      <td>tbd</td>\n",
       "      <td>E</td>\n",
       "    </tr>\n",
       "    <tr>\n",
       "      <th>16706</th>\n",
       "      <td>Men in Black II: Alien Escape</td>\n",
       "      <td>GC</td>\n",
       "      <td>2003</td>\n",
       "      <td>Shooter</td>\n",
       "      <td>0.01</td>\n",
       "      <td>0.00</td>\n",
       "      <td>0.0</td>\n",
       "      <td>0.00</td>\n",
       "      <td>NaN</td>\n",
       "      <td>tbd</td>\n",
       "      <td>T</td>\n",
       "    </tr>\n",
       "  </tbody>\n",
       "</table>\n",
       "<p>2376 rows × 11 columns</p>\n",
       "</div>"
      ],
      "text/plain": [
       "                                 name platform  release_year       genre  \\\n",
       "119                     Zumba Fitness      Wii          2010      Sports   \n",
       "301    Namco Museum: 50th Anniversary      PS2          2005        Misc   \n",
       "520                   Zumba Fitness 2      Wii          2011      Sports   \n",
       "645                      uDraw Studio      Wii          2010        Misc   \n",
       "718                   Just Dance Kids      Wii          2010        Misc   \n",
       "...                               ...      ...           ...         ...   \n",
       "16695                 Planet Monsters      GBA          2001      Action   \n",
       "16697                Bust-A-Move 3000       GC          2003      Puzzle   \n",
       "16698                Mega Brain Boost       DS          2008      Puzzle   \n",
       "16704                        Plushees       DS          2008  Simulation   \n",
       "16706   Men in Black II: Alien Escape       GC          2003     Shooter   \n",
       "\n",
       "       na_sales  eu_sales  jp_sales  other_sales  critic_score user_score  \\\n",
       "119        3.45      2.59       0.0         0.66           NaN        tbd   \n",
       "301        2.08      1.35       0.0         0.54          61.0        tbd   \n",
       "520        1.51      1.03       0.0         0.27           NaN        tbd   \n",
       "645        1.65      0.57       0.0         0.20          71.0        tbd   \n",
       "718        1.52      0.54       0.0         0.18           NaN        tbd   \n",
       "...         ...       ...       ...          ...           ...        ...   \n",
       "16695      0.01      0.00       0.0         0.00          67.0        tbd   \n",
       "16697      0.01      0.00       0.0         0.00          53.0        tbd   \n",
       "16698      0.01      0.00       0.0         0.00          48.0        tbd   \n",
       "16704      0.01      0.00       0.0         0.00           NaN        tbd   \n",
       "16706      0.01      0.00       0.0         0.00           NaN        tbd   \n",
       "\n",
       "      rating  \n",
       "119        E  \n",
       "301     E10+  \n",
       "520        T  \n",
       "645        E  \n",
       "718        E  \n",
       "...      ...  \n",
       "16695      E  \n",
       "16697      E  \n",
       "16698      E  \n",
       "16704      E  \n",
       "16706      T  \n",
       "\n",
       "[2376 rows x 11 columns]"
      ]
     },
     "execution_count": 167,
     "metadata": {},
     "output_type": "execute_result"
    }
   ],
   "source": [
    "# посмотрим на игры со значением tbd\n",
    "\n",
    "df[df['user_score'] == 'tbd']"
   ]
  },
  {
   "cell_type": "markdown",
   "id": "ca21910f",
   "metadata": {},
   "source": [
    "Поясним, что такое tbd.  \n",
    "To Be Determined, то есть \"Будет определено\". Очень часто подобное сокращение можно встретить в анонсах компьютерных игр в графе \"Дата выхода\". Здесь же мы видим такое обозначение в столбце с оценкой юзеров, кроме того, оно стоит у старых игр, 2001 года, например. Возможно, они просто добавлены в базу данных недавно. Но, так или иначе, в этом случае нет разницы между nan и tbd, это отсутствие оценки, заменим оба эти значения на ноль.  \n",
    "Но, на всякий случай, если нам вдруг для чего-то понадобятся игры, которые были со значением tbd, сохраним их в отдельный датафрейм."
   ]
  },
  {
   "cell_type": "code",
   "execution_count": 168,
   "id": "3f03a5cb",
   "metadata": {},
   "outputs": [],
   "source": [
    "# создаём новый датафрейм с копией\n",
    "\n",
    "tbd_games = df[df['user_score'] == 'tbd'].copy(deep=True)"
   ]
  },
  {
   "cell_type": "code",
   "execution_count": 169,
   "id": "90fca10c",
   "metadata": {
    "scrolled": true
   },
   "outputs": [
    {
     "data": {
      "text/html": [
       "<div>\n",
       "<style scoped>\n",
       "    .dataframe tbody tr th:only-of-type {\n",
       "        vertical-align: middle;\n",
       "    }\n",
       "\n",
       "    .dataframe tbody tr th {\n",
       "        vertical-align: top;\n",
       "    }\n",
       "\n",
       "    .dataframe thead th {\n",
       "        text-align: right;\n",
       "    }\n",
       "</style>\n",
       "<table border=\"1\" class=\"dataframe\">\n",
       "  <thead>\n",
       "    <tr style=\"text-align: right;\">\n",
       "      <th></th>\n",
       "      <th>name</th>\n",
       "      <th>platform</th>\n",
       "      <th>release_year</th>\n",
       "      <th>genre</th>\n",
       "      <th>na_sales</th>\n",
       "      <th>eu_sales</th>\n",
       "      <th>jp_sales</th>\n",
       "      <th>other_sales</th>\n",
       "      <th>critic_score</th>\n",
       "      <th>user_score</th>\n",
       "      <th>rating</th>\n",
       "    </tr>\n",
       "  </thead>\n",
       "  <tbody>\n",
       "    <tr>\n",
       "      <th>119</th>\n",
       "      <td>Zumba Fitness</td>\n",
       "      <td>Wii</td>\n",
       "      <td>2010</td>\n",
       "      <td>Sports</td>\n",
       "      <td>3.45</td>\n",
       "      <td>2.59</td>\n",
       "      <td>0.0</td>\n",
       "      <td>0.66</td>\n",
       "      <td>NaN</td>\n",
       "      <td>tbd</td>\n",
       "      <td>E</td>\n",
       "    </tr>\n",
       "    <tr>\n",
       "      <th>301</th>\n",
       "      <td>Namco Museum: 50th Anniversary</td>\n",
       "      <td>PS2</td>\n",
       "      <td>2005</td>\n",
       "      <td>Misc</td>\n",
       "      <td>2.08</td>\n",
       "      <td>1.35</td>\n",
       "      <td>0.0</td>\n",
       "      <td>0.54</td>\n",
       "      <td>61.0</td>\n",
       "      <td>tbd</td>\n",
       "      <td>E10+</td>\n",
       "    </tr>\n",
       "    <tr>\n",
       "      <th>520</th>\n",
       "      <td>Zumba Fitness 2</td>\n",
       "      <td>Wii</td>\n",
       "      <td>2011</td>\n",
       "      <td>Sports</td>\n",
       "      <td>1.51</td>\n",
       "      <td>1.03</td>\n",
       "      <td>0.0</td>\n",
       "      <td>0.27</td>\n",
       "      <td>NaN</td>\n",
       "      <td>tbd</td>\n",
       "      <td>T</td>\n",
       "    </tr>\n",
       "    <tr>\n",
       "      <th>645</th>\n",
       "      <td>uDraw Studio</td>\n",
       "      <td>Wii</td>\n",
       "      <td>2010</td>\n",
       "      <td>Misc</td>\n",
       "      <td>1.65</td>\n",
       "      <td>0.57</td>\n",
       "      <td>0.0</td>\n",
       "      <td>0.20</td>\n",
       "      <td>71.0</td>\n",
       "      <td>tbd</td>\n",
       "      <td>E</td>\n",
       "    </tr>\n",
       "    <tr>\n",
       "      <th>718</th>\n",
       "      <td>Just Dance Kids</td>\n",
       "      <td>Wii</td>\n",
       "      <td>2010</td>\n",
       "      <td>Misc</td>\n",
       "      <td>1.52</td>\n",
       "      <td>0.54</td>\n",
       "      <td>0.0</td>\n",
       "      <td>0.18</td>\n",
       "      <td>NaN</td>\n",
       "      <td>tbd</td>\n",
       "      <td>E</td>\n",
       "    </tr>\n",
       "    <tr>\n",
       "      <th>...</th>\n",
       "      <td>...</td>\n",
       "      <td>...</td>\n",
       "      <td>...</td>\n",
       "      <td>...</td>\n",
       "      <td>...</td>\n",
       "      <td>...</td>\n",
       "      <td>...</td>\n",
       "      <td>...</td>\n",
       "      <td>...</td>\n",
       "      <td>...</td>\n",
       "      <td>...</td>\n",
       "    </tr>\n",
       "    <tr>\n",
       "      <th>16695</th>\n",
       "      <td>Planet Monsters</td>\n",
       "      <td>GBA</td>\n",
       "      <td>2001</td>\n",
       "      <td>Action</td>\n",
       "      <td>0.01</td>\n",
       "      <td>0.00</td>\n",
       "      <td>0.0</td>\n",
       "      <td>0.00</td>\n",
       "      <td>67.0</td>\n",
       "      <td>tbd</td>\n",
       "      <td>E</td>\n",
       "    </tr>\n",
       "    <tr>\n",
       "      <th>16697</th>\n",
       "      <td>Bust-A-Move 3000</td>\n",
       "      <td>GC</td>\n",
       "      <td>2003</td>\n",
       "      <td>Puzzle</td>\n",
       "      <td>0.01</td>\n",
       "      <td>0.00</td>\n",
       "      <td>0.0</td>\n",
       "      <td>0.00</td>\n",
       "      <td>53.0</td>\n",
       "      <td>tbd</td>\n",
       "      <td>E</td>\n",
       "    </tr>\n",
       "    <tr>\n",
       "      <th>16698</th>\n",
       "      <td>Mega Brain Boost</td>\n",
       "      <td>DS</td>\n",
       "      <td>2008</td>\n",
       "      <td>Puzzle</td>\n",
       "      <td>0.01</td>\n",
       "      <td>0.00</td>\n",
       "      <td>0.0</td>\n",
       "      <td>0.00</td>\n",
       "      <td>48.0</td>\n",
       "      <td>tbd</td>\n",
       "      <td>E</td>\n",
       "    </tr>\n",
       "    <tr>\n",
       "      <th>16704</th>\n",
       "      <td>Plushees</td>\n",
       "      <td>DS</td>\n",
       "      <td>2008</td>\n",
       "      <td>Simulation</td>\n",
       "      <td>0.01</td>\n",
       "      <td>0.00</td>\n",
       "      <td>0.0</td>\n",
       "      <td>0.00</td>\n",
       "      <td>NaN</td>\n",
       "      <td>tbd</td>\n",
       "      <td>E</td>\n",
       "    </tr>\n",
       "    <tr>\n",
       "      <th>16706</th>\n",
       "      <td>Men in Black II: Alien Escape</td>\n",
       "      <td>GC</td>\n",
       "      <td>2003</td>\n",
       "      <td>Shooter</td>\n",
       "      <td>0.01</td>\n",
       "      <td>0.00</td>\n",
       "      <td>0.0</td>\n",
       "      <td>0.00</td>\n",
       "      <td>NaN</td>\n",
       "      <td>tbd</td>\n",
       "      <td>T</td>\n",
       "    </tr>\n",
       "  </tbody>\n",
       "</table>\n",
       "<p>2376 rows × 11 columns</p>\n",
       "</div>"
      ],
      "text/plain": [
       "                                 name platform  release_year       genre  \\\n",
       "119                     Zumba Fitness      Wii          2010      Sports   \n",
       "301    Namco Museum: 50th Anniversary      PS2          2005        Misc   \n",
       "520                   Zumba Fitness 2      Wii          2011      Sports   \n",
       "645                      uDraw Studio      Wii          2010        Misc   \n",
       "718                   Just Dance Kids      Wii          2010        Misc   \n",
       "...                               ...      ...           ...         ...   \n",
       "16695                 Planet Monsters      GBA          2001      Action   \n",
       "16697                Bust-A-Move 3000       GC          2003      Puzzle   \n",
       "16698                Mega Brain Boost       DS          2008      Puzzle   \n",
       "16704                        Plushees       DS          2008  Simulation   \n",
       "16706   Men in Black II: Alien Escape       GC          2003     Shooter   \n",
       "\n",
       "       na_sales  eu_sales  jp_sales  other_sales  critic_score user_score  \\\n",
       "119        3.45      2.59       0.0         0.66           NaN        tbd   \n",
       "301        2.08      1.35       0.0         0.54          61.0        tbd   \n",
       "520        1.51      1.03       0.0         0.27           NaN        tbd   \n",
       "645        1.65      0.57       0.0         0.20          71.0        tbd   \n",
       "718        1.52      0.54       0.0         0.18           NaN        tbd   \n",
       "...         ...       ...       ...          ...           ...        ...   \n",
       "16695      0.01      0.00       0.0         0.00          67.0        tbd   \n",
       "16697      0.01      0.00       0.0         0.00          53.0        tbd   \n",
       "16698      0.01      0.00       0.0         0.00          48.0        tbd   \n",
       "16704      0.01      0.00       0.0         0.00           NaN        tbd   \n",
       "16706      0.01      0.00       0.0         0.00           NaN        tbd   \n",
       "\n",
       "      rating  \n",
       "119        E  \n",
       "301     E10+  \n",
       "520        T  \n",
       "645        E  \n",
       "718        E  \n",
       "...      ...  \n",
       "16695      E  \n",
       "16697      E  \n",
       "16698      E  \n",
       "16704      E  \n",
       "16706      T  \n",
       "\n",
       "[2376 rows x 11 columns]"
      ]
     },
     "execution_count": 169,
     "metadata": {},
     "output_type": "execute_result"
    }
   ],
   "source": [
    "# проверка\n",
    "\n",
    "tbd_games"
   ]
  },
  {
   "cell_type": "markdown",
   "id": "cb548742",
   "metadata": {},
   "source": [
    "Копия сделана, можно обработать пропуски."
   ]
  },
  {
   "cell_type": "code",
   "execution_count": 170,
   "id": "d265cd8d",
   "metadata": {},
   "outputs": [],
   "source": [
    "# заменяем nan\n",
    "\n",
    "df['user_score'] = df['user_score'].fillna(0)"
   ]
  },
  {
   "cell_type": "code",
   "execution_count": 171,
   "id": "0715e1b0",
   "metadata": {},
   "outputs": [
    {
     "data": {
      "text/plain": [
       "0"
      ]
     },
     "execution_count": 171,
     "metadata": {},
     "output_type": "execute_result"
    }
   ],
   "source": [
    "# проверка\n",
    "\n",
    "df['user_score'].isnull().sum()"
   ]
  },
  {
   "cell_type": "code",
   "execution_count": 172,
   "id": "6e65f3c6",
   "metadata": {},
   "outputs": [],
   "source": [
    "# заменяем tbd\n",
    "\n",
    "df['user_score'] = df['user_score'].replace('tbd', 0)"
   ]
  },
  {
   "cell_type": "code",
   "execution_count": 173,
   "id": "90a4a216",
   "metadata": {},
   "outputs": [
    {
     "data": {
      "text/html": [
       "<div>\n",
       "<style scoped>\n",
       "    .dataframe tbody tr th:only-of-type {\n",
       "        vertical-align: middle;\n",
       "    }\n",
       "\n",
       "    .dataframe tbody tr th {\n",
       "        vertical-align: top;\n",
       "    }\n",
       "\n",
       "    .dataframe thead th {\n",
       "        text-align: right;\n",
       "    }\n",
       "</style>\n",
       "<table border=\"1\" class=\"dataframe\">\n",
       "  <thead>\n",
       "    <tr style=\"text-align: right;\">\n",
       "      <th></th>\n",
       "      <th>name</th>\n",
       "      <th>platform</th>\n",
       "      <th>release_year</th>\n",
       "      <th>genre</th>\n",
       "      <th>na_sales</th>\n",
       "      <th>eu_sales</th>\n",
       "      <th>jp_sales</th>\n",
       "      <th>other_sales</th>\n",
       "      <th>critic_score</th>\n",
       "      <th>user_score</th>\n",
       "      <th>rating</th>\n",
       "    </tr>\n",
       "  </thead>\n",
       "  <tbody>\n",
       "  </tbody>\n",
       "</table>\n",
       "</div>"
      ],
      "text/plain": [
       "Empty DataFrame\n",
       "Columns: [name, platform, release_year, genre, na_sales, eu_sales, jp_sales, other_sales, critic_score, user_score, rating]\n",
       "Index: []"
      ]
     },
     "execution_count": 173,
     "metadata": {},
     "output_type": "execute_result"
    }
   ],
   "source": [
    "# проверка\n",
    "\n",
    "df[df['user_score'] == 'tbd']"
   ]
  },
  {
   "cell_type": "code",
   "execution_count": 174,
   "id": "46d93e91",
   "metadata": {},
   "outputs": [],
   "source": [
    "# и меняем тип данных\n",
    "\n",
    "df['user_score'] = df['user_score'].astype('float')"
   ]
  },
  {
   "cell_type": "code",
   "execution_count": 175,
   "id": "dee6581c",
   "metadata": {},
   "outputs": [
    {
     "data": {
      "text/plain": [
       "array([0. , 0.2, 0.3, 0.5, 0.6, 0.7, 0.9, 1. , 1.1, 1.2, 1.3, 1.4, 1.5,\n",
       "       1.6, 1.7, 1.8, 1.9, 2. , 2.1, 2.2, 2.3, 2.4, 2.5, 2.6, 2.7, 2.8,\n",
       "       2.9, 3. , 3.1, 3.2, 3.3, 3.4, 3.5, 3.6, 3.7, 3.8, 3.9, 4. , 4.1,\n",
       "       4.2, 4.3, 4.4, 4.5, 4.6, 4.7, 4.8, 4.9, 5. , 5.1, 5.2, 5.3, 5.4,\n",
       "       5.5, 5.6, 5.7, 5.8, 5.9, 6. , 6.1, 6.2, 6.3, 6.4, 6.5, 6.6, 6.7,\n",
       "       6.8, 6.9, 7. , 7.1, 7.2, 7.3, 7.4, 7.5, 7.6, 7.7, 7.8, 7.9, 8. ,\n",
       "       8.1, 8.2, 8.3, 8.4, 8.5, 8.6, 8.7, 8.8, 8.9, 9. , 9.1, 9.2, 9.3,\n",
       "       9.4, 9.5, 9.6, 9.7])"
      ]
     },
     "execution_count": 175,
     "metadata": {},
     "output_type": "execute_result"
    }
   ],
   "source": [
    "# проверка\n",
    "\n",
    "df['user_score'].sort_values().unique()"
   ]
  },
  {
   "cell_type": "code",
   "execution_count": 176,
   "id": "8240e3ad",
   "metadata": {},
   "outputs": [
    {
     "name": "stdout",
     "output_type": "stream",
     "text": [
      "<class 'pandas.core.frame.DataFrame'>\n",
      "Int64Index: 16446 entries, 0 to 16714\n",
      "Data columns (total 11 columns):\n",
      " #   Column        Non-Null Count  Dtype  \n",
      "---  ------        --------------  -----  \n",
      " 0   name          16444 non-null  object \n",
      " 1   platform      16446 non-null  object \n",
      " 2   release_year  16446 non-null  int64  \n",
      " 3   genre         16444 non-null  object \n",
      " 4   na_sales      16446 non-null  float64\n",
      " 5   eu_sales      16446 non-null  float64\n",
      " 6   jp_sales      16446 non-null  float64\n",
      " 7   other_sales   16446 non-null  float64\n",
      " 8   critic_score  7983 non-null   float64\n",
      " 9   user_score    16446 non-null  float64\n",
      " 10  rating        9768 non-null   object \n",
      "dtypes: float64(6), int64(1), object(4)\n",
      "memory usage: 1.5+ MB\n"
     ]
    }
   ],
   "source": [
    "df.info()"
   ]
  },
  {
   "cell_type": "markdown",
   "id": "d1580bcf",
   "metadata": {},
   "source": [
    "Столбец обработан, пропуски заполнены, тип данных изменён."
   ]
  },
  {
   "cell_type": "markdown",
   "id": "ee6937a3",
   "metadata": {},
   "source": [
    "### Столбец `platform`"
   ]
  },
  {
   "cell_type": "code",
   "execution_count": 177,
   "id": "0ce557c6",
   "metadata": {},
   "outputs": [
    {
     "data": {
      "text/plain": [
       "PS2     2127\n",
       "DS      2121\n",
       "PS3     1306\n",
       "Wii     1286\n",
       "X360    1232\n",
       "PSP     1193\n",
       "PS      1190\n",
       "PC       957\n",
       "GBA      811\n",
       "XB       803\n",
       "GC       542\n",
       "3DS      512\n",
       "PSV      429\n",
       "PS4      392\n",
       "N64      316\n",
       "XOne     247\n",
       "SNES     239\n",
       "SAT      173\n",
       "WiiU     147\n",
       "2600     116\n",
       "NES       98\n",
       "GB        97\n",
       "DC        52\n",
       "GEN       29\n",
       "NG        12\n",
       "WS         6\n",
       "SCD        6\n",
       "3DO        3\n",
       "TG16       2\n",
       "PCFX       1\n",
       "GG         1\n",
       "Name: platform, dtype: int64"
      ]
     },
     "execution_count": 177,
     "metadata": {},
     "output_type": "execute_result"
    }
   ],
   "source": [
    "df['platform'].value_counts()"
   ]
  },
  {
   "cell_type": "markdown",
   "id": "7d82bc18",
   "metadata": {},
   "source": [
    "Столбец в порядке."
   ]
  },
  {
   "cell_type": "markdown",
   "id": "aa74efaa",
   "metadata": {},
   "source": [
    "### Столбец `genre`"
   ]
  },
  {
   "cell_type": "code",
   "execution_count": 178,
   "id": "25e67a89",
   "metadata": {
    "scrolled": false
   },
   "outputs": [
    {
     "data": {
      "text/plain": [
       "Action          3307\n",
       "Sports          2306\n",
       "Misc            1721\n",
       "Role-Playing    1481\n",
       "Shooter         1296\n",
       "Adventure       1293\n",
       "Racing          1226\n",
       "Platform         878\n",
       "Simulation       857\n",
       "Fighting         837\n",
       "Strategy         673\n",
       "Puzzle           569\n",
       "Name: genre, dtype: int64"
      ]
     },
     "execution_count": 178,
     "metadata": {},
     "output_type": "execute_result"
    }
   ],
   "source": [
    "df['genre'].value_counts()"
   ]
  },
  {
   "cell_type": "markdown",
   "id": "10626d07",
   "metadata": {},
   "source": [
    "Столбец в порядке."
   ]
  },
  {
   "cell_type": "markdown",
   "id": "94cfa4cf",
   "metadata": {},
   "source": [
    "### Столбец `critic_score`"
   ]
  },
  {
   "cell_type": "code",
   "execution_count": 179,
   "id": "bb6c31ae",
   "metadata": {},
   "outputs": [
    {
     "data": {
      "text/plain": [
       "array([13., 17., 19., 20., 21., 23., 24., 25., 26., 27., 28., 29., 30.,\n",
       "       31., 32., 33., 34., 35., 36., 37., 38., 39., 40., 41., 42., 43.,\n",
       "       44., 45., 46., 47., 48., 49., 50., 51., 52., 53., 54., 55., 56.,\n",
       "       57., 58., 59., 60., 61., 62., 63., 64., 65., 66., 67., 68., 69.,\n",
       "       70., 71., 72., 73., 74., 75., 76., 77., 78., 79., 80., 81., 82.,\n",
       "       83., 84., 85., 86., 87., 88., 89., 90., 91., 92., 93., 94., 95.,\n",
       "       96., 97., 98., nan])"
      ]
     },
     "execution_count": 179,
     "metadata": {},
     "output_type": "execute_result"
    }
   ],
   "source": [
    "# посмотрим значения\n",
    "\n",
    "df['critic_score'].sort_values().unique()"
   ]
  },
  {
   "cell_type": "markdown",
   "id": "43c11e45",
   "metadata": {},
   "source": [
    "Помним, что тут другая шкала оценки, максимум 100, без десятичных долей. Поэтому поменяем тип на int и заменим пропуски нулями."
   ]
  },
  {
   "cell_type": "code",
   "execution_count": 180,
   "id": "52a9a883",
   "metadata": {},
   "outputs": [
    {
     "data": {
      "text/plain": [
       "8463"
      ]
     },
     "execution_count": 180,
     "metadata": {},
     "output_type": "execute_result"
    }
   ],
   "source": [
    "# посчитаем пропуски\n",
    "\n",
    "df['critic_score'].isna().sum()"
   ]
  },
  {
   "cell_type": "code",
   "execution_count": 181,
   "id": "08d0c009",
   "metadata": {},
   "outputs": [],
   "source": [
    "# заполним нулями\n",
    "\n",
    "df['critic_score'] = df['critic_score'].fillna(0)"
   ]
  },
  {
   "cell_type": "code",
   "execution_count": 182,
   "id": "345ef4cc",
   "metadata": {},
   "outputs": [],
   "source": [
    "# изменим тип\n",
    "\n",
    "df['critic_score'] = df['critic_score'].astype('int')"
   ]
  },
  {
   "cell_type": "code",
   "execution_count": 183,
   "id": "66e70b11",
   "metadata": {},
   "outputs": [
    {
     "name": "stdout",
     "output_type": "stream",
     "text": [
      "<class 'pandas.core.frame.DataFrame'>\n",
      "Int64Index: 16446 entries, 0 to 16714\n",
      "Data columns (total 11 columns):\n",
      " #   Column        Non-Null Count  Dtype  \n",
      "---  ------        --------------  -----  \n",
      " 0   name          16444 non-null  object \n",
      " 1   platform      16446 non-null  object \n",
      " 2   release_year  16446 non-null  int64  \n",
      " 3   genre         16444 non-null  object \n",
      " 4   na_sales      16446 non-null  float64\n",
      " 5   eu_sales      16446 non-null  float64\n",
      " 6   jp_sales      16446 non-null  float64\n",
      " 7   other_sales   16446 non-null  float64\n",
      " 8   critic_score  16446 non-null  int64  \n",
      " 9   user_score    16446 non-null  float64\n",
      " 10  rating        9768 non-null   object \n",
      "dtypes: float64(5), int64(2), object(4)\n",
      "memory usage: 1.5+ MB\n"
     ]
    }
   ],
   "source": [
    "# проверка\n",
    "\n",
    "df.info()"
   ]
  },
  {
   "cell_type": "code",
   "execution_count": 184,
   "id": "61ddb92a",
   "metadata": {},
   "outputs": [
    {
     "data": {
      "text/html": [
       "<div>\n",
       "<style scoped>\n",
       "    .dataframe tbody tr th:only-of-type {\n",
       "        vertical-align: middle;\n",
       "    }\n",
       "\n",
       "    .dataframe tbody tr th {\n",
       "        vertical-align: top;\n",
       "    }\n",
       "\n",
       "    .dataframe thead th {\n",
       "        text-align: right;\n",
       "    }\n",
       "</style>\n",
       "<table border=\"1\" class=\"dataframe\">\n",
       "  <thead>\n",
       "    <tr style=\"text-align: right;\">\n",
       "      <th></th>\n",
       "      <th>name</th>\n",
       "      <th>platform</th>\n",
       "      <th>release_year</th>\n",
       "      <th>genre</th>\n",
       "      <th>na_sales</th>\n",
       "      <th>eu_sales</th>\n",
       "      <th>jp_sales</th>\n",
       "      <th>other_sales</th>\n",
       "      <th>critic_score</th>\n",
       "      <th>user_score</th>\n",
       "      <th>rating</th>\n",
       "    </tr>\n",
       "  </thead>\n",
       "  <tbody>\n",
       "    <tr>\n",
       "      <th>0</th>\n",
       "      <td>Wii Sports</td>\n",
       "      <td>Wii</td>\n",
       "      <td>2006</td>\n",
       "      <td>Sports</td>\n",
       "      <td>41.36</td>\n",
       "      <td>28.96</td>\n",
       "      <td>3.77</td>\n",
       "      <td>8.45</td>\n",
       "      <td>76</td>\n",
       "      <td>8.0</td>\n",
       "      <td>E</td>\n",
       "    </tr>\n",
       "    <tr>\n",
       "      <th>1</th>\n",
       "      <td>Super Mario Bros.</td>\n",
       "      <td>NES</td>\n",
       "      <td>1985</td>\n",
       "      <td>Platform</td>\n",
       "      <td>29.08</td>\n",
       "      <td>3.58</td>\n",
       "      <td>6.81</td>\n",
       "      <td>0.77</td>\n",
       "      <td>0</td>\n",
       "      <td>0.0</td>\n",
       "      <td>NaN</td>\n",
       "    </tr>\n",
       "    <tr>\n",
       "      <th>2</th>\n",
       "      <td>Mario Kart Wii</td>\n",
       "      <td>Wii</td>\n",
       "      <td>2008</td>\n",
       "      <td>Racing</td>\n",
       "      <td>15.68</td>\n",
       "      <td>12.76</td>\n",
       "      <td>3.79</td>\n",
       "      <td>3.29</td>\n",
       "      <td>82</td>\n",
       "      <td>8.3</td>\n",
       "      <td>E</td>\n",
       "    </tr>\n",
       "    <tr>\n",
       "      <th>3</th>\n",
       "      <td>Wii Sports Resort</td>\n",
       "      <td>Wii</td>\n",
       "      <td>2009</td>\n",
       "      <td>Sports</td>\n",
       "      <td>15.61</td>\n",
       "      <td>10.93</td>\n",
       "      <td>3.28</td>\n",
       "      <td>2.95</td>\n",
       "      <td>80</td>\n",
       "      <td>8.0</td>\n",
       "      <td>E</td>\n",
       "    </tr>\n",
       "    <tr>\n",
       "      <th>4</th>\n",
       "      <td>Pokemon Red/Pokemon Blue</td>\n",
       "      <td>GB</td>\n",
       "      <td>1996</td>\n",
       "      <td>Role-Playing</td>\n",
       "      <td>11.27</td>\n",
       "      <td>8.89</td>\n",
       "      <td>10.22</td>\n",
       "      <td>1.00</td>\n",
       "      <td>0</td>\n",
       "      <td>0.0</td>\n",
       "      <td>NaN</td>\n",
       "    </tr>\n",
       "  </tbody>\n",
       "</table>\n",
       "</div>"
      ],
      "text/plain": [
       "                       name platform  release_year         genre  na_sales  \\\n",
       "0                Wii Sports      Wii          2006        Sports     41.36   \n",
       "1         Super Mario Bros.      NES          1985      Platform     29.08   \n",
       "2            Mario Kart Wii      Wii          2008        Racing     15.68   \n",
       "3         Wii Sports Resort      Wii          2009        Sports     15.61   \n",
       "4  Pokemon Red/Pokemon Blue       GB          1996  Role-Playing     11.27   \n",
       "\n",
       "   eu_sales  jp_sales  other_sales  critic_score  user_score rating  \n",
       "0     28.96      3.77         8.45            76         8.0      E  \n",
       "1      3.58      6.81         0.77             0         0.0    NaN  \n",
       "2     12.76      3.79         3.29            82         8.3      E  \n",
       "3     10.93      3.28         2.95            80         8.0      E  \n",
       "4      8.89     10.22         1.00             0         0.0    NaN  "
      ]
     },
     "execution_count": 184,
     "metadata": {},
     "output_type": "execute_result"
    }
   ],
   "source": [
    "# проверка\n",
    "\n",
    "df.head()"
   ]
  },
  {
   "cell_type": "markdown",
   "id": "1b3ab7be",
   "metadata": {},
   "source": [
    "Столбец готов."
   ]
  },
  {
   "cell_type": "markdown",
   "id": "7ece8454",
   "metadata": {},
   "source": [
    "### Столбец `rating`"
   ]
  },
  {
   "cell_type": "code",
   "execution_count": 185,
   "id": "35f14be1",
   "metadata": {},
   "outputs": [
    {
     "data": {
      "text/plain": [
       "E       3921\n",
       "T       2905\n",
       "M       1536\n",
       "E10+    1393\n",
       "EC         8\n",
       "K-A        3\n",
       "RP         1\n",
       "AO         1\n",
       "Name: rating, dtype: int64"
      ]
     },
     "execution_count": 185,
     "metadata": {},
     "output_type": "execute_result"
    }
   ],
   "source": [
    "# посмотрим значения\n",
    "\n",
    "df['rating'].value_counts()"
   ]
  },
  {
   "cell_type": "markdown",
   "id": "82fca0f3",
   "metadata": {},
   "source": [
    "Как геймеру со стажем, мне знакомы и понятны некоторые обозначения рейтингов, чтобы разобраться с остальными – загуглим, т.к. информации об этом в проекте нет.\n",
    "\n",
    "- Rating Pending (RP) - рейтинг ожидается  \n",
    "- Everyone (E) - для всех (в 1994–1998 годах обозначался как K-A, Kids to Adults)\n",
    "- Everyone 10+ (E10+) - для всех больше 10 лет\n",
    "- Teen (T) - от 13 лет и старше\n",
    "- Mature 17+ (M) - от 17 лет\n",
    "- Adults Only 18+ (AO) - всё понятно, только для взрослых\n",
    "- Early Childhood (EC) - для дошкольников (использовался с 1994 по 2018)\n",
    "\n",
    "Таким образом, есть один неявный дубликат (К-А то же самое, что E), но его доля незначительна, оставим как есть."
   ]
  },
  {
   "cell_type": "code",
   "execution_count": 186,
   "id": "d79fc6f6",
   "metadata": {},
   "outputs": [
    {
     "data": {
      "text/plain": [
       "6678"
      ]
     },
     "execution_count": 186,
     "metadata": {},
     "output_type": "execute_result"
    }
   ],
   "source": [
    "# посчитаем пропуски\n",
    "\n",
    "df['rating'].isna().sum()"
   ]
  },
  {
   "cell_type": "code",
   "execution_count": 187,
   "id": "38594004",
   "metadata": {},
   "outputs": [],
   "source": [
    "# заполним нулями\n",
    "\n",
    "df['rating'] = df['rating'].fillna(0)"
   ]
  },
  {
   "cell_type": "code",
   "execution_count": 188,
   "id": "06688aaa",
   "metadata": {},
   "outputs": [
    {
     "name": "stdout",
     "output_type": "stream",
     "text": [
      "<class 'pandas.core.frame.DataFrame'>\n",
      "Int64Index: 16446 entries, 0 to 16714\n",
      "Data columns (total 11 columns):\n",
      " #   Column        Non-Null Count  Dtype  \n",
      "---  ------        --------------  -----  \n",
      " 0   name          16444 non-null  object \n",
      " 1   platform      16446 non-null  object \n",
      " 2   release_year  16446 non-null  int64  \n",
      " 3   genre         16444 non-null  object \n",
      " 4   na_sales      16446 non-null  float64\n",
      " 5   eu_sales      16446 non-null  float64\n",
      " 6   jp_sales      16446 non-null  float64\n",
      " 7   other_sales   16446 non-null  float64\n",
      " 8   critic_score  16446 non-null  int64  \n",
      " 9   user_score    16446 non-null  float64\n",
      " 10  rating        16446 non-null  object \n",
      "dtypes: float64(5), int64(2), object(4)\n",
      "memory usage: 1.5+ MB\n"
     ]
    }
   ],
   "source": [
    "# проверка\n",
    "\n",
    "df.info()"
   ]
  },
  {
   "cell_type": "markdown",
   "id": "62a65389",
   "metadata": {},
   "source": [
    "Столбец готов."
   ]
  },
  {
   "cell_type": "markdown",
   "id": "41b4c9c9",
   "metadata": {},
   "source": [
    "### Столбец `name`"
   ]
  },
  {
   "cell_type": "code",
   "execution_count": 189,
   "id": "b091c0b6",
   "metadata": {
    "scrolled": true
   },
   "outputs": [
    {
     "data": {
      "text/html": [
       "<div>\n",
       "<style scoped>\n",
       "    .dataframe tbody tr th:only-of-type {\n",
       "        vertical-align: middle;\n",
       "    }\n",
       "\n",
       "    .dataframe tbody tr th {\n",
       "        vertical-align: top;\n",
       "    }\n",
       "\n",
       "    .dataframe thead th {\n",
       "        text-align: right;\n",
       "    }\n",
       "</style>\n",
       "<table border=\"1\" class=\"dataframe\">\n",
       "  <thead>\n",
       "    <tr style=\"text-align: right;\">\n",
       "      <th></th>\n",
       "      <th>name</th>\n",
       "      <th>platform</th>\n",
       "      <th>release_year</th>\n",
       "      <th>genre</th>\n",
       "      <th>na_sales</th>\n",
       "      <th>eu_sales</th>\n",
       "      <th>jp_sales</th>\n",
       "      <th>other_sales</th>\n",
       "      <th>critic_score</th>\n",
       "      <th>user_score</th>\n",
       "      <th>rating</th>\n",
       "    </tr>\n",
       "  </thead>\n",
       "  <tbody>\n",
       "    <tr>\n",
       "      <th>659</th>\n",
       "      <td>NaN</td>\n",
       "      <td>GEN</td>\n",
       "      <td>1993</td>\n",
       "      <td>NaN</td>\n",
       "      <td>1.78</td>\n",
       "      <td>0.53</td>\n",
       "      <td>0.00</td>\n",
       "      <td>0.08</td>\n",
       "      <td>0</td>\n",
       "      <td>0.0</td>\n",
       "      <td>0</td>\n",
       "    </tr>\n",
       "    <tr>\n",
       "      <th>14244</th>\n",
       "      <td>NaN</td>\n",
       "      <td>GEN</td>\n",
       "      <td>1993</td>\n",
       "      <td>NaN</td>\n",
       "      <td>0.00</td>\n",
       "      <td>0.00</td>\n",
       "      <td>0.03</td>\n",
       "      <td>0.00</td>\n",
       "      <td>0</td>\n",
       "      <td>0.0</td>\n",
       "      <td>0</td>\n",
       "    </tr>\n",
       "  </tbody>\n",
       "</table>\n",
       "</div>"
      ],
      "text/plain": [
       "      name platform  release_year genre  na_sales  eu_sales  jp_sales  \\\n",
       "659    NaN      GEN          1993   NaN      1.78      0.53      0.00   \n",
       "14244  NaN      GEN          1993   NaN      0.00      0.00      0.03   \n",
       "\n",
       "       other_sales  critic_score  user_score rating  \n",
       "659           0.08             0         0.0      0  \n",
       "14244         0.00             0         0.0      0  "
      ]
     },
     "execution_count": 189,
     "metadata": {},
     "output_type": "execute_result"
    }
   ],
   "source": [
    "# заметны два пропуска в этом столбце, посмотрим на них\n",
    "\n",
    "df.query('name != name')"
   ]
  },
  {
   "cell_type": "markdown",
   "id": "3f68a5d6",
   "metadata": {},
   "source": [
    "И в этих же строках видим два пропуска в столбце `genre`. Информации об этих двух играх почти никакой, можно удалить. Определить, почему у этих игр почти никакой информации сейчас сложно, лучше всего сообщить тем, кто делал выгрузку."
   ]
  },
  {
   "cell_type": "code",
   "execution_count": 190,
   "id": "6fb45abd",
   "metadata": {},
   "outputs": [
    {
     "name": "stdout",
     "output_type": "stream",
     "text": [
      "<class 'pandas.core.frame.DataFrame'>\n",
      "RangeIndex: 16444 entries, 0 to 16443\n",
      "Data columns (total 11 columns):\n",
      " #   Column        Non-Null Count  Dtype  \n",
      "---  ------        --------------  -----  \n",
      " 0   name          16444 non-null  object \n",
      " 1   platform      16444 non-null  object \n",
      " 2   release_year  16444 non-null  int64  \n",
      " 3   genre         16444 non-null  object \n",
      " 4   na_sales      16444 non-null  float64\n",
      " 5   eu_sales      16444 non-null  float64\n",
      " 6   jp_sales      16444 non-null  float64\n",
      " 7   other_sales   16444 non-null  float64\n",
      " 8   critic_score  16444 non-null  int64  \n",
      " 9   user_score    16444 non-null  float64\n",
      " 10  rating        16444 non-null  object \n",
      "dtypes: float64(5), int64(2), object(4)\n",
      "memory usage: 1.4+ MB\n"
     ]
    }
   ],
   "source": [
    "# удаляем, переназначаем индексы, проверяем\n",
    "\n",
    "df.dropna(subset=['name'], inplace=True)\n",
    "df.reset_index(drop=True, inplace=True)\n",
    "df.info()"
   ]
  },
  {
   "cell_type": "markdown",
   "id": "f88240b9",
   "metadata": {},
   "source": [
    "Предобработка завершена, типы приведены к корректным, пропуски заполнены нулями, чтобы не скрывать отсутствие данных, две почти пустые строки удалены."
   ]
  },
  {
   "cell_type": "markdown",
   "id": "502df2f7",
   "metadata": {},
   "source": [
    "### Посчитаем суммарные продажи во всех регионах и запишите их в отдельный столбец"
   ]
  },
  {
   "cell_type": "code",
   "execution_count": 191,
   "id": "71c5b038",
   "metadata": {},
   "outputs": [],
   "source": [
    "df['total_sales'] = df['na_sales'] + df['eu_sales'] + df['jp_sales'] + df['other_sales']"
   ]
  },
  {
   "cell_type": "code",
   "execution_count": 192,
   "id": "2e10010f",
   "metadata": {},
   "outputs": [
    {
     "data": {
      "text/html": [
       "<div>\n",
       "<style scoped>\n",
       "    .dataframe tbody tr th:only-of-type {\n",
       "        vertical-align: middle;\n",
       "    }\n",
       "\n",
       "    .dataframe tbody tr th {\n",
       "        vertical-align: top;\n",
       "    }\n",
       "\n",
       "    .dataframe thead th {\n",
       "        text-align: right;\n",
       "    }\n",
       "</style>\n",
       "<table border=\"1\" class=\"dataframe\">\n",
       "  <thead>\n",
       "    <tr style=\"text-align: right;\">\n",
       "      <th></th>\n",
       "      <th>name</th>\n",
       "      <th>platform</th>\n",
       "      <th>release_year</th>\n",
       "      <th>genre</th>\n",
       "      <th>na_sales</th>\n",
       "      <th>eu_sales</th>\n",
       "      <th>jp_sales</th>\n",
       "      <th>other_sales</th>\n",
       "      <th>critic_score</th>\n",
       "      <th>user_score</th>\n",
       "      <th>rating</th>\n",
       "      <th>total_sales</th>\n",
       "    </tr>\n",
       "  </thead>\n",
       "  <tbody>\n",
       "    <tr>\n",
       "      <th>0</th>\n",
       "      <td>Wii Sports</td>\n",
       "      <td>Wii</td>\n",
       "      <td>2006</td>\n",
       "      <td>Sports</td>\n",
       "      <td>41.36</td>\n",
       "      <td>28.96</td>\n",
       "      <td>3.77</td>\n",
       "      <td>8.45</td>\n",
       "      <td>76</td>\n",
       "      <td>8.0</td>\n",
       "      <td>E</td>\n",
       "      <td>82.54</td>\n",
       "    </tr>\n",
       "    <tr>\n",
       "      <th>1</th>\n",
       "      <td>Super Mario Bros.</td>\n",
       "      <td>NES</td>\n",
       "      <td>1985</td>\n",
       "      <td>Platform</td>\n",
       "      <td>29.08</td>\n",
       "      <td>3.58</td>\n",
       "      <td>6.81</td>\n",
       "      <td>0.77</td>\n",
       "      <td>0</td>\n",
       "      <td>0.0</td>\n",
       "      <td>0</td>\n",
       "      <td>40.24</td>\n",
       "    </tr>\n",
       "    <tr>\n",
       "      <th>2</th>\n",
       "      <td>Mario Kart Wii</td>\n",
       "      <td>Wii</td>\n",
       "      <td>2008</td>\n",
       "      <td>Racing</td>\n",
       "      <td>15.68</td>\n",
       "      <td>12.76</td>\n",
       "      <td>3.79</td>\n",
       "      <td>3.29</td>\n",
       "      <td>82</td>\n",
       "      <td>8.3</td>\n",
       "      <td>E</td>\n",
       "      <td>35.52</td>\n",
       "    </tr>\n",
       "    <tr>\n",
       "      <th>3</th>\n",
       "      <td>Wii Sports Resort</td>\n",
       "      <td>Wii</td>\n",
       "      <td>2009</td>\n",
       "      <td>Sports</td>\n",
       "      <td>15.61</td>\n",
       "      <td>10.93</td>\n",
       "      <td>3.28</td>\n",
       "      <td>2.95</td>\n",
       "      <td>80</td>\n",
       "      <td>8.0</td>\n",
       "      <td>E</td>\n",
       "      <td>32.77</td>\n",
       "    </tr>\n",
       "    <tr>\n",
       "      <th>4</th>\n",
       "      <td>Pokemon Red/Pokemon Blue</td>\n",
       "      <td>GB</td>\n",
       "      <td>1996</td>\n",
       "      <td>Role-Playing</td>\n",
       "      <td>11.27</td>\n",
       "      <td>8.89</td>\n",
       "      <td>10.22</td>\n",
       "      <td>1.00</td>\n",
       "      <td>0</td>\n",
       "      <td>0.0</td>\n",
       "      <td>0</td>\n",
       "      <td>31.38</td>\n",
       "    </tr>\n",
       "  </tbody>\n",
       "</table>\n",
       "</div>"
      ],
      "text/plain": [
       "                       name platform  release_year         genre  na_sales  \\\n",
       "0                Wii Sports      Wii          2006        Sports     41.36   \n",
       "1         Super Mario Bros.      NES          1985      Platform     29.08   \n",
       "2            Mario Kart Wii      Wii          2008        Racing     15.68   \n",
       "3         Wii Sports Resort      Wii          2009        Sports     15.61   \n",
       "4  Pokemon Red/Pokemon Blue       GB          1996  Role-Playing     11.27   \n",
       "\n",
       "   eu_sales  jp_sales  other_sales  critic_score  user_score rating  \\\n",
       "0     28.96      3.77         8.45            76         8.0      E   \n",
       "1      3.58      6.81         0.77             0         0.0      0   \n",
       "2     12.76      3.79         3.29            82         8.3      E   \n",
       "3     10.93      3.28         2.95            80         8.0      E   \n",
       "4      8.89     10.22         1.00             0         0.0      0   \n",
       "\n",
       "   total_sales  \n",
       "0        82.54  \n",
       "1        40.24  \n",
       "2        35.52  \n",
       "3        32.77  \n",
       "4        31.38  "
      ]
     },
     "execution_count": 192,
     "metadata": {},
     "output_type": "execute_result"
    }
   ],
   "source": [
    "df.head()"
   ]
  },
  {
   "cell_type": "code",
   "execution_count": 193,
   "id": "b8ebc301",
   "metadata": {},
   "outputs": [
    {
     "name": "stdout",
     "output_type": "stream",
     "text": [
      "<class 'pandas.core.frame.DataFrame'>\n",
      "RangeIndex: 16444 entries, 0 to 16443\n",
      "Data columns (total 12 columns):\n",
      " #   Column        Non-Null Count  Dtype  \n",
      "---  ------        --------------  -----  \n",
      " 0   name          16444 non-null  object \n",
      " 1   platform      16444 non-null  object \n",
      " 2   release_year  16444 non-null  int64  \n",
      " 3   genre         16444 non-null  object \n",
      " 4   na_sales      16444 non-null  float64\n",
      " 5   eu_sales      16444 non-null  float64\n",
      " 6   jp_sales      16444 non-null  float64\n",
      " 7   other_sales   16444 non-null  float64\n",
      " 8   critic_score  16444 non-null  int64  \n",
      " 9   user_score    16444 non-null  float64\n",
      " 10  rating        16444 non-null  object \n",
      " 11  total_sales   16444 non-null  float64\n",
      "dtypes: float64(6), int64(2), object(4)\n",
      "memory usage: 1.5+ MB\n"
     ]
    }
   ],
   "source": [
    "df.info()"
   ]
  },
  {
   "cell_type": "markdown",
   "id": "a50dd26f",
   "metadata": {},
   "source": [
    "Суммарные продажи посчитаны."
   ]
  },
  {
   "cell_type": "markdown",
   "id": "ca97ba4e",
   "metadata": {},
   "source": [
    "## Проведём исследовательский анализ данных"
   ]
  },
  {
   "cell_type": "markdown",
   "id": "1bab8f5b",
   "metadata": {},
   "source": [
    "### Посмотрим, сколько игр выпускалось в разные годы. Ответим на вопрос, важны ли данные за все периоды?"
   ]
  },
  {
   "cell_type": "code",
   "execution_count": 194,
   "id": "74e131d9",
   "metadata": {
    "scrolled": true
   },
   "outputs": [
    {
     "data": {
      "text/html": [
       "<div>\n",
       "<style scoped>\n",
       "    .dataframe tbody tr th:only-of-type {\n",
       "        vertical-align: middle;\n",
       "    }\n",
       "\n",
       "    .dataframe tbody tr th {\n",
       "        vertical-align: top;\n",
       "    }\n",
       "\n",
       "    .dataframe thead th {\n",
       "        text-align: right;\n",
       "    }\n",
       "</style>\n",
       "<table border=\"1\" class=\"dataframe\">\n",
       "  <thead>\n",
       "    <tr style=\"text-align: right;\">\n",
       "      <th></th>\n",
       "      <th>release_year</th>\n",
       "      <th>name</th>\n",
       "    </tr>\n",
       "  </thead>\n",
       "  <tbody>\n",
       "    <tr>\n",
       "      <th>0</th>\n",
       "      <td>1980</td>\n",
       "      <td>9</td>\n",
       "    </tr>\n",
       "    <tr>\n",
       "      <th>1</th>\n",
       "      <td>1981</td>\n",
       "      <td>46</td>\n",
       "    </tr>\n",
       "    <tr>\n",
       "      <th>2</th>\n",
       "      <td>1982</td>\n",
       "      <td>36</td>\n",
       "    </tr>\n",
       "    <tr>\n",
       "      <th>3</th>\n",
       "      <td>1983</td>\n",
       "      <td>17</td>\n",
       "    </tr>\n",
       "    <tr>\n",
       "      <th>4</th>\n",
       "      <td>1984</td>\n",
       "      <td>14</td>\n",
       "    </tr>\n",
       "    <tr>\n",
       "      <th>5</th>\n",
       "      <td>1985</td>\n",
       "      <td>14</td>\n",
       "    </tr>\n",
       "    <tr>\n",
       "      <th>6</th>\n",
       "      <td>1986</td>\n",
       "      <td>21</td>\n",
       "    </tr>\n",
       "    <tr>\n",
       "      <th>7</th>\n",
       "      <td>1987</td>\n",
       "      <td>16</td>\n",
       "    </tr>\n",
       "    <tr>\n",
       "      <th>8</th>\n",
       "      <td>1988</td>\n",
       "      <td>15</td>\n",
       "    </tr>\n",
       "    <tr>\n",
       "      <th>9</th>\n",
       "      <td>1989</td>\n",
       "      <td>17</td>\n",
       "    </tr>\n",
       "    <tr>\n",
       "      <th>10</th>\n",
       "      <td>1990</td>\n",
       "      <td>16</td>\n",
       "    </tr>\n",
       "    <tr>\n",
       "      <th>11</th>\n",
       "      <td>1991</td>\n",
       "      <td>41</td>\n",
       "    </tr>\n",
       "    <tr>\n",
       "      <th>12</th>\n",
       "      <td>1992</td>\n",
       "      <td>43</td>\n",
       "    </tr>\n",
       "    <tr>\n",
       "      <th>13</th>\n",
       "      <td>1993</td>\n",
       "      <td>60</td>\n",
       "    </tr>\n",
       "    <tr>\n",
       "      <th>14</th>\n",
       "      <td>1994</td>\n",
       "      <td>121</td>\n",
       "    </tr>\n",
       "    <tr>\n",
       "      <th>15</th>\n",
       "      <td>1995</td>\n",
       "      <td>219</td>\n",
       "    </tr>\n",
       "    <tr>\n",
       "      <th>16</th>\n",
       "      <td>1996</td>\n",
       "      <td>263</td>\n",
       "    </tr>\n",
       "    <tr>\n",
       "      <th>17</th>\n",
       "      <td>1997</td>\n",
       "      <td>289</td>\n",
       "    </tr>\n",
       "    <tr>\n",
       "      <th>18</th>\n",
       "      <td>1998</td>\n",
       "      <td>379</td>\n",
       "    </tr>\n",
       "    <tr>\n",
       "      <th>19</th>\n",
       "      <td>1999</td>\n",
       "      <td>338</td>\n",
       "    </tr>\n",
       "    <tr>\n",
       "      <th>20</th>\n",
       "      <td>2000</td>\n",
       "      <td>350</td>\n",
       "    </tr>\n",
       "    <tr>\n",
       "      <th>21</th>\n",
       "      <td>2001</td>\n",
       "      <td>482</td>\n",
       "    </tr>\n",
       "    <tr>\n",
       "      <th>22</th>\n",
       "      <td>2002</td>\n",
       "      <td>829</td>\n",
       "    </tr>\n",
       "    <tr>\n",
       "      <th>23</th>\n",
       "      <td>2003</td>\n",
       "      <td>775</td>\n",
       "    </tr>\n",
       "    <tr>\n",
       "      <th>24</th>\n",
       "      <td>2004</td>\n",
       "      <td>762</td>\n",
       "    </tr>\n",
       "    <tr>\n",
       "      <th>25</th>\n",
       "      <td>2005</td>\n",
       "      <td>939</td>\n",
       "    </tr>\n",
       "    <tr>\n",
       "      <th>26</th>\n",
       "      <td>2006</td>\n",
       "      <td>1006</td>\n",
       "    </tr>\n",
       "    <tr>\n",
       "      <th>27</th>\n",
       "      <td>2007</td>\n",
       "      <td>1197</td>\n",
       "    </tr>\n",
       "    <tr>\n",
       "      <th>28</th>\n",
       "      <td>2008</td>\n",
       "      <td>1427</td>\n",
       "    </tr>\n",
       "    <tr>\n",
       "      <th>29</th>\n",
       "      <td>2009</td>\n",
       "      <td>1426</td>\n",
       "    </tr>\n",
       "    <tr>\n",
       "      <th>30</th>\n",
       "      <td>2010</td>\n",
       "      <td>1255</td>\n",
       "    </tr>\n",
       "    <tr>\n",
       "      <th>31</th>\n",
       "      <td>2011</td>\n",
       "      <td>1136</td>\n",
       "    </tr>\n",
       "    <tr>\n",
       "      <th>32</th>\n",
       "      <td>2012</td>\n",
       "      <td>653</td>\n",
       "    </tr>\n",
       "    <tr>\n",
       "      <th>33</th>\n",
       "      <td>2013</td>\n",
       "      <td>544</td>\n",
       "    </tr>\n",
       "    <tr>\n",
       "      <th>34</th>\n",
       "      <td>2014</td>\n",
       "      <td>581</td>\n",
       "    </tr>\n",
       "    <tr>\n",
       "      <th>35</th>\n",
       "      <td>2015</td>\n",
       "      <td>606</td>\n",
       "    </tr>\n",
       "    <tr>\n",
       "      <th>36</th>\n",
       "      <td>2016</td>\n",
       "      <td>502</td>\n",
       "    </tr>\n",
       "  </tbody>\n",
       "</table>\n",
       "</div>"
      ],
      "text/plain": [
       "    release_year  name\n",
       "0           1980     9\n",
       "1           1981    46\n",
       "2           1982    36\n",
       "3           1983    17\n",
       "4           1984    14\n",
       "5           1985    14\n",
       "6           1986    21\n",
       "7           1987    16\n",
       "8           1988    15\n",
       "9           1989    17\n",
       "10          1990    16\n",
       "11          1991    41\n",
       "12          1992    43\n",
       "13          1993    60\n",
       "14          1994   121\n",
       "15          1995   219\n",
       "16          1996   263\n",
       "17          1997   289\n",
       "18          1998   379\n",
       "19          1999   338\n",
       "20          2000   350\n",
       "21          2001   482\n",
       "22          2002   829\n",
       "23          2003   775\n",
       "24          2004   762\n",
       "25          2005   939\n",
       "26          2006  1006\n",
       "27          2007  1197\n",
       "28          2008  1427\n",
       "29          2009  1426\n",
       "30          2010  1255\n",
       "31          2011  1136\n",
       "32          2012   653\n",
       "33          2013   544\n",
       "34          2014   581\n",
       "35          2015   606\n",
       "36          2016   502"
      ]
     },
     "execution_count": 194,
     "metadata": {},
     "output_type": "execute_result"
    }
   ],
   "source": [
    "# создадим новый датафрейм и посчитаем по году и названию\n",
    "\n",
    "games_by_year = df.groupby('release_year')['name'].count().reset_index()\n",
    "games_by_year"
   ]
  },
  {
   "cell_type": "code",
   "execution_count": 195,
   "id": "042b54e1",
   "metadata": {},
   "outputs": [
    {
     "data": {
      "image/png": "[encoded data removed]",
      "text/plain": [
       "<Figure size 936x360 with 1 Axes>"
      ]
     },
     "metadata": {
      "needs_background": "light"
     },
     "output_type": "display_data"
    }
   ],
   "source": [
    "# визуализируем\n",
    "\n",
    "plt.figure(figsize=(13,5))\n",
    "\n",
    "plt.bar(\n",
    "    games_by_year['release_year'],\n",
    "    games_by_year['name']\n",
    ")\n",
    "plt.grid()\n",
    "plt.title('Выпуск игр по годам')\n",
    "plt.xlabel('Год')\n",
    "plt.ylabel('Количество');"
   ]
  },
  {
   "cell_type": "markdown",
   "id": "08886f9c",
   "metadata": {},
   "source": [
    "**Вывод:** Довольно любопытный получился график, по которому видно, что игровая индустрия была на пике в 2008-2009 годах, потом начался спад, и возвращения к былой славе пока не ожидается. Но можно утверждать, что теперь количественный рост сменился качественным: игр выходит меньше, но выросло их качество. Разработка современной AAA-игры стоит очень дорого и по времени это довольно долгий процесс.  \n",
    "Отвечая на вопрос, важны ли данные за все периоды, ответим, что важны, но нужно понимать, для чего именно. Данные с 1980 по 1995 представляют больше исторический интерес, а в нашем исследовании вполне можно ограничиться отрезком 2000-2016 гг, чтобы оценить современное положение дел и дать прогнозы."
   ]
  },
  {
   "cell_type": "markdown",
   "id": "38777219",
   "metadata": {},
   "source": [
    "### Посмотрим, как менялись продажи по платформам. Выберем платформы с наибольшими суммарными продажами и построим распределение по годам. Ответим на вопрос, за какой характерный срок появляются новые и исчезают старые платформы?"
   ]
  },
  {
   "cell_type": "code",
   "execution_count": 196,
   "id": "6e5ac0f0",
   "metadata": {},
   "outputs": [
    {
     "data": {
      "text/html": [
       "<div>\n",
       "<style scoped>\n",
       "    .dataframe tbody tr th:only-of-type {\n",
       "        vertical-align: middle;\n",
       "    }\n",
       "\n",
       "    .dataframe tbody tr th {\n",
       "        vertical-align: top;\n",
       "    }\n",
       "\n",
       "    .dataframe thead th {\n",
       "        text-align: right;\n",
       "    }\n",
       "</style>\n",
       "<table border=\"1\" class=\"dataframe\">\n",
       "  <thead>\n",
       "    <tr style=\"text-align: right;\">\n",
       "      <th></th>\n",
       "      <th>platform</th>\n",
       "      <th>release_year</th>\n",
       "      <th>total_sales</th>\n",
       "    </tr>\n",
       "  </thead>\n",
       "  <tbody>\n",
       "    <tr>\n",
       "      <th>0</th>\n",
       "      <td>2600</td>\n",
       "      <td>1980</td>\n",
       "      <td>11.38</td>\n",
       "    </tr>\n",
       "    <tr>\n",
       "      <th>1</th>\n",
       "      <td>2600</td>\n",
       "      <td>1981</td>\n",
       "      <td>35.68</td>\n",
       "    </tr>\n",
       "    <tr>\n",
       "      <th>2</th>\n",
       "      <td>2600</td>\n",
       "      <td>1982</td>\n",
       "      <td>28.88</td>\n",
       "    </tr>\n",
       "    <tr>\n",
       "      <th>3</th>\n",
       "      <td>2600</td>\n",
       "      <td>1983</td>\n",
       "      <td>5.84</td>\n",
       "    </tr>\n",
       "    <tr>\n",
       "      <th>4</th>\n",
       "      <td>2600</td>\n",
       "      <td>1984</td>\n",
       "      <td>0.27</td>\n",
       "    </tr>\n",
       "    <tr>\n",
       "      <th>...</th>\n",
       "      <td>...</td>\n",
       "      <td>...</td>\n",
       "      <td>...</td>\n",
       "    </tr>\n",
       "    <tr>\n",
       "      <th>233</th>\n",
       "      <td>XB</td>\n",
       "      <td>2008</td>\n",
       "      <td>0.18</td>\n",
       "    </tr>\n",
       "    <tr>\n",
       "      <th>234</th>\n",
       "      <td>XOne</td>\n",
       "      <td>2013</td>\n",
       "      <td>18.96</td>\n",
       "    </tr>\n",
       "    <tr>\n",
       "      <th>235</th>\n",
       "      <td>XOne</td>\n",
       "      <td>2014</td>\n",
       "      <td>54.07</td>\n",
       "    </tr>\n",
       "    <tr>\n",
       "      <th>236</th>\n",
       "      <td>XOne</td>\n",
       "      <td>2015</td>\n",
       "      <td>60.14</td>\n",
       "    </tr>\n",
       "    <tr>\n",
       "      <th>237</th>\n",
       "      <td>XOne</td>\n",
       "      <td>2016</td>\n",
       "      <td>26.15</td>\n",
       "    </tr>\n",
       "  </tbody>\n",
       "</table>\n",
       "<p>238 rows × 3 columns</p>\n",
       "</div>"
      ],
      "text/plain": [
       "    platform  release_year  total_sales\n",
       "0       2600          1980        11.38\n",
       "1       2600          1981        35.68\n",
       "2       2600          1982        28.88\n",
       "3       2600          1983         5.84\n",
       "4       2600          1984         0.27\n",
       "..       ...           ...          ...\n",
       "233       XB          2008         0.18\n",
       "234     XOne          2013        18.96\n",
       "235     XOne          2014        54.07\n",
       "236     XOne          2015        60.14\n",
       "237     XOne          2016        26.15\n",
       "\n",
       "[238 rows x 3 columns]"
      ]
     },
     "execution_count": 196,
     "metadata": {},
     "output_type": "execute_result"
    }
   ],
   "source": [
    "# сгруппируем по платформе, году и общим продажам\n",
    "\n",
    "platforms_by_sales = df.groupby(['platform', 'release_year'])['total_sales'].sum().reset_index()\n",
    "platforms_by_sales"
   ]
  },
  {
   "cell_type": "code",
   "execution_count": 197,
   "id": "c55d0113",
   "metadata": {},
   "outputs": [
    {
     "data": {
      "text/html": [
       "<div>\n",
       "<style scoped>\n",
       "    .dataframe tbody tr th:only-of-type {\n",
       "        vertical-align: middle;\n",
       "    }\n",
       "\n",
       "    .dataframe tbody tr th {\n",
       "        vertical-align: top;\n",
       "    }\n",
       "\n",
       "    .dataframe thead th {\n",
       "        text-align: right;\n",
       "    }\n",
       "</style>\n",
       "<table border=\"1\" class=\"dataframe\">\n",
       "  <thead>\n",
       "    <tr style=\"text-align: right;\">\n",
       "      <th></th>\n",
       "      <th>platform</th>\n",
       "      <th>total_sales</th>\n",
       "    </tr>\n",
       "  </thead>\n",
       "  <tbody>\n",
       "    <tr>\n",
       "      <th>0</th>\n",
       "      <td>2600</td>\n",
       "      <td>86.48</td>\n",
       "    </tr>\n",
       "    <tr>\n",
       "      <th>1</th>\n",
       "      <td>3DO</td>\n",
       "      <td>0.10</td>\n",
       "    </tr>\n",
       "    <tr>\n",
       "      <th>2</th>\n",
       "      <td>3DS</td>\n",
       "      <td>257.81</td>\n",
       "    </tr>\n",
       "    <tr>\n",
       "      <th>3</th>\n",
       "      <td>DC</td>\n",
       "      <td>15.95</td>\n",
       "    </tr>\n",
       "    <tr>\n",
       "      <th>4</th>\n",
       "      <td>DS</td>\n",
       "      <td>802.78</td>\n",
       "    </tr>\n",
       "  </tbody>\n",
       "</table>\n",
       "</div>"
      ],
      "text/plain": [
       "  platform  total_sales\n",
       "0     2600        86.48\n",
       "1      3DO         0.10\n",
       "2      3DS       257.81\n",
       "3       DC        15.95\n",
       "4       DS       802.78"
      ]
     },
     "execution_count": 197,
     "metadata": {},
     "output_type": "execute_result"
    }
   ],
   "source": [
    "# считаем сумму продаж по всем платформам\n",
    "\n",
    "top_by_sales = platforms_by_sales.groupby('platform')['total_sales'].sum().reset_index()\n",
    "top_by_sales.head()"
   ]
  },
  {
   "cell_type": "code",
   "execution_count": 198,
   "id": "354c49ca",
   "metadata": {},
   "outputs": [
    {
     "data": {
      "text/html": [
       "<div>\n",
       "<style scoped>\n",
       "    .dataframe tbody tr th:only-of-type {\n",
       "        vertical-align: middle;\n",
       "    }\n",
       "\n",
       "    .dataframe tbody tr th {\n",
       "        vertical-align: top;\n",
       "    }\n",
       "\n",
       "    .dataframe thead th {\n",
       "        text-align: right;\n",
       "    }\n",
       "</style>\n",
       "<table border=\"1\" class=\"dataframe\">\n",
       "  <thead>\n",
       "    <tr style=\"text-align: right;\">\n",
       "      <th></th>\n",
       "      <th>platform</th>\n",
       "      <th>total_sales</th>\n",
       "    </tr>\n",
       "  </thead>\n",
       "  <tbody>\n",
       "    <tr>\n",
       "      <th>0</th>\n",
       "      <td>PS2</td>\n",
       "      <td>1233.56</td>\n",
       "    </tr>\n",
       "    <tr>\n",
       "      <th>1</th>\n",
       "      <td>X360</td>\n",
       "      <td>961.24</td>\n",
       "    </tr>\n",
       "    <tr>\n",
       "      <th>2</th>\n",
       "      <td>PS3</td>\n",
       "      <td>931.34</td>\n",
       "    </tr>\n",
       "    <tr>\n",
       "      <th>3</th>\n",
       "      <td>Wii</td>\n",
       "      <td>891.18</td>\n",
       "    </tr>\n",
       "    <tr>\n",
       "      <th>4</th>\n",
       "      <td>DS</td>\n",
       "      <td>802.78</td>\n",
       "    </tr>\n",
       "  </tbody>\n",
       "</table>\n",
       "</div>"
      ],
      "text/plain": [
       "  platform  total_sales\n",
       "0      PS2      1233.56\n",
       "1     X360       961.24\n",
       "2      PS3       931.34\n",
       "3      Wii       891.18\n",
       "4       DS       802.78"
      ]
     },
     "execution_count": 198,
     "metadata": {},
     "output_type": "execute_result"
    }
   ],
   "source": [
    "# сортируем по числу проданных копий\n",
    "\n",
    "top30_by_sales = top_by_sales.sort_values(by='total_sales', ascending=False).reset_index(drop=True)\n",
    "top30_by_sales.head()"
   ]
  },
  {
   "cell_type": "code",
   "execution_count": 199,
   "id": "6de67294",
   "metadata": {
    "scrolled": true
   },
   "outputs": [
    {
     "data": {
      "text/html": [
       "<div>\n",
       "<style scoped>\n",
       "    .dataframe tbody tr th:only-of-type {\n",
       "        vertical-align: middle;\n",
       "    }\n",
       "\n",
       "    .dataframe tbody tr th {\n",
       "        vertical-align: top;\n",
       "    }\n",
       "\n",
       "    .dataframe thead th {\n",
       "        text-align: right;\n",
       "    }\n",
       "</style>\n",
       "<table border=\"1\" class=\"dataframe\">\n",
       "  <thead>\n",
       "    <tr style=\"text-align: right;\">\n",
       "      <th></th>\n",
       "      <th>platform</th>\n",
       "      <th>total_sales</th>\n",
       "    </tr>\n",
       "  </thead>\n",
       "  <tbody>\n",
       "    <tr>\n",
       "      <th>0</th>\n",
       "      <td>PS2</td>\n",
       "      <td>1233.56</td>\n",
       "    </tr>\n",
       "    <tr>\n",
       "      <th>1</th>\n",
       "      <td>X360</td>\n",
       "      <td>961.24</td>\n",
       "    </tr>\n",
       "    <tr>\n",
       "      <th>2</th>\n",
       "      <td>PS3</td>\n",
       "      <td>931.34</td>\n",
       "    </tr>\n",
       "    <tr>\n",
       "      <th>3</th>\n",
       "      <td>Wii</td>\n",
       "      <td>891.18</td>\n",
       "    </tr>\n",
       "    <tr>\n",
       "      <th>4</th>\n",
       "      <td>DS</td>\n",
       "      <td>802.78</td>\n",
       "    </tr>\n",
       "    <tr>\n",
       "      <th>5</th>\n",
       "      <td>PS</td>\n",
       "      <td>727.58</td>\n",
       "    </tr>\n",
       "    <tr>\n",
       "      <th>6</th>\n",
       "      <td>PS4</td>\n",
       "      <td>314.14</td>\n",
       "    </tr>\n",
       "    <tr>\n",
       "      <th>7</th>\n",
       "      <td>GBA</td>\n",
       "      <td>312.88</td>\n",
       "    </tr>\n",
       "    <tr>\n",
       "      <th>8</th>\n",
       "      <td>PSP</td>\n",
       "      <td>289.53</td>\n",
       "    </tr>\n",
       "    <tr>\n",
       "      <th>9</th>\n",
       "      <td>3DS</td>\n",
       "      <td>257.81</td>\n",
       "    </tr>\n",
       "    <tr>\n",
       "      <th>10</th>\n",
       "      <td>PC</td>\n",
       "      <td>255.76</td>\n",
       "    </tr>\n",
       "  </tbody>\n",
       "</table>\n",
       "</div>"
      ],
      "text/plain": [
       "   platform  total_sales\n",
       "0       PS2      1233.56\n",
       "1      X360       961.24\n",
       "2       PS3       931.34\n",
       "3       Wii       891.18\n",
       "4        DS       802.78\n",
       "5        PS       727.58\n",
       "6       PS4       314.14\n",
       "7       GBA       312.88\n",
       "8       PSP       289.53\n",
       "9       3DS       257.81\n",
       "10       PC       255.76"
      ]
     },
     "execution_count": 199,
     "metadata": {},
     "output_type": "execute_result"
    }
   ],
   "source": [
    "# топ-10 самых популярных платформ выглядит так\n",
    "\n",
    "top10_by_sales = top30_by_sales.loc[:10]\n",
    "top10_by_sales"
   ]
  },
  {
   "cell_type": "code",
   "execution_count": 200,
   "id": "c49f616f",
   "metadata": {},
   "outputs": [
    {
     "data": {
      "text/plain": [
       "array(['PS2', 'X360', 'PS3', 'Wii', 'DS', 'PS', 'PS4', 'GBA', 'PSP',\n",
       "       '3DS', 'PC'], dtype=object)"
      ]
     },
     "execution_count": 200,
     "metadata": {},
     "output_type": "execute_result"
    }
   ],
   "source": [
    "# сделаем список значений для графика\n",
    "\n",
    "top10_by_sales_values = top30_by_sales.loc[:10, 'platform'].values\n",
    "top10_by_sales_values"
   ]
  },
  {
   "cell_type": "code",
   "execution_count": 201,
   "id": "d5adc29b",
   "metadata": {},
   "outputs": [
    {
     "data": {
      "text/plain": [
       "<matplotlib.legend.Legend at 0x7f562bde6a90>"
      ]
     },
     "execution_count": 201,
     "metadata": {},
     "output_type": "execute_result"
    },
    {
     "data": {
      "image/png": "[encoded data removed]",
      "text/plain": [
       "<Figure size 936x432 with 1 Axes>"
      ]
     },
     "metadata": {
      "needs_background": "light"
     },
     "output_type": "display_data"
    }
   ],
   "source": [
    "# визуализируем\n",
    "\n",
    "plt.figure(figsize=(13,6))\n",
    "\n",
    "for i in range(len(top10_by_sales_values)):\n",
    "    \n",
    "    platform = df.query('platform == @top10_by_sales_values[@i]').groupby('release_year')['total_sales'].sum()\n",
    "    \n",
    "    platform.plot(\n",
    "                x=platform.index,\n",
    "                y=platform.values,\n",
    "                label=top10_by_sales_values[i],\n",
    "                style='-.'\n",
    "    )\n",
    "    \n",
    "plt.grid()\n",
    "plt.title('Продажи на игровых платформах по годам')\n",
    "plt.xlabel('Год')    \n",
    "plt.ylabel('Продажи')\n",
    "plt.legend()"
   ]
  },
  {
   "cell_type": "markdown",
   "id": "9b0979b0",
   "metadata": {},
   "source": [
    "**Вывод:** На графиках на примере трёх первых платформ (PS2, X360, PS3) отчётливо заметно, что их срок жизни составляет примерно 10-11 лет. Это и есть характерный срок, за который появляются новые и исчезают старые платформы."
   ]
  },
  {
   "cell_type": "markdown",
   "id": "ddb747da",
   "metadata": {},
   "source": [
    "### Возьмём данные за соответствующий актуальный период"
   ]
  },
  {
   "cell_type": "markdown",
   "id": "25525b6d",
   "metadata": {},
   "source": [
    "***Актуальный период определим самостоятельно в результате исследования предыдущих вопросов. Основной фактор — эти данные помогут построить прогноз на 2017 год. Не учитываем в работе данные за предыдущие годы.***"
   ]
  },
  {
   "cell_type": "markdown",
   "id": "371c427b",
   "metadata": {},
   "source": [
    "Игровая индустрия развивается очень динамично, поэтому актуальным периодом будет очень небольшой отрезок времени, 2-3 года. Поэтому возьмём отрезок с 2014 по 2016 год включительно, этого будет достаточно для построения прогноза на 2017 год."
   ]
  },
  {
   "cell_type": "code",
   "execution_count": 202,
   "id": "0c5da20b",
   "metadata": {},
   "outputs": [
    {
     "data": {
      "text/html": [
       "<div>\n",
       "<style scoped>\n",
       "    .dataframe tbody tr th:only-of-type {\n",
       "        vertical-align: middle;\n",
       "    }\n",
       "\n",
       "    .dataframe tbody tr th {\n",
       "        vertical-align: top;\n",
       "    }\n",
       "\n",
       "    .dataframe thead th {\n",
       "        text-align: right;\n",
       "    }\n",
       "</style>\n",
       "<table border=\"1\" class=\"dataframe\">\n",
       "  <thead>\n",
       "    <tr style=\"text-align: right;\">\n",
       "      <th></th>\n",
       "      <th>name</th>\n",
       "      <th>platform</th>\n",
       "      <th>release_year</th>\n",
       "      <th>genre</th>\n",
       "      <th>na_sales</th>\n",
       "      <th>eu_sales</th>\n",
       "      <th>jp_sales</th>\n",
       "      <th>other_sales</th>\n",
       "      <th>critic_score</th>\n",
       "      <th>user_score</th>\n",
       "      <th>rating</th>\n",
       "      <th>total_sales</th>\n",
       "    </tr>\n",
       "  </thead>\n",
       "  <tbody>\n",
       "    <tr>\n",
       "      <th>0</th>\n",
       "      <td>Call of Duty: Black Ops 3</td>\n",
       "      <td>PS4</td>\n",
       "      <td>2015</td>\n",
       "      <td>Shooter</td>\n",
       "      <td>6.03</td>\n",
       "      <td>5.86</td>\n",
       "      <td>0.36</td>\n",
       "      <td>2.38</td>\n",
       "      <td>0</td>\n",
       "      <td>0.0</td>\n",
       "      <td>0</td>\n",
       "      <td>14.63</td>\n",
       "    </tr>\n",
       "    <tr>\n",
       "      <th>1</th>\n",
       "      <td>Grand Theft Auto V</td>\n",
       "      <td>PS4</td>\n",
       "      <td>2014</td>\n",
       "      <td>Action</td>\n",
       "      <td>3.96</td>\n",
       "      <td>6.31</td>\n",
       "      <td>0.38</td>\n",
       "      <td>1.97</td>\n",
       "      <td>97</td>\n",
       "      <td>8.3</td>\n",
       "      <td>M</td>\n",
       "      <td>12.62</td>\n",
       "    </tr>\n",
       "    <tr>\n",
       "      <th>2</th>\n",
       "      <td>Pokemon Omega Ruby/Pokemon Alpha Sapphire</td>\n",
       "      <td>3DS</td>\n",
       "      <td>2014</td>\n",
       "      <td>Role-Playing</td>\n",
       "      <td>4.35</td>\n",
       "      <td>3.49</td>\n",
       "      <td>3.10</td>\n",
       "      <td>0.74</td>\n",
       "      <td>0</td>\n",
       "      <td>0.0</td>\n",
       "      <td>0</td>\n",
       "      <td>11.68</td>\n",
       "    </tr>\n",
       "    <tr>\n",
       "      <th>3</th>\n",
       "      <td>FIFA 16</td>\n",
       "      <td>PS4</td>\n",
       "      <td>2015</td>\n",
       "      <td>Sports</td>\n",
       "      <td>1.12</td>\n",
       "      <td>6.12</td>\n",
       "      <td>0.06</td>\n",
       "      <td>1.28</td>\n",
       "      <td>82</td>\n",
       "      <td>4.3</td>\n",
       "      <td>E</td>\n",
       "      <td>8.58</td>\n",
       "    </tr>\n",
       "    <tr>\n",
       "      <th>4</th>\n",
       "      <td>Star Wars Battlefront (2015)</td>\n",
       "      <td>PS4</td>\n",
       "      <td>2015</td>\n",
       "      <td>Shooter</td>\n",
       "      <td>2.99</td>\n",
       "      <td>3.49</td>\n",
       "      <td>0.22</td>\n",
       "      <td>1.28</td>\n",
       "      <td>0</td>\n",
       "      <td>0.0</td>\n",
       "      <td>0</td>\n",
       "      <td>7.98</td>\n",
       "    </tr>\n",
       "  </tbody>\n",
       "</table>\n",
       "</div>"
      ],
      "text/plain": [
       "                                        name platform  release_year  \\\n",
       "0                  Call of Duty: Black Ops 3      PS4          2015   \n",
       "1                         Grand Theft Auto V      PS4          2014   \n",
       "2  Pokemon Omega Ruby/Pokemon Alpha Sapphire      3DS          2014   \n",
       "3                                    FIFA 16      PS4          2015   \n",
       "4               Star Wars Battlefront (2015)      PS4          2015   \n",
       "\n",
       "          genre  na_sales  eu_sales  jp_sales  other_sales  critic_score  \\\n",
       "0       Shooter      6.03      5.86      0.36         2.38             0   \n",
       "1        Action      3.96      6.31      0.38         1.97            97   \n",
       "2  Role-Playing      4.35      3.49      3.10         0.74             0   \n",
       "3        Sports      1.12      6.12      0.06         1.28            82   \n",
       "4       Shooter      2.99      3.49      0.22         1.28             0   \n",
       "\n",
       "   user_score rating  total_sales  \n",
       "0         0.0      0        14.63  \n",
       "1         8.3      M        12.62  \n",
       "2         0.0      0        11.68  \n",
       "3         4.3      E         8.58  \n",
       "4         0.0      0         7.98  "
      ]
     },
     "execution_count": 202,
     "metadata": {},
     "output_type": "execute_result"
    }
   ],
   "source": [
    "# делаем срез и сохраняем в новый датафрейм\n",
    "\n",
    "df_actual = df.query('release_year >= 2014').reset_index(drop=True)\n",
    "df_actual.head()"
   ]
  },
  {
   "cell_type": "code",
   "execution_count": 203,
   "id": "d4bf7a04",
   "metadata": {},
   "outputs": [
    {
     "name": "stdout",
     "output_type": "stream",
     "text": [
      "<class 'pandas.core.frame.DataFrame'>\n",
      "RangeIndex: 1689 entries, 0 to 1688\n",
      "Data columns (total 12 columns):\n",
      " #   Column        Non-Null Count  Dtype  \n",
      "---  ------        --------------  -----  \n",
      " 0   name          1689 non-null   object \n",
      " 1   platform      1689 non-null   object \n",
      " 2   release_year  1689 non-null   int64  \n",
      " 3   genre         1689 non-null   object \n",
      " 4   na_sales      1689 non-null   float64\n",
      " 5   eu_sales      1689 non-null   float64\n",
      " 6   jp_sales      1689 non-null   float64\n",
      " 7   other_sales   1689 non-null   float64\n",
      " 8   critic_score  1689 non-null   int64  \n",
      " 9   user_score    1689 non-null   float64\n",
      " 10  rating        1689 non-null   object \n",
      " 11  total_sales   1689 non-null   float64\n",
      "dtypes: float64(6), int64(2), object(4)\n",
      "memory usage: 158.5+ KB\n"
     ]
    }
   ],
   "source": [
    "# проверка\n",
    "\n",
    "df_actual.info()"
   ]
  },
  {
   "cell_type": "markdown",
   "id": "25074d78",
   "metadata": {},
   "source": [
    "### Ответим на вопрос, какие платформы лидируют по продажам, растут или падают? Выберем несколько потенциально прибыльных платформ"
   ]
  },
  {
   "cell_type": "code",
   "execution_count": 204,
   "id": "3fe0db29",
   "metadata": {},
   "outputs": [
    {
     "data": {
      "text/plain": [
       "array(['PS4', '3DS', 'XOne', 'WiiU', 'PS3', 'X360', 'PC', 'Wii', 'PSV',\n",
       "       'PSP'], dtype=object)"
      ]
     },
     "execution_count": 204,
     "metadata": {},
     "output_type": "execute_result"
    }
   ],
   "source": [
    "# создаём список платформ\n",
    "\n",
    "df_actual_values = df_actual['platform'].unique()\n",
    "df_actual_values"
   ]
  },
  {
   "cell_type": "code",
   "execution_count": 205,
   "id": "ffcc0aa3",
   "metadata": {},
   "outputs": [
    {
     "data": {
      "image/png": "[encoded data removed]",
      "text/plain": [
       "<Figure size 936x432 with 1 Axes>"
      ]
     },
     "metadata": {
      "needs_background": "light"
     },
     "output_type": "display_data"
    }
   ],
   "source": [
    "# визуализируем\n",
    "\n",
    "plt.figure(figsize=(13,6))\n",
    "\n",
    "for i in range(len(df_actual_values)):\n",
    "    \n",
    "    platform = df_actual.query('platform == @df_actual_values[@i]').groupby('release_year')['total_sales'].sum()\n",
    "    \n",
    "    platform.plot(\n",
    "                x=platform.index,\n",
    "                y=platform.values,\n",
    "                label=df_actual_values[i],\n",
    "                style='-*'\n",
    "    )\n",
    "    \n",
    "plt.grid()\n",
    "plt.title('Продажи на игровых платформах по годам')\n",
    "plt.xlabel('Год')    \n",
    "plt.ylabel('Продажи')\n",
    "plt.legend();"
   ]
  },
  {
   "cell_type": "markdown",
   "id": "501262d7",
   "metadata": {},
   "source": [
    "**Вывод:** За последние годы отчётливо видно снижение продаж, причём по всем платформам. В целом это закономерно, в середине нулевых происходил бурный рост, теперь же мы наблюдаем циклический спад.  \n",
    "Отвечая на вопрос, какие платформы лидируют по продажам, это, конечно, PS4 и XOne. Отметим, что с учётом 10-летнего срока жизни платформ, можно наблюдать конец эпохи этих двух платформ и ожидать анонса последователей, той же PS5.  \n",
    "Потенциально прибыльными платформами тоже назовём PS4 и XOne, за счёт их популярности они будут приносить бОльшую выручку до появления приставок следующего поколения."
   ]
  },
  {
   "cell_type": "markdown",
   "id": "d4e1951f",
   "metadata": {},
   "source": [
    "### Построим график «ящик с усами» по глобальным продажам игр в разбивке по платформам, опишем результат"
   ]
  },
  {
   "cell_type": "code",
   "execution_count": 206,
   "id": "07769545",
   "metadata": {},
   "outputs": [
    {
     "data": {
      "image/png": "[encoded data removed]",
      "text/plain": [
       "<Figure size 1080x720 with 1 Axes>"
      ]
     },
     "metadata": {
      "needs_background": "light"
     },
     "output_type": "display_data"
    }
   ],
   "source": [
    "plt.figure(figsize=(15,10))\n",
    "\n",
    "sns.boxplot(\n",
    "    data=df_actual.query('total_sales < 2'),\n",
    "    x='total_sales',\n",
    "    y='platform'\n",
    ")\n",
    "\n",
    "plt.title('Total sales by platforms');"
   ]
  },
  {
   "cell_type": "markdown",
   "id": "e6875c75",
   "metadata": {},
   "source": [
    "**Вывод:** Продажи на основных и популярных платформах похожи, медианные значения ближе к 0.2, даже выбросы у PS4 и X360 похожи, а вот у Wii их нет совсем. Очевидно, что выбросы это хиты, и скорее всего, эксклюзивы, приносящие основную прибыль."
   ]
  },
  {
   "cell_type": "markdown",
   "id": "7df9ea0c",
   "metadata": {},
   "source": [
    "### Посмотрим, как влияют на продажи внутри одной популярной платформы отзывы пользователей и критиков"
   ]
  },
  {
   "cell_type": "markdown",
   "id": "ab85521b",
   "metadata": {},
   "source": [
    "***Построим диаграмму рассеяния и посчитаем корреляцию между отзывами и продажами, сформулируем выводы.***"
   ]
  },
  {
   "cell_type": "code",
   "execution_count": 207,
   "id": "3b431770",
   "metadata": {},
   "outputs": [
    {
     "data": {
      "text/html": [
       "<div>\n",
       "<style scoped>\n",
       "    .dataframe tbody tr th:only-of-type {\n",
       "        vertical-align: middle;\n",
       "    }\n",
       "\n",
       "    .dataframe tbody tr th {\n",
       "        vertical-align: top;\n",
       "    }\n",
       "\n",
       "    .dataframe thead th {\n",
       "        text-align: right;\n",
       "    }\n",
       "</style>\n",
       "<table border=\"1\" class=\"dataframe\">\n",
       "  <thead>\n",
       "    <tr style=\"text-align: right;\">\n",
       "      <th></th>\n",
       "      <th>platform</th>\n",
       "      <th>total_sales</th>\n",
       "    </tr>\n",
       "  </thead>\n",
       "  <tbody>\n",
       "    <tr>\n",
       "      <th>0</th>\n",
       "      <td>PS2</td>\n",
       "      <td>1233.56</td>\n",
       "    </tr>\n",
       "    <tr>\n",
       "      <th>1</th>\n",
       "      <td>X360</td>\n",
       "      <td>961.24</td>\n",
       "    </tr>\n",
       "    <tr>\n",
       "      <th>2</th>\n",
       "      <td>PS3</td>\n",
       "      <td>931.34</td>\n",
       "    </tr>\n",
       "    <tr>\n",
       "      <th>3</th>\n",
       "      <td>Wii</td>\n",
       "      <td>891.18</td>\n",
       "    </tr>\n",
       "    <tr>\n",
       "      <th>4</th>\n",
       "      <td>DS</td>\n",
       "      <td>802.78</td>\n",
       "    </tr>\n",
       "    <tr>\n",
       "      <th>5</th>\n",
       "      <td>PS</td>\n",
       "      <td>727.58</td>\n",
       "    </tr>\n",
       "    <tr>\n",
       "      <th>6</th>\n",
       "      <td>PS4</td>\n",
       "      <td>314.14</td>\n",
       "    </tr>\n",
       "    <tr>\n",
       "      <th>7</th>\n",
       "      <td>GBA</td>\n",
       "      <td>312.88</td>\n",
       "    </tr>\n",
       "    <tr>\n",
       "      <th>8</th>\n",
       "      <td>PSP</td>\n",
       "      <td>289.53</td>\n",
       "    </tr>\n",
       "    <tr>\n",
       "      <th>9</th>\n",
       "      <td>3DS</td>\n",
       "      <td>257.81</td>\n",
       "    </tr>\n",
       "    <tr>\n",
       "      <th>10</th>\n",
       "      <td>PC</td>\n",
       "      <td>255.76</td>\n",
       "    </tr>\n",
       "  </tbody>\n",
       "</table>\n",
       "</div>"
      ],
      "text/plain": [
       "   platform  total_sales\n",
       "0       PS2      1233.56\n",
       "1      X360       961.24\n",
       "2       PS3       931.34\n",
       "3       Wii       891.18\n",
       "4        DS       802.78\n",
       "5        PS       727.58\n",
       "6       PS4       314.14\n",
       "7       GBA       312.88\n",
       "8       PSP       289.53\n",
       "9       3DS       257.81\n",
       "10       PC       255.76"
      ]
     },
     "execution_count": 207,
     "metadata": {},
     "output_type": "execute_result"
    }
   ],
   "source": [
    "# вспомним популярные платформы\n",
    "\n",
    "top10_by_sales"
   ]
  },
  {
   "cell_type": "code",
   "execution_count": 208,
   "id": "672d6ff9",
   "metadata": {},
   "outputs": [
    {
     "data": {
      "text/html": [
       "<div>\n",
       "<style scoped>\n",
       "    .dataframe tbody tr th:only-of-type {\n",
       "        vertical-align: middle;\n",
       "    }\n",
       "\n",
       "    .dataframe tbody tr th {\n",
       "        vertical-align: top;\n",
       "    }\n",
       "\n",
       "    .dataframe thead th {\n",
       "        text-align: right;\n",
       "    }\n",
       "</style>\n",
       "<table border=\"1\" class=\"dataframe\">\n",
       "  <thead>\n",
       "    <tr style=\"text-align: right;\">\n",
       "      <th></th>\n",
       "      <th>index</th>\n",
       "      <th>total_sales</th>\n",
       "      <th>critic_score</th>\n",
       "      <th>user_score</th>\n",
       "    </tr>\n",
       "  </thead>\n",
       "  <tbody>\n",
       "    <tr>\n",
       "      <th>0</th>\n",
       "      <td>123</td>\n",
       "      <td>1.36</td>\n",
       "      <td>83</td>\n",
       "      <td>5.9</td>\n",
       "    </tr>\n",
       "    <tr>\n",
       "      <th>1</th>\n",
       "      <td>138</td>\n",
       "      <td>1.27</td>\n",
       "      <td>69</td>\n",
       "      <td>7.2</td>\n",
       "    </tr>\n",
       "    <tr>\n",
       "      <th>2</th>\n",
       "      <td>163</td>\n",
       "      <td>1.07</td>\n",
       "      <td>69</td>\n",
       "      <td>7.3</td>\n",
       "    </tr>\n",
       "    <tr>\n",
       "      <th>3</th>\n",
       "      <td>168</td>\n",
       "      <td>1.01</td>\n",
       "      <td>72</td>\n",
       "      <td>7.3</td>\n",
       "    </tr>\n",
       "    <tr>\n",
       "      <th>4</th>\n",
       "      <td>186</td>\n",
       "      <td>0.93</td>\n",
       "      <td>82</td>\n",
       "      <td>8.4</td>\n",
       "    </tr>\n",
       "  </tbody>\n",
       "</table>\n",
       "</div>"
      ],
      "text/plain": [
       "   index  total_sales  critic_score  user_score\n",
       "0    123         1.36            83         5.9\n",
       "1    138         1.27            69         7.2\n",
       "2    163         1.07            69         7.3\n",
       "3    168         1.01            72         7.3\n",
       "4    186         0.93            82         8.4"
      ]
     },
     "execution_count": 208,
     "metadata": {},
     "output_type": "execute_result"
    }
   ],
   "source": [
    "# возьмём, например, Xbox360\n",
    "\n",
    "x360 = df_actual.query('platform == \"X360\" and user_score != 0 and critic_score != 0')[['total_sales', \n",
    "                                                                                        'critic_score', \n",
    "                                                                                        'user_score']].reset_index()\n",
    "x360.head()"
   ]
  },
  {
   "cell_type": "code",
   "execution_count": 209,
   "id": "bf436125",
   "metadata": {
    "scrolled": true
   },
   "outputs": [
    {
     "data": {
      "text/html": [
       "<div>\n",
       "<style scoped>\n",
       "    .dataframe tbody tr th:only-of-type {\n",
       "        vertical-align: middle;\n",
       "    }\n",
       "\n",
       "    .dataframe tbody tr th {\n",
       "        vertical-align: top;\n",
       "    }\n",
       "\n",
       "    .dataframe thead th {\n",
       "        text-align: right;\n",
       "    }\n",
       "</style>\n",
       "<table border=\"1\" class=\"dataframe\">\n",
       "  <thead>\n",
       "    <tr style=\"text-align: right;\">\n",
       "      <th></th>\n",
       "      <th>index</th>\n",
       "      <th>total_sales</th>\n",
       "      <th>critic_score</th>\n",
       "      <th>user_score</th>\n",
       "    </tr>\n",
       "  </thead>\n",
       "  <tbody>\n",
       "    <tr>\n",
       "      <th>index</th>\n",
       "      <td>1.000000</td>\n",
       "      <td>-0.906756</td>\n",
       "      <td>-0.604843</td>\n",
       "      <td>-0.333189</td>\n",
       "    </tr>\n",
       "    <tr>\n",
       "      <th>total_sales</th>\n",
       "      <td>-0.906756</td>\n",
       "      <td>1.000000</td>\n",
       "      <td>0.525723</td>\n",
       "      <td>0.336514</td>\n",
       "    </tr>\n",
       "    <tr>\n",
       "      <th>critic_score</th>\n",
       "      <td>-0.604843</td>\n",
       "      <td>0.525723</td>\n",
       "      <td>1.000000</td>\n",
       "      <td>0.625309</td>\n",
       "    </tr>\n",
       "    <tr>\n",
       "      <th>user_score</th>\n",
       "      <td>-0.333189</td>\n",
       "      <td>0.336514</td>\n",
       "      <td>0.625309</td>\n",
       "      <td>1.000000</td>\n",
       "    </tr>\n",
       "  </tbody>\n",
       "</table>\n",
       "</div>"
      ],
      "text/plain": [
       "                 index  total_sales  critic_score  user_score\n",
       "index         1.000000    -0.906756     -0.604843   -0.333189\n",
       "total_sales  -0.906756     1.000000      0.525723    0.336514\n",
       "critic_score -0.604843     0.525723      1.000000    0.625309\n",
       "user_score   -0.333189     0.336514      0.625309    1.000000"
      ]
     },
     "execution_count": 209,
     "metadata": {},
     "output_type": "execute_result"
    }
   ],
   "source": [
    "# посчитаем корреляцию\n",
    "\n",
    "x360.corr()"
   ]
  },
  {
   "cell_type": "code",
   "execution_count": 210,
   "id": "6435677d",
   "metadata": {},
   "outputs": [
    {
     "data": {
      "text/plain": [
       "0.5257228356581523"
      ]
     },
     "execution_count": 210,
     "metadata": {},
     "output_type": "execute_result"
    }
   ],
   "source": [
    "# корреляция продаж и отзывов критиков\n",
    "\n",
    "x360['total_sales'].corr(x360['critic_score'])"
   ]
  },
  {
   "cell_type": "code",
   "execution_count": 211,
   "id": "90bff69d",
   "metadata": {},
   "outputs": [
    {
     "data": {
      "text/plain": [
       "0.3365136248359934"
      ]
     },
     "execution_count": 211,
     "metadata": {},
     "output_type": "execute_result"
    }
   ],
   "source": [
    "# корреляция продаж и отзывов геймеров\n",
    "\n",
    "x360['total_sales'].corr(x360['user_score'])"
   ]
  },
  {
   "cell_type": "code",
   "execution_count": 212,
   "id": "77f6abbd",
   "metadata": {},
   "outputs": [
    {
     "data": {
      "image/png": "[encoded data removed]",
      "text/plain": [
       "<Figure size 936x360 with 1 Axes>"
      ]
     },
     "metadata": {
      "needs_background": "light"
     },
     "output_type": "display_data"
    }
   ],
   "source": [
    "# построим диаграмму\n",
    "\n",
    "x360.plot(\n",
    "    x='critic_score',\n",
    "    y='total_sales',\n",
    "    kind='scatter',\n",
    "    figsize=(13,5)\n",
    ")\n",
    "\n",
    "plt.title('Продажи на Xbox 360 и отзывы критиков');"
   ]
  },
  {
   "cell_type": "code",
   "execution_count": 213,
   "id": "a1078903",
   "metadata": {},
   "outputs": [
    {
     "data": {
      "image/png": "[encoded data removed]",
      "text/plain": [
       "<Figure size 936x360 with 1 Axes>"
      ]
     },
     "metadata": {
      "needs_background": "light"
     },
     "output_type": "display_data"
    }
   ],
   "source": [
    "# построим диаграмму\n",
    "\n",
    "x360.plot(\n",
    "    x='user_score',\n",
    "    y='total_sales',\n",
    "    kind='scatter',\n",
    "    figsize=(13,5)\n",
    ")\n",
    "\n",
    "plt.title('Продажи на Xbox 360 и отзывы геймеров');"
   ]
  },
  {
   "cell_type": "markdown",
   "id": "15be402f",
   "metadata": {},
   "source": [
    "**Вывод:** Ожидаемо оценки от критиков влияют на продажи больше, чем отзывы геймеров, т.к. доверие к мнению журналистов и блогеров выше. Но нельзя сказать, что разница большая, видимо, многие не уверены в беспристрастности экспертных оценок и больше доверяют отзывам обычных людей. Но журналисты получают доступ к играм в первую очередь и формируют первый взгляд и оценки, которые после релиза могут уже корректироваться мнениями геймеров."
   ]
  },
  {
   "cell_type": "markdown",
   "id": "a5104529",
   "metadata": {},
   "source": [
    "### Соотнесём выводы с продажами игр на других платформах"
   ]
  },
  {
   "cell_type": "markdown",
   "id": "a7072744",
   "metadata": {},
   "source": [
    "Логично предположить, что выводы о корреляции отзывов и продаж по одной платформе в целом будут верны и для остальных, т.к. платформ много, а рецензии критиков и отзывы геймеров это практически единственный способ получить достаточно адекватное представление об игре и именно он часто влияет на решение о покупке игры. Поэтому посчитаем корреляцию по ещё двум-трём популярным платформам и сравним результаты."
   ]
  },
  {
   "cell_type": "code",
   "execution_count": 214,
   "id": "26426c9c",
   "metadata": {},
   "outputs": [
    {
     "data": {
      "text/html": [
       "<div>\n",
       "<style scoped>\n",
       "    .dataframe tbody tr th:only-of-type {\n",
       "        vertical-align: middle;\n",
       "    }\n",
       "\n",
       "    .dataframe tbody tr th {\n",
       "        vertical-align: top;\n",
       "    }\n",
       "\n",
       "    .dataframe thead th {\n",
       "        text-align: right;\n",
       "    }\n",
       "</style>\n",
       "<table border=\"1\" class=\"dataframe\">\n",
       "  <thead>\n",
       "    <tr style=\"text-align: right;\">\n",
       "      <th></th>\n",
       "      <th>index</th>\n",
       "      <th>total_sales</th>\n",
       "      <th>critic_score</th>\n",
       "      <th>user_score</th>\n",
       "    </tr>\n",
       "  </thead>\n",
       "  <tbody>\n",
       "    <tr>\n",
       "      <th>0</th>\n",
       "      <td>136</td>\n",
       "      <td>1.28</td>\n",
       "      <td>72</td>\n",
       "      <td>7.5</td>\n",
       "    </tr>\n",
       "    <tr>\n",
       "      <th>1</th>\n",
       "      <td>139</td>\n",
       "      <td>1.28</td>\n",
       "      <td>91</td>\n",
       "      <td>8.1</td>\n",
       "    </tr>\n",
       "    <tr>\n",
       "      <th>2</th>\n",
       "      <td>183</td>\n",
       "      <td>0.93</td>\n",
       "      <td>80</td>\n",
       "      <td>6.8</td>\n",
       "    </tr>\n",
       "    <tr>\n",
       "      <th>3</th>\n",
       "      <td>185</td>\n",
       "      <td>0.93</td>\n",
       "      <td>85</td>\n",
       "      <td>8.5</td>\n",
       "    </tr>\n",
       "    <tr>\n",
       "      <th>4</th>\n",
       "      <td>210</td>\n",
       "      <td>0.78</td>\n",
       "      <td>55</td>\n",
       "      <td>3.1</td>\n",
       "    </tr>\n",
       "  </tbody>\n",
       "</table>\n",
       "</div>"
      ],
      "text/plain": [
       "   index  total_sales  critic_score  user_score\n",
       "0    136         1.28            72         7.5\n",
       "1    139         1.28            91         8.1\n",
       "2    183         0.93            80         6.8\n",
       "3    185         0.93            85         8.5\n",
       "4    210         0.78            55         3.1"
      ]
     },
     "execution_count": 214,
     "metadata": {},
     "output_type": "execute_result"
    }
   ],
   "source": [
    "# возьмём PS3, приставку\n",
    "\n",
    "ps3 = df_actual.query('platform == \"PS3\" and user_score != 0 and critic_score != 0')[['total_sales', \n",
    "                                                                                        'critic_score', \n",
    "                                                                                        'user_score']].reset_index()\n",
    "ps3.head()"
   ]
  },
  {
   "cell_type": "code",
   "execution_count": 215,
   "id": "e2f971e2",
   "metadata": {},
   "outputs": [
    {
     "data": {
      "text/html": [
       "<div>\n",
       "<style scoped>\n",
       "    .dataframe tbody tr th:only-of-type {\n",
       "        vertical-align: middle;\n",
       "    }\n",
       "\n",
       "    .dataframe tbody tr th {\n",
       "        vertical-align: top;\n",
       "    }\n",
       "\n",
       "    .dataframe thead th {\n",
       "        text-align: right;\n",
       "    }\n",
       "</style>\n",
       "<table border=\"1\" class=\"dataframe\">\n",
       "  <thead>\n",
       "    <tr style=\"text-align: right;\">\n",
       "      <th></th>\n",
       "      <th>index</th>\n",
       "      <th>total_sales</th>\n",
       "      <th>critic_score</th>\n",
       "      <th>user_score</th>\n",
       "    </tr>\n",
       "  </thead>\n",
       "  <tbody>\n",
       "    <tr>\n",
       "      <th>index</th>\n",
       "      <td>1.000000</td>\n",
       "      <td>-0.804677</td>\n",
       "      <td>-0.415009</td>\n",
       "      <td>-0.163281</td>\n",
       "    </tr>\n",
       "    <tr>\n",
       "      <th>total_sales</th>\n",
       "      <td>-0.804677</td>\n",
       "      <td>1.000000</td>\n",
       "      <td>0.446575</td>\n",
       "      <td>0.156595</td>\n",
       "    </tr>\n",
       "    <tr>\n",
       "      <th>critic_score</th>\n",
       "      <td>-0.415009</td>\n",
       "      <td>0.446575</td>\n",
       "      <td>1.000000</td>\n",
       "      <td>0.693445</td>\n",
       "    </tr>\n",
       "    <tr>\n",
       "      <th>user_score</th>\n",
       "      <td>-0.163281</td>\n",
       "      <td>0.156595</td>\n",
       "      <td>0.693445</td>\n",
       "      <td>1.000000</td>\n",
       "    </tr>\n",
       "  </tbody>\n",
       "</table>\n",
       "</div>"
      ],
      "text/plain": [
       "                 index  total_sales  critic_score  user_score\n",
       "index         1.000000    -0.804677     -0.415009   -0.163281\n",
       "total_sales  -0.804677     1.000000      0.446575    0.156595\n",
       "critic_score -0.415009     0.446575      1.000000    0.693445\n",
       "user_score   -0.163281     0.156595      0.693445    1.000000"
      ]
     },
     "execution_count": 215,
     "metadata": {},
     "output_type": "execute_result"
    }
   ],
   "source": [
    "ps3.corr()"
   ]
  },
  {
   "cell_type": "code",
   "execution_count": 216,
   "id": "367fc8f9",
   "metadata": {},
   "outputs": [
    {
     "data": {
      "text/plain": [
       "0.44657460493190704"
      ]
     },
     "execution_count": 216,
     "metadata": {},
     "output_type": "execute_result"
    }
   ],
   "source": [
    "# корреляция продаж и отзывов критиков\n",
    "\n",
    "ps3['total_sales'].corr(ps3['critic_score'])"
   ]
  },
  {
   "cell_type": "code",
   "execution_count": 217,
   "id": "7de987e9",
   "metadata": {},
   "outputs": [
    {
     "data": {
      "text/plain": [
       "0.1565951618135996"
      ]
     },
     "execution_count": 217,
     "metadata": {},
     "output_type": "execute_result"
    }
   ],
   "source": [
    "# корреляция продаж и отзывов геймеров\n",
    "\n",
    "ps3['total_sales'].corr(ps3['user_score'])"
   ]
  },
  {
   "cell_type": "markdown",
   "id": "e3d74d3b",
   "metadata": {},
   "source": [
    "Пока предположение подтверждается, степень корреляции похожая. (У Xbox360 **0.5257228356581523** и **0.33651362483599334** соответственно)."
   ]
  },
  {
   "cell_type": "code",
   "execution_count": 218,
   "id": "f63dbe08",
   "metadata": {},
   "outputs": [
    {
     "data": {
      "text/html": [
       "<div>\n",
       "<style scoped>\n",
       "    .dataframe tbody tr th:only-of-type {\n",
       "        vertical-align: middle;\n",
       "    }\n",
       "\n",
       "    .dataframe tbody tr th {\n",
       "        vertical-align: top;\n",
       "    }\n",
       "\n",
       "    .dataframe thead th {\n",
       "        text-align: right;\n",
       "    }\n",
       "</style>\n",
       "<table border=\"1\" class=\"dataframe\">\n",
       "  <thead>\n",
       "    <tr style=\"text-align: right;\">\n",
       "      <th></th>\n",
       "      <th>index</th>\n",
       "      <th>total_sales</th>\n",
       "      <th>critic_score</th>\n",
       "      <th>user_score</th>\n",
       "    </tr>\n",
       "  </thead>\n",
       "  <tbody>\n",
       "    <tr>\n",
       "      <th>0</th>\n",
       "      <td>51</td>\n",
       "      <td>3.05</td>\n",
       "      <td>70</td>\n",
       "      <td>3.9</td>\n",
       "    </tr>\n",
       "    <tr>\n",
       "      <th>1</th>\n",
       "      <td>135</td>\n",
       "      <td>1.28</td>\n",
       "      <td>84</td>\n",
       "      <td>5.4</td>\n",
       "    </tr>\n",
       "    <tr>\n",
       "      <th>2</th>\n",
       "      <td>152</td>\n",
       "      <td>1.17</td>\n",
       "      <td>96</td>\n",
       "      <td>7.9</td>\n",
       "    </tr>\n",
       "    <tr>\n",
       "      <th>3</th>\n",
       "      <td>191</td>\n",
       "      <td>0.90</td>\n",
       "      <td>71</td>\n",
       "      <td>5.7</td>\n",
       "    </tr>\n",
       "    <tr>\n",
       "      <th>4</th>\n",
       "      <td>228</td>\n",
       "      <td>0.73</td>\n",
       "      <td>85</td>\n",
       "      <td>5.9</td>\n",
       "    </tr>\n",
       "  </tbody>\n",
       "</table>\n",
       "</div>"
      ],
      "text/plain": [
       "   index  total_sales  critic_score  user_score\n",
       "0     51         3.05            70         3.9\n",
       "1    135         1.28            84         5.4\n",
       "2    152         1.17            96         7.9\n",
       "3    191         0.90            71         5.7\n",
       "4    228         0.73            85         5.9"
      ]
     },
     "execution_count": 218,
     "metadata": {},
     "output_type": "execute_result"
    }
   ],
   "source": [
    "# возьмём PC, старый добрый персональный компуктер\n",
    "\n",
    "pc = df_actual.query('platform == \"PC\" and user_score != 0 and critic_score != 0')[['total_sales', \n",
    "                                                                                    'critic_score', \n",
    "                                                                                    'user_score']].reset_index()\n",
    "pc.head()"
   ]
  },
  {
   "cell_type": "code",
   "execution_count": 219,
   "id": "14203357",
   "metadata": {},
   "outputs": [
    {
     "data": {
      "text/html": [
       "<div>\n",
       "<style scoped>\n",
       "    .dataframe tbody tr th:only-of-type {\n",
       "        vertical-align: middle;\n",
       "    }\n",
       "\n",
       "    .dataframe tbody tr th {\n",
       "        vertical-align: top;\n",
       "    }\n",
       "\n",
       "    .dataframe thead th {\n",
       "        text-align: right;\n",
       "    }\n",
       "</style>\n",
       "<table border=\"1\" class=\"dataframe\">\n",
       "  <thead>\n",
       "    <tr style=\"text-align: right;\">\n",
       "      <th></th>\n",
       "      <th>index</th>\n",
       "      <th>total_sales</th>\n",
       "      <th>critic_score</th>\n",
       "      <th>user_score</th>\n",
       "    </tr>\n",
       "  </thead>\n",
       "  <tbody>\n",
       "    <tr>\n",
       "      <th>index</th>\n",
       "      <td>1.000000</td>\n",
       "      <td>-0.647820</td>\n",
       "      <td>-0.361581</td>\n",
       "      <td>0.059591</td>\n",
       "    </tr>\n",
       "    <tr>\n",
       "      <th>total_sales</th>\n",
       "      <td>-0.647820</td>\n",
       "      <td>1.000000</td>\n",
       "      <td>0.172061</td>\n",
       "      <td>-0.089974</td>\n",
       "    </tr>\n",
       "    <tr>\n",
       "      <th>critic_score</th>\n",
       "      <td>-0.361581</td>\n",
       "      <td>0.172061</td>\n",
       "      <td>1.000000</td>\n",
       "      <td>0.466099</td>\n",
       "    </tr>\n",
       "    <tr>\n",
       "      <th>user_score</th>\n",
       "      <td>0.059591</td>\n",
       "      <td>-0.089974</td>\n",
       "      <td>0.466099</td>\n",
       "      <td>1.000000</td>\n",
       "    </tr>\n",
       "  </tbody>\n",
       "</table>\n",
       "</div>"
      ],
      "text/plain": [
       "                 index  total_sales  critic_score  user_score\n",
       "index         1.000000    -0.647820     -0.361581    0.059591\n",
       "total_sales  -0.647820     1.000000      0.172061   -0.089974\n",
       "critic_score -0.361581     0.172061      1.000000    0.466099\n",
       "user_score    0.059591    -0.089974      0.466099    1.000000"
      ]
     },
     "execution_count": 219,
     "metadata": {},
     "output_type": "execute_result"
    }
   ],
   "source": [
    "pc.corr()"
   ]
  },
  {
   "cell_type": "code",
   "execution_count": 220,
   "id": "ef10f703",
   "metadata": {},
   "outputs": [
    {
     "data": {
      "text/plain": [
       "0.17206091490145103"
      ]
     },
     "execution_count": 220,
     "metadata": {},
     "output_type": "execute_result"
    }
   ],
   "source": [
    "# корреляция продаж и отзывов критиков\n",
    "\n",
    "pc['total_sales'].corr(pc['critic_score'])"
   ]
  },
  {
   "cell_type": "code",
   "execution_count": 221,
   "id": "aec08579",
   "metadata": {},
   "outputs": [
    {
     "data": {
      "text/plain": [
       "-0.08997391228554938"
      ]
     },
     "execution_count": 221,
     "metadata": {},
     "output_type": "execute_result"
    }
   ],
   "source": [
    "# корреляция продаж и отзывов геймеров\n",
    "\n",
    "pc['total_sales'].corr(pc['user_score'])"
   ]
  },
  {
   "cell_type": "markdown",
   "id": "96da6446",
   "metadata": {},
   "source": [
    "В этом случае картина поменялась значительно. Но такое положение дел в принципе объяснимо, пользователи ПК это другая когорта геймеров, которые отличаются от приставочников и привычками, и традициями. Персональный компьютер это старая игровая платформа, многие играли когда не ещё не было тематических журналов, интернета, информации об играх получить было неоткуда, поэтому всё проверялось на собственном опыте. Возможно, это объясняет такие значения корреляции."
   ]
  },
  {
   "cell_type": "code",
   "execution_count": 222,
   "id": "a3d63389",
   "metadata": {},
   "outputs": [
    {
     "data": {
      "text/html": [
       "<div>\n",
       "<style scoped>\n",
       "    .dataframe tbody tr th:only-of-type {\n",
       "        vertical-align: middle;\n",
       "    }\n",
       "\n",
       "    .dataframe tbody tr th {\n",
       "        vertical-align: top;\n",
       "    }\n",
       "\n",
       "    .dataframe thead th {\n",
       "        text-align: right;\n",
       "    }\n",
       "</style>\n",
       "<table border=\"1\" class=\"dataframe\">\n",
       "  <thead>\n",
       "    <tr style=\"text-align: right;\">\n",
       "      <th></th>\n",
       "      <th>index</th>\n",
       "      <th>total_sales</th>\n",
       "      <th>critic_score</th>\n",
       "      <th>user_score</th>\n",
       "    </tr>\n",
       "  </thead>\n",
       "  <tbody>\n",
       "    <tr>\n",
       "      <th>0</th>\n",
       "      <td>35</td>\n",
       "      <td>3.89</td>\n",
       "      <td>86</td>\n",
       "      <td>8.7</td>\n",
       "    </tr>\n",
       "    <tr>\n",
       "      <th>1</th>\n",
       "      <td>50</td>\n",
       "      <td>3.05</td>\n",
       "      <td>66</td>\n",
       "      <td>6.9</td>\n",
       "    </tr>\n",
       "    <tr>\n",
       "      <th>2</th>\n",
       "      <td>66</td>\n",
       "      <td>2.34</td>\n",
       "      <td>89</td>\n",
       "      <td>9.0</td>\n",
       "    </tr>\n",
       "    <tr>\n",
       "      <th>3</th>\n",
       "      <td>88</td>\n",
       "      <td>1.83</td>\n",
       "      <td>80</td>\n",
       "      <td>8.8</td>\n",
       "    </tr>\n",
       "    <tr>\n",
       "      <th>4</th>\n",
       "      <td>120</td>\n",
       "      <td>1.38</td>\n",
       "      <td>64</td>\n",
       "      <td>6.1</td>\n",
       "    </tr>\n",
       "  </tbody>\n",
       "</table>\n",
       "</div>"
      ],
      "text/plain": [
       "   index  total_sales  critic_score  user_score\n",
       "0     35         3.89            86         8.7\n",
       "1     50         3.05            66         6.9\n",
       "2     66         2.34            89         9.0\n",
       "3     88         1.83            80         8.8\n",
       "4    120         1.38            64         6.1"
      ]
     },
     "execution_count": 222,
     "metadata": {},
     "output_type": "execute_result"
    }
   ],
   "source": [
    "# возьмём 3DS, портативную консоль\n",
    "\n",
    "ds3 = df_actual.query('platform == \"3DS\" and user_score != 0 and critic_score != 0')[['total_sales', \n",
    "                                                                                    'critic_score', \n",
    "                                                                                    'user_score']].reset_index()\n",
    "ds3.head()"
   ]
  },
  {
   "cell_type": "code",
   "execution_count": 223,
   "id": "e00b5e04",
   "metadata": {},
   "outputs": [
    {
     "data": {
      "text/html": [
       "<div>\n",
       "<style scoped>\n",
       "    .dataframe tbody tr th:only-of-type {\n",
       "        vertical-align: middle;\n",
       "    }\n",
       "\n",
       "    .dataframe tbody tr th {\n",
       "        vertical-align: top;\n",
       "    }\n",
       "\n",
       "    .dataframe thead th {\n",
       "        text-align: right;\n",
       "    }\n",
       "</style>\n",
       "<table border=\"1\" class=\"dataframe\">\n",
       "  <thead>\n",
       "    <tr style=\"text-align: right;\">\n",
       "      <th></th>\n",
       "      <th>index</th>\n",
       "      <th>total_sales</th>\n",
       "      <th>critic_score</th>\n",
       "      <th>user_score</th>\n",
       "    </tr>\n",
       "  </thead>\n",
       "  <tbody>\n",
       "    <tr>\n",
       "      <th>index</th>\n",
       "      <td>1.000000</td>\n",
       "      <td>-0.655278</td>\n",
       "      <td>-0.368214</td>\n",
       "      <td>-0.350216</td>\n",
       "    </tr>\n",
       "    <tr>\n",
       "      <th>total_sales</th>\n",
       "      <td>-0.655278</td>\n",
       "      <td>1.000000</td>\n",
       "      <td>0.284686</td>\n",
       "      <td>0.279850</td>\n",
       "    </tr>\n",
       "    <tr>\n",
       "      <th>critic_score</th>\n",
       "      <td>-0.368214</td>\n",
       "      <td>0.284686</td>\n",
       "      <td>1.000000</td>\n",
       "      <td>0.862485</td>\n",
       "    </tr>\n",
       "    <tr>\n",
       "      <th>user_score</th>\n",
       "      <td>-0.350216</td>\n",
       "      <td>0.279850</td>\n",
       "      <td>0.862485</td>\n",
       "      <td>1.000000</td>\n",
       "    </tr>\n",
       "  </tbody>\n",
       "</table>\n",
       "</div>"
      ],
      "text/plain": [
       "                 index  total_sales  critic_score  user_score\n",
       "index         1.000000    -0.655278     -0.368214   -0.350216\n",
       "total_sales  -0.655278     1.000000      0.284686    0.279850\n",
       "critic_score -0.368214     0.284686      1.000000    0.862485\n",
       "user_score   -0.350216     0.279850      0.862485    1.000000"
      ]
     },
     "execution_count": 223,
     "metadata": {},
     "output_type": "execute_result"
    }
   ],
   "source": [
    "ds3.corr()"
   ]
  },
  {
   "cell_type": "code",
   "execution_count": 224,
   "id": "edd97d55",
   "metadata": {},
   "outputs": [
    {
     "data": {
      "text/plain": [
       "0.28468579095782925"
      ]
     },
     "execution_count": 224,
     "metadata": {},
     "output_type": "execute_result"
    }
   ],
   "source": [
    "# корреляция продаж и отзывов критиков\n",
    "\n",
    "ds3['total_sales'].corr(ds3['critic_score'])"
   ]
  },
  {
   "cell_type": "code",
   "execution_count": 225,
   "id": "f664efbd",
   "metadata": {},
   "outputs": [
    {
     "data": {
      "text/plain": [
       "0.2798498792503281"
      ]
     },
     "execution_count": 225,
     "metadata": {},
     "output_type": "execute_result"
    }
   ],
   "source": [
    "# корреляция продаж и отзывов геймеров\n",
    "\n",
    "ds3['total_sales'].corr(ds3['user_score'])"
   ]
  },
  {
   "cell_type": "markdown",
   "id": "2e0133db",
   "metadata": {},
   "source": [
    "В этом случае корреляция снова ближе к значениям других приставок."
   ]
  },
  {
   "cell_type": "markdown",
   "id": "b39d1971",
   "metadata": {},
   "source": [
    "**Вывод:** Если сравнивать корреляцию продаж и отзывов, то на приставках значения похожи, а \"ПК-бояре\" стоят особняком, зависимость даже ушла в минус по оценкам юзеров."
   ]
  },
  {
   "cell_type": "markdown",
   "id": "292d1c24",
   "metadata": {},
   "source": [
    "### Посмотрим на общее распределение игр по жанрам"
   ]
  },
  {
   "cell_type": "markdown",
   "id": "927953f2",
   "metadata": {},
   "source": [
    "***Ответим на два вопроса: Что можно сказать о самых прибыльных жанрах? Выделяются ли жанры с высокими и низкими продажами?***"
   ]
  },
  {
   "cell_type": "code",
   "execution_count": 226,
   "id": "a4bb439e",
   "metadata": {},
   "outputs": [
    {
     "data": {
      "text/plain": [
       "Action          619\n",
       "Role-Playing    221\n",
       "Adventure       185\n",
       "Sports          161\n",
       "Shooter         128\n",
       "Misc            113\n",
       "Racing           69\n",
       "Fighting         60\n",
       "Simulation       44\n",
       "Platform         38\n",
       "Strategy         37\n",
       "Puzzle           14\n",
       "Name: genre, dtype: int64"
      ]
     },
     "execution_count": 226,
     "metadata": {},
     "output_type": "execute_result"
    }
   ],
   "source": [
    "# оценим распределение\n",
    "\n",
    "df_actual['genre'].value_counts()"
   ]
  },
  {
   "cell_type": "markdown",
   "id": "93acec16",
   "metadata": {},
   "source": [
    "Видим, что с большим отрывом лидирует жанр Action. Стоит отметить, что это довольно расплывчатое, собирательное понятие. Жанр Shooter раньше часто указывался как 3D-Action, а сегодня в Action можно отнести и тот же шутер от первого лица, и РПГ с видом от третьего лица, где машут мечами, всё это по сути является \"экшеном\".  \n",
    "Кроме того, видим значение \"Misc\", что означает \"Разное\", в этот раздел может попасть и паззл, и симулятор козла (да, есть и такой) и вообще всякий арт-хаус от мира игр.  \n",
    "И грустно видеть отсутствие квестов, в прошлом очень популярного жанра.  \n",
    "Таким образом, деление на жанры иногда весьма условное."
   ]
  },
  {
   "cell_type": "code",
   "execution_count": 227,
   "id": "d64339ab",
   "metadata": {},
   "outputs": [
    {
     "data": {
      "text/plain": [
       "genre\n",
       "Action          199.36\n",
       "Shooter         170.94\n",
       "Sports          109.48\n",
       "Role-Playing    101.44\n",
       "Misc             37.55\n",
       "Fighting         28.22\n",
       "Racing           27.52\n",
       "Platform         18.09\n",
       "Adventure        17.55\n",
       "Simulation       13.13\n",
       "Strategy          3.96\n",
       "Puzzle            2.21\n",
       "Name: total_sales, dtype: float64"
      ]
     },
     "execution_count": 227,
     "metadata": {},
     "output_type": "execute_result"
    }
   ],
   "source": [
    "# посчитаем продажи по жанрам\n",
    "\n",
    "sales_by_genre = df_actual.groupby('genre')['total_sales'].sum().sort_values(ascending=False)\n",
    "sales_by_genre"
   ]
  },
  {
   "cell_type": "markdown",
   "id": "d2395c05",
   "metadata": {},
   "source": [
    "**Вывод:** Ожидаемо самые популярные жанры это экшены, шутеры, спортивные игры и РПГ. Их продажи по сравнению с другими категориями огромные. А тоже некогда популярные стратегии в конце списка, вместе с головоломками, их продажи очень малы даже в сравнении с серединой списка."
   ]
  },
  {
   "cell_type": "code",
   "execution_count": 255,
   "id": "8cab8f09",
   "metadata": {
    "scrolled": true
   },
   "outputs": [
    {
     "data": {
      "text/html": [
       "<div>\n",
       "<style scoped>\n",
       "    .dataframe tbody tr th:only-of-type {\n",
       "        vertical-align: middle;\n",
       "    }\n",
       "\n",
       "    .dataframe tbody tr th {\n",
       "        vertical-align: top;\n",
       "    }\n",
       "\n",
       "    .dataframe thead th {\n",
       "        text-align: right;\n",
       "    }\n",
       "</style>\n",
       "<table border=\"1\" class=\"dataframe\">\n",
       "  <thead>\n",
       "    <tr style=\"text-align: right;\">\n",
       "      <th></th>\n",
       "      <th>count</th>\n",
       "      <th>median</th>\n",
       "      <th>mean</th>\n",
       "    </tr>\n",
       "    <tr>\n",
       "      <th>genre</th>\n",
       "      <th></th>\n",
       "      <th></th>\n",
       "      <th></th>\n",
       "    </tr>\n",
       "  </thead>\n",
       "  <tbody>\n",
       "    <tr>\n",
       "      <th>Shooter</th>\n",
       "      <td>128</td>\n",
       "      <td>0.515</td>\n",
       "      <td>1.335469</td>\n",
       "    </tr>\n",
       "    <tr>\n",
       "      <th>Sports</th>\n",
       "      <td>161</td>\n",
       "      <td>0.180</td>\n",
       "      <td>0.680000</td>\n",
       "    </tr>\n",
       "    <tr>\n",
       "      <th>Platform</th>\n",
       "      <td>38</td>\n",
       "      <td>0.140</td>\n",
       "      <td>0.476053</td>\n",
       "    </tr>\n",
       "    <tr>\n",
       "      <th>Fighting</th>\n",
       "      <td>60</td>\n",
       "      <td>0.125</td>\n",
       "      <td>0.470333</td>\n",
       "    </tr>\n",
       "    <tr>\n",
       "      <th>Role-Playing</th>\n",
       "      <td>221</td>\n",
       "      <td>0.110</td>\n",
       "      <td>0.459005</td>\n",
       "    </tr>\n",
       "    <tr>\n",
       "      <th>Simulation</th>\n",
       "      <td>44</td>\n",
       "      <td>0.100</td>\n",
       "      <td>0.298409</td>\n",
       "    </tr>\n",
       "    <tr>\n",
       "      <th>Action</th>\n",
       "      <td>619</td>\n",
       "      <td>0.090</td>\n",
       "      <td>0.322068</td>\n",
       "    </tr>\n",
       "    <tr>\n",
       "      <th>Misc</th>\n",
       "      <td>113</td>\n",
       "      <td>0.090</td>\n",
       "      <td>0.332301</td>\n",
       "    </tr>\n",
       "    <tr>\n",
       "      <th>Racing</th>\n",
       "      <td>69</td>\n",
       "      <td>0.090</td>\n",
       "      <td>0.398841</td>\n",
       "    </tr>\n",
       "    <tr>\n",
       "      <th>Strategy</th>\n",
       "      <td>37</td>\n",
       "      <td>0.060</td>\n",
       "      <td>0.107027</td>\n",
       "    </tr>\n",
       "    <tr>\n",
       "      <th>Puzzle</th>\n",
       "      <td>14</td>\n",
       "      <td>0.045</td>\n",
       "      <td>0.157857</td>\n",
       "    </tr>\n",
       "    <tr>\n",
       "      <th>Adventure</th>\n",
       "      <td>185</td>\n",
       "      <td>0.030</td>\n",
       "      <td>0.094865</td>\n",
       "    </tr>\n",
       "  </tbody>\n",
       "</table>\n",
       "</div>"
      ],
      "text/plain": [
       "              count  median      mean\n",
       "genre                                \n",
       "Shooter         128   0.515  1.335469\n",
       "Sports          161   0.180  0.680000\n",
       "Platform         38   0.140  0.476053\n",
       "Fighting         60   0.125  0.470333\n",
       "Role-Playing    221   0.110  0.459005\n",
       "Simulation       44   0.100  0.298409\n",
       "Action          619   0.090  0.322068\n",
       "Misc            113   0.090  0.332301\n",
       "Racing           69   0.090  0.398841\n",
       "Strategy         37   0.060  0.107027\n",
       "Puzzle           14   0.045  0.157857\n",
       "Adventure       185   0.030  0.094865"
      ]
     },
     "execution_count": 255,
     "metadata": {},
     "output_type": "execute_result"
    }
   ],
   "source": [
    "# создадим таблицу со средним и медианой\n",
    "\n",
    "sales_by_genres = df_actual.groupby('genre').agg({'name': 'count', 'total_sales':['median', 'mean']})\n",
    "sales_by_genres.columns = ['count', 'median', 'mean']\n",
    "sales_by_genres = sales_by_genres.sort_values(by='median', ascending=False)\n",
    "sales_by_genres"
   ]
  },
  {
   "cell_type": "markdown",
   "id": "811843d7",
   "metadata": {},
   "source": [
    "**Вывод:** Действительно, такая точка зрения даёт другой результат. Хоть экшенов и много, а среднее и медиана невелики. Зато шутеры и спорт действительно прибыльные жанры, как и файтинги с РПГ, образовавшие топ-5 по медианным продажам. И довольно неожиданно платформеры оказались на третьем месте."
   ]
  },
  {
   "cell_type": "markdown",
   "id": "79e44a36",
   "metadata": {},
   "source": [
    "## Составим портрет пользователя каждого региона"
   ]
  },
  {
   "cell_type": "markdown",
   "id": "6f68ddfa",
   "metadata": {},
   "source": [
    "**Определим для пользователя каждого региона (NA, EU, JP) следующие параметры.**"
   ]
  },
  {
   "cell_type": "markdown",
   "id": "1d33fc55",
   "metadata": {},
   "source": [
    "### Самые популярные платформы (топ-5). Опишем различия в долях продаж"
   ]
  },
  {
   "cell_type": "markdown",
   "id": "c83d9456",
   "metadata": {},
   "source": [
    "#### Самые популярные платформы в Северной Америке (NA)"
   ]
  },
  {
   "cell_type": "code",
   "execution_count": 229,
   "id": "73fe79af",
   "metadata": {},
   "outputs": [
    {
     "data": {
      "text/html": [
       "<div>\n",
       "<style scoped>\n",
       "    .dataframe tbody tr th:only-of-type {\n",
       "        vertical-align: middle;\n",
       "    }\n",
       "\n",
       "    .dataframe tbody tr th {\n",
       "        vertical-align: top;\n",
       "    }\n",
       "\n",
       "    .dataframe thead th {\n",
       "        text-align: right;\n",
       "    }\n",
       "</style>\n",
       "<table border=\"1\" class=\"dataframe\">\n",
       "  <thead>\n",
       "    <tr style=\"text-align: right;\">\n",
       "      <th></th>\n",
       "      <th>platform</th>\n",
       "      <th>na_sales</th>\n",
       "    </tr>\n",
       "  </thead>\n",
       "  <tbody>\n",
       "    <tr>\n",
       "      <th>0</th>\n",
       "      <td>PS4</td>\n",
       "      <td>98.61</td>\n",
       "    </tr>\n",
       "    <tr>\n",
       "      <th>1</th>\n",
       "      <td>XOne</td>\n",
       "      <td>81.27</td>\n",
       "    </tr>\n",
       "    <tr>\n",
       "      <th>2</th>\n",
       "      <td>X360</td>\n",
       "      <td>28.30</td>\n",
       "    </tr>\n",
       "    <tr>\n",
       "      <th>3</th>\n",
       "      <td>3DS</td>\n",
       "      <td>22.64</td>\n",
       "    </tr>\n",
       "    <tr>\n",
       "      <th>4</th>\n",
       "      <td>PS3</td>\n",
       "      <td>22.05</td>\n",
       "    </tr>\n",
       "  </tbody>\n",
       "</table>\n",
       "</div>"
      ],
      "text/plain": [
       "  platform  na_sales\n",
       "0      PS4     98.61\n",
       "1     XOne     81.27\n",
       "2     X360     28.30\n",
       "3      3DS     22.64\n",
       "4      PS3     22.05"
      ]
     },
     "execution_count": 229,
     "metadata": {},
     "output_type": "execute_result"
    }
   ],
   "source": [
    "# отсортируем и создадим новый датафрейм\n",
    "\n",
    "na_top_platforms = df_actual.groupby('platform')['na_sales'].sum().reset_index().sort_values(by='na_sales', ascending=False)\n",
    "na_top_platforms = na_top_platforms.reset_index(drop=True)\n",
    "na_top5_platforms = na_top_platforms.head()\n",
    "na_top5_platforms"
   ]
  },
  {
   "cell_type": "code",
   "execution_count": 256,
   "id": "c5e1ac48",
   "metadata": {},
   "outputs": [
    {
     "data": {
      "image/png": "[encoded data removed]",
      "text/plain": [
       "<Figure size 720x360 with 1 Axes>"
      ]
     },
     "metadata": {
      "needs_background": "light"
     },
     "output_type": "display_data"
    }
   ],
   "source": [
    "plt.figure(figsize=(10,5))\n",
    "\n",
    "plt.bar(\n",
    "    na_top5_platforms['platform'],\n",
    "    na_top5_platforms['na_sales']\n",
    ")\n",
    "plt.grid()\n",
    "plt.xlabel('Game platform')\n",
    "plt.ylabel('Sales')\n",
    "plt.title('Top-5 NA platforms');"
   ]
  },
  {
   "cell_type": "markdown",
   "id": "ad12d80f",
   "metadata": {},
   "source": [
    "#### Самые популярные платформы в Европе (EU)"
   ]
  },
  {
   "cell_type": "code",
   "execution_count": 231,
   "id": "072012e2",
   "metadata": {},
   "outputs": [
    {
     "data": {
      "text/html": [
       "<div>\n",
       "<style scoped>\n",
       "    .dataframe tbody tr th:only-of-type {\n",
       "        vertical-align: middle;\n",
       "    }\n",
       "\n",
       "    .dataframe tbody tr th {\n",
       "        vertical-align: top;\n",
       "    }\n",
       "\n",
       "    .dataframe thead th {\n",
       "        text-align: right;\n",
       "    }\n",
       "</style>\n",
       "<table border=\"1\" class=\"dataframe\">\n",
       "  <thead>\n",
       "    <tr style=\"text-align: right;\">\n",
       "      <th></th>\n",
       "      <th>platform</th>\n",
       "      <th>eu_sales</th>\n",
       "    </tr>\n",
       "  </thead>\n",
       "  <tbody>\n",
       "    <tr>\n",
       "      <th>0</th>\n",
       "      <td>PS4</td>\n",
       "      <td>130.04</td>\n",
       "    </tr>\n",
       "    <tr>\n",
       "      <th>1</th>\n",
       "      <td>XOne</td>\n",
       "      <td>46.25</td>\n",
       "    </tr>\n",
       "    <tr>\n",
       "      <th>2</th>\n",
       "      <td>PS3</td>\n",
       "      <td>25.54</td>\n",
       "    </tr>\n",
       "    <tr>\n",
       "      <th>3</th>\n",
       "      <td>PC</td>\n",
       "      <td>17.97</td>\n",
       "    </tr>\n",
       "    <tr>\n",
       "      <th>4</th>\n",
       "      <td>3DS</td>\n",
       "      <td>16.12</td>\n",
       "    </tr>\n",
       "  </tbody>\n",
       "</table>\n",
       "</div>"
      ],
      "text/plain": [
       "  platform  eu_sales\n",
       "0      PS4    130.04\n",
       "1     XOne     46.25\n",
       "2      PS3     25.54\n",
       "3       PC     17.97\n",
       "4      3DS     16.12"
      ]
     },
     "execution_count": 231,
     "metadata": {},
     "output_type": "execute_result"
    }
   ],
   "source": [
    "eu_top_platforms = df_actual.groupby('platform')['eu_sales'].sum().reset_index().sort_values(by='eu_sales', ascending=False)\n",
    "eu_top_platforms = eu_top_platforms.reset_index(drop=True)\n",
    "eu_top5_platforms = eu_top_platforms.head()\n",
    "eu_top5_platforms"
   ]
  },
  {
   "cell_type": "code",
   "execution_count": 257,
   "id": "41c8ee3f",
   "metadata": {},
   "outputs": [
    {
     "data": {
      "image/png": "[encoded data removed]",
      "text/plain": [
       "<Figure size 720x360 with 1 Axes>"
      ]
     },
     "metadata": {
      "needs_background": "light"
     },
     "output_type": "display_data"
    }
   ],
   "source": [
    "plt.figure(figsize=(10,5))\n",
    "\n",
    "plt.bar(\n",
    "    eu_top5_platforms['platform'],\n",
    "    eu_top5_platforms['eu_sales']\n",
    ")\n",
    "plt.grid()\n",
    "plt.xlabel('Game platform')\n",
    "plt.ylabel('Sales')\n",
    "plt.title('Top-5 EU platforms');"
   ]
  },
  {
   "cell_type": "markdown",
   "id": "b0de54c1",
   "metadata": {},
   "source": [
    "#### Самые популярные платформы в Японии (JP)"
   ]
  },
  {
   "cell_type": "code",
   "execution_count": 233,
   "id": "465b5fcf",
   "metadata": {},
   "outputs": [
    {
     "data": {
      "text/html": [
       "<div>\n",
       "<style scoped>\n",
       "    .dataframe tbody tr th:only-of-type {\n",
       "        vertical-align: middle;\n",
       "    }\n",
       "\n",
       "    .dataframe tbody tr th {\n",
       "        vertical-align: top;\n",
       "    }\n",
       "\n",
       "    .dataframe thead th {\n",
       "        text-align: right;\n",
       "    }\n",
       "</style>\n",
       "<table border=\"1\" class=\"dataframe\">\n",
       "  <thead>\n",
       "    <tr style=\"text-align: right;\">\n",
       "      <th></th>\n",
       "      <th>platform</th>\n",
       "      <th>jp_sales</th>\n",
       "    </tr>\n",
       "  </thead>\n",
       "  <tbody>\n",
       "    <tr>\n",
       "      <th>0</th>\n",
       "      <td>3DS</td>\n",
       "      <td>44.24</td>\n",
       "    </tr>\n",
       "    <tr>\n",
       "      <th>1</th>\n",
       "      <td>PS4</td>\n",
       "      <td>15.02</td>\n",
       "    </tr>\n",
       "    <tr>\n",
       "      <th>2</th>\n",
       "      <td>PSV</td>\n",
       "      <td>14.54</td>\n",
       "    </tr>\n",
       "    <tr>\n",
       "      <th>3</th>\n",
       "      <td>PS3</td>\n",
       "      <td>11.22</td>\n",
       "    </tr>\n",
       "    <tr>\n",
       "      <th>4</th>\n",
       "      <td>WiiU</td>\n",
       "      <td>7.31</td>\n",
       "    </tr>\n",
       "  </tbody>\n",
       "</table>\n",
       "</div>"
      ],
      "text/plain": [
       "  platform  jp_sales\n",
       "0      3DS     44.24\n",
       "1      PS4     15.02\n",
       "2      PSV     14.54\n",
       "3      PS3     11.22\n",
       "4     WiiU      7.31"
      ]
     },
     "execution_count": 233,
     "metadata": {},
     "output_type": "execute_result"
    }
   ],
   "source": [
    "jp_top_platforms = df_actual.groupby('platform')['jp_sales'].sum().reset_index().sort_values(by='jp_sales', ascending=False)\n",
    "jp_top_platforms = jp_top_platforms.reset_index(drop=True)\n",
    "jp_top5_platforms = jp_top_platforms.head()\n",
    "jp_top5_platforms"
   ]
  },
  {
   "cell_type": "code",
   "execution_count": 258,
   "id": "59c27b7e",
   "metadata": {},
   "outputs": [
    {
     "data": {
      "image/png": "[encoded data removed]",
      "text/plain": [
       "<Figure size 720x360 with 1 Axes>"
      ]
     },
     "metadata": {
      "needs_background": "light"
     },
     "output_type": "display_data"
    }
   ],
   "source": [
    "plt.figure(figsize=(10,5))\n",
    "\n",
    "plt.bar(\n",
    "    jp_top5_platforms['platform'],\n",
    "    jp_top5_platforms['jp_sales']\n",
    ")\n",
    "plt.grid()\n",
    "plt.xlabel('Game platform')\n",
    "plt.ylabel('Sales')\n",
    "plt.title('Top-5 JP platforms');"
   ]
  },
  {
   "cell_type": "markdown",
   "id": "2924acfa",
   "metadata": {},
   "source": [
    "**Вывод:** В Северной Америке и Европе больше всего любят PS4 и XOne, кроме того, в Европе на 4 месте вообще расположился PC, что радует. А вот японцы предпочитают отечественные приставки, весь топ-5 занят японскими устройствами.  \n",
    "Продажи на PS4 гораздо больше конкурентов во всех регионах, кроме Японии, только в Америке местный XOne в состоянии конкурировать с японской приставкой."
   ]
  },
  {
   "cell_type": "markdown",
   "id": "01224932",
   "metadata": {},
   "source": [
    "### Самые популярные жанры (топ-5). Поясним разницу"
   ]
  },
  {
   "cell_type": "markdown",
   "id": "1aa89871",
   "metadata": {},
   "source": [
    "#### Самые популярные жанры в Северной Америке (NA)"
   ]
  },
  {
   "cell_type": "code",
   "execution_count": 235,
   "id": "9c4d8729",
   "metadata": {},
   "outputs": [
    {
     "data": {
      "text/html": [
       "<div>\n",
       "<style scoped>\n",
       "    .dataframe tbody tr th:only-of-type {\n",
       "        vertical-align: middle;\n",
       "    }\n",
       "\n",
       "    .dataframe tbody tr th {\n",
       "        vertical-align: top;\n",
       "    }\n",
       "\n",
       "    .dataframe thead th {\n",
       "        text-align: right;\n",
       "    }\n",
       "</style>\n",
       "<table border=\"1\" class=\"dataframe\">\n",
       "  <thead>\n",
       "    <tr style=\"text-align: right;\">\n",
       "      <th></th>\n",
       "      <th>genre</th>\n",
       "      <th>na_sales</th>\n",
       "    </tr>\n",
       "  </thead>\n",
       "  <tbody>\n",
       "    <tr>\n",
       "      <th>0</th>\n",
       "      <td>Shooter</td>\n",
       "      <td>79.02</td>\n",
       "    </tr>\n",
       "    <tr>\n",
       "      <th>1</th>\n",
       "      <td>Action</td>\n",
       "      <td>72.53</td>\n",
       "    </tr>\n",
       "    <tr>\n",
       "      <th>2</th>\n",
       "      <td>Sports</td>\n",
       "      <td>46.13</td>\n",
       "    </tr>\n",
       "    <tr>\n",
       "      <th>3</th>\n",
       "      <td>Role-Playing</td>\n",
       "      <td>33.47</td>\n",
       "    </tr>\n",
       "    <tr>\n",
       "      <th>4</th>\n",
       "      <td>Misc</td>\n",
       "      <td>15.05</td>\n",
       "    </tr>\n",
       "  </tbody>\n",
       "</table>\n",
       "</div>"
      ],
      "text/plain": [
       "          genre  na_sales\n",
       "0       Shooter     79.02\n",
       "1        Action     72.53\n",
       "2        Sports     46.13\n",
       "3  Role-Playing     33.47\n",
       "4          Misc     15.05"
      ]
     },
     "execution_count": 235,
     "metadata": {},
     "output_type": "execute_result"
    }
   ],
   "source": [
    "# отсортируем и создадим новый датафрейм\n",
    "\n",
    "na_top_genres = df_actual.groupby('genre')['na_sales'].sum().reset_index().sort_values(by='na_sales', ascending=False)\n",
    "na_top_genres = na_top_genres.reset_index(drop=True)\n",
    "na_top5_genres = na_top_genres.head()\n",
    "na_top5_genres"
   ]
  },
  {
   "cell_type": "code",
   "execution_count": 259,
   "id": "d916f8dd",
   "metadata": {},
   "outputs": [
    {
     "data": {
      "image/png": "[encoded data removed]",
      "text/plain": [
       "<Figure size 720x360 with 1 Axes>"
      ]
     },
     "metadata": {
      "needs_background": "light"
     },
     "output_type": "display_data"
    }
   ],
   "source": [
    "plt.figure(figsize=(10,5))\n",
    "\n",
    "plt.bar(\n",
    "    na_top5_genres['genre'],\n",
    "    na_top5_genres['na_sales']\n",
    ")\n",
    "plt.grid()\n",
    "plt.xlabel('Game platform')\n",
    "plt.ylabel('Sales')\n",
    "plt.title('Top-5 NA genres');"
   ]
  },
  {
   "cell_type": "markdown",
   "id": "c312d8fa",
   "metadata": {},
   "source": [
    "#### Самые популярные жанры в Европе (EU)"
   ]
  },
  {
   "cell_type": "code",
   "execution_count": 237,
   "id": "b0500e5e",
   "metadata": {},
   "outputs": [
    {
     "data": {
      "text/html": [
       "<div>\n",
       "<style scoped>\n",
       "    .dataframe tbody tr th:only-of-type {\n",
       "        vertical-align: middle;\n",
       "    }\n",
       "\n",
       "    .dataframe tbody tr th {\n",
       "        vertical-align: top;\n",
       "    }\n",
       "\n",
       "    .dataframe thead th {\n",
       "        text-align: right;\n",
       "    }\n",
       "</style>\n",
       "<table border=\"1\" class=\"dataframe\">\n",
       "  <thead>\n",
       "    <tr style=\"text-align: right;\">\n",
       "      <th></th>\n",
       "      <th>genre</th>\n",
       "      <th>eu_sales</th>\n",
       "    </tr>\n",
       "  </thead>\n",
       "  <tbody>\n",
       "    <tr>\n",
       "      <th>0</th>\n",
       "      <td>Action</td>\n",
       "      <td>74.68</td>\n",
       "    </tr>\n",
       "    <tr>\n",
       "      <th>1</th>\n",
       "      <td>Shooter</td>\n",
       "      <td>65.52</td>\n",
       "    </tr>\n",
       "    <tr>\n",
       "      <th>2</th>\n",
       "      <td>Sports</td>\n",
       "      <td>45.73</td>\n",
       "    </tr>\n",
       "    <tr>\n",
       "      <th>3</th>\n",
       "      <td>Role-Playing</td>\n",
       "      <td>28.17</td>\n",
       "    </tr>\n",
       "    <tr>\n",
       "      <th>4</th>\n",
       "      <td>Racing</td>\n",
       "      <td>14.13</td>\n",
       "    </tr>\n",
       "  </tbody>\n",
       "</table>\n",
       "</div>"
      ],
      "text/plain": [
       "          genre  eu_sales\n",
       "0        Action     74.68\n",
       "1       Shooter     65.52\n",
       "2        Sports     45.73\n",
       "3  Role-Playing     28.17\n",
       "4        Racing     14.13"
      ]
     },
     "execution_count": 237,
     "metadata": {},
     "output_type": "execute_result"
    }
   ],
   "source": [
    "# отсортируем и создадим новый датафрейм\n",
    "\n",
    "eu_top_genres = df_actual.groupby('genre')['eu_sales'].sum().reset_index().sort_values(by='eu_sales', ascending=False)\n",
    "eu_top_genres = eu_top_genres.reset_index(drop=True)\n",
    "eu_top5_genres = eu_top_genres.head()\n",
    "eu_top5_genres"
   ]
  },
  {
   "cell_type": "code",
   "execution_count": 260,
   "id": "553bc25e",
   "metadata": {},
   "outputs": [
    {
     "data": {
      "image/png": "[encoded data removed]",
      "text/plain": [
       "<Figure size 720x360 with 1 Axes>"
      ]
     },
     "metadata": {
      "needs_background": "light"
     },
     "output_type": "display_data"
    }
   ],
   "source": [
    "plt.figure(figsize=(10,5))\n",
    "\n",
    "plt.bar(\n",
    "    eu_top5_genres['genre'],\n",
    "    eu_top5_genres['eu_sales']\n",
    ")\n",
    "plt.grid()\n",
    "plt.xlabel('Game platform')\n",
    "plt.ylabel('Sales')\n",
    "plt.title('Top-5 EU genres');"
   ]
  },
  {
   "cell_type": "markdown",
   "id": "43f0c578",
   "metadata": {},
   "source": [
    "#### Самые популярные жанры в Японии (JP)"
   ]
  },
  {
   "cell_type": "code",
   "execution_count": 239,
   "id": "c49a9e7c",
   "metadata": {},
   "outputs": [
    {
     "data": {
      "text/html": [
       "<div>\n",
       "<style scoped>\n",
       "    .dataframe tbody tr th:only-of-type {\n",
       "        vertical-align: middle;\n",
       "    }\n",
       "\n",
       "    .dataframe tbody tr th {\n",
       "        vertical-align: top;\n",
       "    }\n",
       "\n",
       "    .dataframe thead th {\n",
       "        text-align: right;\n",
       "    }\n",
       "</style>\n",
       "<table border=\"1\" class=\"dataframe\">\n",
       "  <thead>\n",
       "    <tr style=\"text-align: right;\">\n",
       "      <th></th>\n",
       "      <th>genre</th>\n",
       "      <th>jp_sales</th>\n",
       "    </tr>\n",
       "  </thead>\n",
       "  <tbody>\n",
       "    <tr>\n",
       "      <th>0</th>\n",
       "      <td>Role-Playing</td>\n",
       "      <td>31.16</td>\n",
       "    </tr>\n",
       "    <tr>\n",
       "      <th>1</th>\n",
       "      <td>Action</td>\n",
       "      <td>29.58</td>\n",
       "    </tr>\n",
       "    <tr>\n",
       "      <th>2</th>\n",
       "      <td>Fighting</td>\n",
       "      <td>6.37</td>\n",
       "    </tr>\n",
       "    <tr>\n",
       "      <th>3</th>\n",
       "      <td>Misc</td>\n",
       "      <td>5.61</td>\n",
       "    </tr>\n",
       "    <tr>\n",
       "      <th>4</th>\n",
       "      <td>Shooter</td>\n",
       "      <td>4.87</td>\n",
       "    </tr>\n",
       "  </tbody>\n",
       "</table>\n",
       "</div>"
      ],
      "text/plain": [
       "          genre  jp_sales\n",
       "0  Role-Playing     31.16\n",
       "1        Action     29.58\n",
       "2      Fighting      6.37\n",
       "3          Misc      5.61\n",
       "4       Shooter      4.87"
      ]
     },
     "execution_count": 239,
     "metadata": {},
     "output_type": "execute_result"
    }
   ],
   "source": [
    "# отсортируем и создадим новый датафрейм\n",
    "\n",
    "jp_top_genres = df_actual.groupby('genre')['jp_sales'].sum().reset_index().sort_values(by='jp_sales', ascending=False)\n",
    "jp_top_genres = jp_top_genres.reset_index(drop=True)\n",
    "jp_top5_genres = jp_top_genres.head()\n",
    "jp_top5_genres"
   ]
  },
  {
   "cell_type": "code",
   "execution_count": 261,
   "id": "04c72191",
   "metadata": {},
   "outputs": [
    {
     "data": {
      "image/png": "[encoded data removed]",
      "text/plain": [
       "<Figure size 720x360 with 1 Axes>"
      ]
     },
     "metadata": {
      "needs_background": "light"
     },
     "output_type": "display_data"
    }
   ],
   "source": [
    "plt.figure(figsize=(10,5))\n",
    "\n",
    "plt.bar(\n",
    "    jp_top5_genres['genre'],\n",
    "    jp_top5_genres['jp_sales']\n",
    ")\n",
    "plt.grid()\n",
    "plt.xlabel('Game platform')\n",
    "plt.ylabel('Sales')\n",
    "plt.title('Top-5 JP genres');"
   ]
  },
  {
   "cell_type": "markdown",
   "id": "f9fb9c21",
   "metadata": {},
   "source": [
    "**Вывод:** Как видно из графиков, предпочтения по жанрам в Америке и Европе очень похожи, разве что в Европе довольно популярны гонки. А в Японии, как обычно, своя атмосфера: на первом месте RPG, и скорее всего, местные (бесконечные Final fantasy, например), так же видим файтинги (Tekken и т.д.), правда, с существенным отрывом. В общем, японцы играют в свои игры и на своих консолях."
   ]
  },
  {
   "cell_type": "markdown",
   "id": "6c3ac8c8",
   "metadata": {},
   "source": [
    "### Влияет ли рейтинг ESRB на продажи в отдельном регионе?"
   ]
  },
  {
   "cell_type": "code",
   "execution_count": 241,
   "id": "fa4c9054",
   "metadata": {},
   "outputs": [
    {
     "data": {
      "text/html": [
       "<div>\n",
       "<style scoped>\n",
       "    .dataframe tbody tr th:only-of-type {\n",
       "        vertical-align: middle;\n",
       "    }\n",
       "\n",
       "    .dataframe tbody tr th {\n",
       "        vertical-align: top;\n",
       "    }\n",
       "\n",
       "    .dataframe thead th {\n",
       "        text-align: right;\n",
       "    }\n",
       "</style>\n",
       "<table border=\"1\" class=\"dataframe\">\n",
       "  <thead>\n",
       "    <tr style=\"text-align: right;\">\n",
       "      <th></th>\n",
       "      <th>eu_sales</th>\n",
       "      <th>jp_sales</th>\n",
       "      <th>na_sales</th>\n",
       "    </tr>\n",
       "    <tr>\n",
       "      <th>rating</th>\n",
       "      <th></th>\n",
       "      <th></th>\n",
       "      <th></th>\n",
       "    </tr>\n",
       "  </thead>\n",
       "  <tbody>\n",
       "    <tr>\n",
       "      <th>M</th>\n",
       "      <td>93.44</td>\n",
       "      <td>8.01</td>\n",
       "      <td>96.42</td>\n",
       "    </tr>\n",
       "    <tr>\n",
       "      <th>E</th>\n",
       "      <td>58.06</td>\n",
       "      <td>8.94</td>\n",
       "      <td>50.74</td>\n",
       "    </tr>\n",
       "    <tr>\n",
       "      <th>T</th>\n",
       "      <td>34.07</td>\n",
       "      <td>14.78</td>\n",
       "      <td>38.95</td>\n",
       "    </tr>\n",
       "    <tr>\n",
       "      <th>E10+</th>\n",
       "      <td>26.16</td>\n",
       "      <td>4.46</td>\n",
       "      <td>33.23</td>\n",
       "    </tr>\n",
       "  </tbody>\n",
       "</table>\n",
       "</div>"
      ],
      "text/plain": [
       "        eu_sales  jp_sales  na_sales\n",
       "rating                              \n",
       "M          93.44      8.01     96.42\n",
       "E          58.06      8.94     50.74\n",
       "T          34.07     14.78     38.95\n",
       "E10+       26.16      4.46     33.23"
      ]
     },
     "execution_count": 241,
     "metadata": {},
     "output_type": "execute_result"
    }
   ],
   "source": [
    "# составим сводную таблицу\n",
    "\n",
    "sales_by_esrb = df_actual.query('rating != 0').pivot_table(\n",
    "                                                        index = ['rating'],\n",
    "                                                        values = ['na_sales',\n",
    "                                                                  'eu_sales',\n",
    "                                                                  'jp_sales'],\n",
    "                                                                    aggfunc=sum).sort_values(\n",
    "                                                                                            by='na_sales',\n",
    "                                                                                            ascending=False\n",
    ")\n",
    "sales_by_esrb"
   ]
  },
  {
   "cell_type": "markdown",
   "id": "3e777ab3",
   "metadata": {},
   "source": [
    "**Вывод:** Снова Америка и Европа очень похожи, наибольший интерес вызывают взрослые игры 18+, а в Японии всё по-другому, наиболее интересны игры для подростков. Так же интересно то, что в Европе и Америке на втором месте игры для всех, можно предположить, старшие геймеры берут себе М и заодно что-то для детей из категории E. Так что отвечая на вопрос о влиянии отвечаем что да, рейтинг влияет на продажи."
   ]
  },
  {
   "cell_type": "markdown",
   "id": "3fa69111",
   "metadata": {},
   "source": [
    "Посмотрим на данные без заглушки."
   ]
  },
  {
   "cell_type": "code",
   "execution_count": 242,
   "id": "c4a3c021",
   "metadata": {
    "scrolled": true
   },
   "outputs": [
    {
     "data": {
      "text/html": [
       "<div>\n",
       "<style scoped>\n",
       "    .dataframe tbody tr th:only-of-type {\n",
       "        vertical-align: middle;\n",
       "    }\n",
       "\n",
       "    .dataframe tbody tr th {\n",
       "        vertical-align: top;\n",
       "    }\n",
       "\n",
       "    .dataframe thead th {\n",
       "        text-align: right;\n",
       "    }\n",
       "</style>\n",
       "<table border=\"1\" class=\"dataframe\">\n",
       "  <thead>\n",
       "    <tr style=\"text-align: right;\">\n",
       "      <th></th>\n",
       "      <th>eu_sales</th>\n",
       "      <th>jp_sales</th>\n",
       "      <th>na_sales</th>\n",
       "    </tr>\n",
       "    <tr>\n",
       "      <th>rating</th>\n",
       "      <th></th>\n",
       "      <th></th>\n",
       "      <th></th>\n",
       "    </tr>\n",
       "  </thead>\n",
       "  <tbody>\n",
       "    <tr>\n",
       "      <th>M</th>\n",
       "      <td>93.44</td>\n",
       "      <td>8.01</td>\n",
       "      <td>96.42</td>\n",
       "    </tr>\n",
       "    <tr>\n",
       "      <th>0</th>\n",
       "      <td>58.95</td>\n",
       "      <td>56.90</td>\n",
       "      <td>64.72</td>\n",
       "    </tr>\n",
       "    <tr>\n",
       "      <th>E</th>\n",
       "      <td>58.06</td>\n",
       "      <td>8.94</td>\n",
       "      <td>50.74</td>\n",
       "    </tr>\n",
       "    <tr>\n",
       "      <th>T</th>\n",
       "      <td>34.07</td>\n",
       "      <td>14.78</td>\n",
       "      <td>38.95</td>\n",
       "    </tr>\n",
       "    <tr>\n",
       "      <th>E10+</th>\n",
       "      <td>26.16</td>\n",
       "      <td>4.46</td>\n",
       "      <td>33.23</td>\n",
       "    </tr>\n",
       "  </tbody>\n",
       "</table>\n",
       "</div>"
      ],
      "text/plain": [
       "        eu_sales  jp_sales  na_sales\n",
       "rating                              \n",
       "M          93.44      8.01     96.42\n",
       "0          58.95     56.90     64.72\n",
       "E          58.06      8.94     50.74\n",
       "T          34.07     14.78     38.95\n",
       "E10+       26.16      4.46     33.23"
      ]
     },
     "execution_count": 242,
     "metadata": {},
     "output_type": "execute_result"
    }
   ],
   "source": [
    "sales_by_esrb_new = df_actual.pivot_table(\n",
    "                                    index = ['rating'],\n",
    "                                    values = ['na_sales',\n",
    "                                              'eu_sales',\n",
    "                                              'jp_sales'],\n",
    "                                               aggfunc=sum).sort_values(\n",
    "                                                                        by='na_sales',\n",
    "                                                                        ascending=False\n",
    ")\n",
    "sales_by_esrb_new"
   ]
  },
  {
   "cell_type": "markdown",
   "id": "7f5cff45",
   "metadata": {},
   "source": [
    "**Вывод:** Довольно интересно, в Японии за нулями скрывалась самая большая доля продаж, возможно, многие игры с ретингом M оказались там. А в Европе и Америке возможно игры всех других рейтингов, М-игры по-прежнему в топе."
   ]
  },
  {
   "cell_type": "markdown",
   "id": "5c3cda6f",
   "metadata": {},
   "source": [
    "## Проверим гипотезы"
   ]
  },
  {
   "cell_type": "markdown",
   "id": "b39ac65b",
   "metadata": {},
   "source": [
    "### Средние пользовательские рейтинги платформ Xbox One и PC одинаковые"
   ]
  },
  {
   "cell_type": "markdown",
   "id": "d6d02e6c",
   "metadata": {},
   "source": [
    "Сформулируем гипотезы. Нулевую всегда формулируем с использованием знака равенства, поэтому:  \n",
    "\n",
    "- H₀ - Средние пользовательские рейтинги платформ Xbox One и PC **одинаковые**,  \n",
    "- H₁ - Средние пользовательские рейтинги платформ Xbox One и PC **различаются**.    \n",
    "\n",
    "Теперь проверим."
   ]
  },
  {
   "cell_type": "code",
   "execution_count": 243,
   "id": "3d1ce599",
   "metadata": {},
   "outputs": [],
   "source": [
    "# выделим нужные параметры\n",
    "\n",
    "xone = df_actual.query('platform == \"XOne\"')['user_score']\n",
    "pc = df_actual.query('platform == \"PC\"')['user_score']"
   ]
  },
  {
   "cell_type": "code",
   "execution_count": 244,
   "id": "b203509d",
   "metadata": {},
   "outputs": [
    {
     "data": {
      "text/plain": [
       "10.056297899353646"
      ]
     },
     "execution_count": 244,
     "metadata": {},
     "output_type": "execute_result"
    }
   ],
   "source": [
    "# посчитаем дисперсию для Xone\n",
    "\n",
    "np.var(xone)"
   ]
  },
  {
   "cell_type": "code",
   "execution_count": 245,
   "id": "bd2d85e3",
   "metadata": {},
   "outputs": [
    {
     "data": {
      "text/plain": [
       "8.480204377001009"
      ]
     },
     "execution_count": 245,
     "metadata": {},
     "output_type": "execute_result"
    }
   ],
   "source": [
    "# посчитаем дисперсию для PC\n",
    "\n",
    "np.var(pc)"
   ]
  },
  {
   "cell_type": "markdown",
   "id": "48a5c163",
   "metadata": {},
   "source": [
    "Дисперсии отличаются, поэтому установим `equal_var=False`."
   ]
  },
  {
   "cell_type": "code",
   "execution_count": 246,
   "id": "5fb02dfb",
   "metadata": {},
   "outputs": [
    {
     "name": "stdout",
     "output_type": "stream",
     "text": [
      "p-значение: 0.31981092459798116\n",
      "Не получилось отвергнуть нулевую гипотезу\n"
     ]
    }
   ],
   "source": [
    "# зададим параметр alpha, такой в данном случае вполне уместен, суперточность не требуется\n",
    "\n",
    "alpha = 0.05\n",
    "\n",
    "results = st.ttest_ind(\n",
    "                    xone,\n",
    "                    pc,\n",
    "                    equal_var=False\n",
    ")\n",
    "\n",
    "print('p-значение:', results.pvalue)\n",
    "\n",
    "if results.pvalue < alpha:\n",
    "    print('Отвергаем нулевую гипотезу')\n",
    "else:\n",
    "    print('Не получилось отвергнуть нулевую гипотезу')"
   ]
  },
  {
   "cell_type": "markdown",
   "id": "51618589",
   "metadata": {},
   "source": [
    "**Вывод:** Нулевую гипотезу не отвергаем, средние рейтинги геймеров этих двух платформ равны."
   ]
  },
  {
   "cell_type": "markdown",
   "id": "bad0cccf",
   "metadata": {},
   "source": [
    "### Средние пользовательские рейтинги жанров Action и Sports разные\n"
   ]
  },
  {
   "cell_type": "markdown",
   "id": "c00461c9",
   "metadata": {},
   "source": [
    "Сформулируем гипотезы. Нулевую всегда формулируем с использованием знака равенства, поэтому:  \n",
    "\n",
    "- H₀ - Средние пользовательские рейтинги жанров Action и Sports **одинаковые**,  \n",
    "- H₁ - Средние пользовательские рейтинги жанров Action и Sports **различаются**.    \n",
    "\n",
    "Теперь проверим."
   ]
  },
  {
   "cell_type": "code",
   "execution_count": 247,
   "id": "34c8b474",
   "metadata": {},
   "outputs": [],
   "source": [
    "# выделим нужные параметры\n",
    "\n",
    "action = df_actual.query('genre == \"Action\"')['user_score']\n",
    "sports = df_actual.query('genre == \"Sports\"')['user_score']"
   ]
  },
  {
   "cell_type": "code",
   "execution_count": 248,
   "id": "77449a27",
   "metadata": {},
   "outputs": [
    {
     "data": {
      "text/plain": [
       "12.315643867721402"
      ]
     },
     "execution_count": 248,
     "metadata": {},
     "output_type": "execute_result"
    }
   ],
   "source": [
    "# посчитаем дисперсию для Action\n",
    "\n",
    "np.var(action)"
   ]
  },
  {
   "cell_type": "code",
   "execution_count": 249,
   "id": "ef8cfa09",
   "metadata": {},
   "outputs": [
    {
     "data": {
      "text/plain": [
       "7.245800702133405"
      ]
     },
     "execution_count": 249,
     "metadata": {},
     "output_type": "execute_result"
    }
   ],
   "source": [
    "# посчитаем дисперсию для Sports\n",
    "\n",
    "np.var(sports)"
   ]
  },
  {
   "cell_type": "markdown",
   "id": "2e821e35",
   "metadata": {},
   "source": [
    "Дисперсии отличаются, поэтому установим `equal_var=False`."
   ]
  },
  {
   "cell_type": "code",
   "execution_count": 250,
   "id": "c4f5eb62",
   "metadata": {},
   "outputs": [
    {
     "name": "stdout",
     "output_type": "stream",
     "text": [
      "p-значение: 0.0006646333120910831\n",
      "Отвергаем нулевую гипотезу\n"
     ]
    }
   ],
   "source": [
    "# зададим параметр alpha, такой в данном случае вполне уместен, суперточность не требуется\n",
    "\n",
    "alpha = 0.05\n",
    "\n",
    "results = st.ttest_ind(\n",
    "                    action,\n",
    "                    sports,\n",
    "                    equal_var=False\n",
    ")\n",
    "\n",
    "print('p-значение:', results.pvalue)\n",
    "\n",
    "if results.pvalue < alpha:\n",
    "    print('Отвергаем нулевую гипотезу')\n",
    "else:\n",
    "    print('Не получилось отвергнуть нулевую гипотезу')"
   ]
  },
  {
   "cell_type": "markdown",
   "id": "70f6d98b",
   "metadata": {},
   "source": [
    "**Вывод:** Отвергаем нулевую гипотезу, средние пользовательские рейтинги этих жанров различаются."
   ]
  },
  {
   "cell_type": "markdown",
   "id": "4a93ab4b",
   "metadata": {},
   "source": [
    "## Общий вывод"
   ]
  },
  {
   "cell_type": "markdown",
   "id": "d1f85e4f",
   "metadata": {},
   "source": [
    "1. Предобработка. Предоставленный датасет содержал пропуски в данных, об этом следует сразу сообщать тем, кто делал выгрузку. Отсутствовали оценки по старым играм, скорее всего, были какие-то проблемы с парсингом, на сайтах типа Metacritic.com и по старым играм есть оценки. Пропущенные значения заполнили нулями, чтобы не скрывать проблему, а игры со значением 'tbd' сохранили в отдельный датафрейм, для удобства последующего анализа.  \n",
    "2. Анализ данных. Представленный датасет содержал данные с 1980 по 2016 годы, после его всестороннего изучения было обнаружено:\n",
    "- игровая индустрия была на пике в 2008-2009 годах, это самые удачные годы с точки зрения продаж;\n",
    "- срок жизни платформы составляет обычно 10-11 лет,\n",
    "- если раньше в основном играли на персональных компьютерах, то теперь основная платформа это приставки от Sony и Microsoft (Play Station и Xbox);\n",
    "- пользователи приставок гораздо более зависимы от мнения критиков и других пользователей при выборе игры.\n",
    "3. Портреты пользователей разных регионов. В ходе анализа было обнаружено, что:\n",
    "- геймеры Америки и Европы очень похожи, отдают предпочтения тем же жанрам (Action, Shooter) и даже платформам (PS4, Xone);\n",
    "- у японцев другие привычки и предпочтения, в топе приставки японских же фирм (Sony, Nintendo) и жанры традиционно популярные на местном рынке (RPG, файтинги);\n",
    "- европейские и американские геймеры предпочитают игры суровые игры с рейтингом М (взрослый контент, насилие, жестокость), в Японии же больше продаж у более дружелюбного контента.\n",
    "4. Проверены две гипотезы:\n",
    "- Средние пользовательские рейтинги платформ Xbox One и PC одинаковые (подтвердили);\n",
    "- Средние пользовательские рейтинги жанров Action и Sports разные (подтвердили).\n",
    "5. Рекомендации. Задача исследования заключалась в том, что нужно было выявить определяющие успешность игры закономерности. Эта задача выполнена, выявлены следующие закономерности:\n",
    "- для Америки и Европы это игры с рейтингом M и E, для платформ PS4 и Xone (а для Европы не стоит забывать про PC), в жанрах Action, Shooter;\n",
    "- для Японии это игры с рейтингом E, T, для платформ 3DS и PS4, в жанрах RPG, Action, Fighting.\n",
    "\n",
    "Таким образом, можно говорить о том, что для разработки успешной игры нужно учитывать культурные особенности и привычки геймеров разных регионов, главным образом они выражаются в жанрах и игровых платформах."
   ]
  }
 ],
 "metadata": {
  "ExecuteTimeLog": [
   {
    "duration": 36,
    "start_time": "2022-06-08T15:55:53.846Z"
   },
   {
    "duration": 38,
    "start_time": "2022-06-08T15:58:14.159Z"
   },
   {
    "duration": 1320,
    "start_time": "2022-06-08T16:09:06.047Z"
   },
   {
    "duration": 131,
    "start_time": "2022-06-08T16:09:07.369Z"
   },
   {
    "duration": 0,
    "start_time": "2022-06-08T16:09:07.505Z"
   },
   {
    "duration": 0,
    "start_time": "2022-06-08T16:09:07.507Z"
   },
   {
    "duration": 0,
    "start_time": "2022-06-08T16:09:07.508Z"
   },
   {
    "duration": 0,
    "start_time": "2022-06-08T16:09:07.510Z"
   },
   {
    "duration": 0,
    "start_time": "2022-06-08T16:09:07.511Z"
   },
   {
    "duration": 0,
    "start_time": "2022-06-08T16:09:07.512Z"
   },
   {
    "duration": 0,
    "start_time": "2022-06-08T16:09:07.513Z"
   },
   {
    "duration": 0,
    "start_time": "2022-06-08T16:09:07.514Z"
   },
   {
    "duration": 0,
    "start_time": "2022-06-08T16:09:07.515Z"
   },
   {
    "duration": 0,
    "start_time": "2022-06-08T16:09:07.517Z"
   },
   {
    "duration": 0,
    "start_time": "2022-06-08T16:09:07.518Z"
   },
   {
    "duration": 0,
    "start_time": "2022-06-08T16:09:07.520Z"
   },
   {
    "duration": 0,
    "start_time": "2022-06-08T16:09:07.521Z"
   },
   {
    "duration": 0,
    "start_time": "2022-06-08T16:09:07.523Z"
   },
   {
    "duration": 0,
    "start_time": "2022-06-08T16:09:07.524Z"
   },
   {
    "duration": 0,
    "start_time": "2022-06-08T16:09:07.525Z"
   },
   {
    "duration": 0,
    "start_time": "2022-06-08T16:09:07.526Z"
   },
   {
    "duration": 0,
    "start_time": "2022-06-08T16:09:07.566Z"
   },
   {
    "duration": 0,
    "start_time": "2022-06-08T16:09:07.567Z"
   },
   {
    "duration": 0,
    "start_time": "2022-06-08T16:09:07.570Z"
   },
   {
    "duration": 0,
    "start_time": "2022-06-08T16:09:07.571Z"
   },
   {
    "duration": 0,
    "start_time": "2022-06-08T16:09:07.572Z"
   },
   {
    "duration": 0,
    "start_time": "2022-06-08T16:09:07.573Z"
   },
   {
    "duration": 0,
    "start_time": "2022-06-08T16:09:07.574Z"
   },
   {
    "duration": 0,
    "start_time": "2022-06-08T16:09:07.576Z"
   },
   {
    "duration": 0,
    "start_time": "2022-06-08T16:09:07.577Z"
   },
   {
    "duration": 0,
    "start_time": "2022-06-08T16:09:07.578Z"
   },
   {
    "duration": 0,
    "start_time": "2022-06-08T16:09:07.579Z"
   },
   {
    "duration": 0,
    "start_time": "2022-06-08T16:09:07.581Z"
   },
   {
    "duration": 0,
    "start_time": "2022-06-08T16:09:07.582Z"
   },
   {
    "duration": 0,
    "start_time": "2022-06-08T16:09:07.584Z"
   },
   {
    "duration": 0,
    "start_time": "2022-06-08T16:09:07.585Z"
   },
   {
    "duration": 0,
    "start_time": "2022-06-08T16:09:07.587Z"
   },
   {
    "duration": 0,
    "start_time": "2022-06-08T16:09:07.588Z"
   },
   {
    "duration": 0,
    "start_time": "2022-06-08T16:09:07.589Z"
   },
   {
    "duration": 0,
    "start_time": "2022-06-08T16:09:07.591Z"
   },
   {
    "duration": 0,
    "start_time": "2022-06-08T16:09:07.591Z"
   },
   {
    "duration": 0,
    "start_time": "2022-06-08T16:09:07.593Z"
   },
   {
    "duration": 0,
    "start_time": "2022-06-08T16:09:07.593Z"
   },
   {
    "duration": 0,
    "start_time": "2022-06-08T16:09:07.595Z"
   },
   {
    "duration": 0,
    "start_time": "2022-06-08T16:09:07.596Z"
   },
   {
    "duration": 0,
    "start_time": "2022-06-08T16:09:07.597Z"
   },
   {
    "duration": 0,
    "start_time": "2022-06-08T16:09:07.599Z"
   },
   {
    "duration": 0,
    "start_time": "2022-06-08T16:09:07.600Z"
   },
   {
    "duration": 0,
    "start_time": "2022-06-08T16:09:07.601Z"
   },
   {
    "duration": 0,
    "start_time": "2022-06-08T16:09:07.602Z"
   },
   {
    "duration": 0,
    "start_time": "2022-06-08T16:09:07.666Z"
   },
   {
    "duration": 0,
    "start_time": "2022-06-08T16:09:07.667Z"
   },
   {
    "duration": 0,
    "start_time": "2022-06-08T16:09:07.668Z"
   },
   {
    "duration": 0,
    "start_time": "2022-06-08T16:09:07.669Z"
   },
   {
    "duration": 0,
    "start_time": "2022-06-08T16:09:07.670Z"
   },
   {
    "duration": 0,
    "start_time": "2022-06-08T16:09:07.671Z"
   },
   {
    "duration": 0,
    "start_time": "2022-06-08T16:09:07.672Z"
   },
   {
    "duration": 0,
    "start_time": "2022-06-08T16:09:07.673Z"
   },
   {
    "duration": 0,
    "start_time": "2022-06-08T16:09:07.674Z"
   },
   {
    "duration": 0,
    "start_time": "2022-06-08T16:09:07.675Z"
   },
   {
    "duration": 0,
    "start_time": "2022-06-08T16:09:07.676Z"
   },
   {
    "duration": 0,
    "start_time": "2022-06-08T16:09:07.678Z"
   },
   {
    "duration": 0,
    "start_time": "2022-06-08T16:09:07.679Z"
   },
   {
    "duration": 0,
    "start_time": "2022-06-08T16:09:07.680Z"
   },
   {
    "duration": 0,
    "start_time": "2022-06-08T16:09:07.681Z"
   },
   {
    "duration": 0,
    "start_time": "2022-06-08T16:09:07.682Z"
   },
   {
    "duration": 0,
    "start_time": "2022-06-08T16:09:07.683Z"
   },
   {
    "duration": 0,
    "start_time": "2022-06-08T16:09:07.684Z"
   },
   {
    "duration": 0,
    "start_time": "2022-06-08T16:09:07.685Z"
   },
   {
    "duration": 0,
    "start_time": "2022-06-08T16:09:07.686Z"
   },
   {
    "duration": 0,
    "start_time": "2022-06-08T16:09:07.687Z"
   },
   {
    "duration": 0,
    "start_time": "2022-06-08T16:09:07.688Z"
   },
   {
    "duration": 0,
    "start_time": "2022-06-08T16:09:07.690Z"
   },
   {
    "duration": 0,
    "start_time": "2022-06-08T16:09:07.691Z"
   },
   {
    "duration": 0,
    "start_time": "2022-06-08T16:09:07.692Z"
   },
   {
    "duration": 0,
    "start_time": "2022-06-08T16:09:07.693Z"
   },
   {
    "duration": 0,
    "start_time": "2022-06-08T16:09:07.695Z"
   },
   {
    "duration": 0,
    "start_time": "2022-06-08T16:09:07.696Z"
   },
   {
    "duration": 0,
    "start_time": "2022-06-08T16:09:07.697Z"
   },
   {
    "duration": 0,
    "start_time": "2022-06-08T16:09:07.698Z"
   },
   {
    "duration": 0,
    "start_time": "2022-06-08T16:09:07.699Z"
   },
   {
    "duration": 0,
    "start_time": "2022-06-08T16:09:07.700Z"
   },
   {
    "duration": 0,
    "start_time": "2022-06-08T16:09:07.702Z"
   },
   {
    "duration": 0,
    "start_time": "2022-06-08T16:09:07.765Z"
   },
   {
    "duration": 0,
    "start_time": "2022-06-08T16:09:07.767Z"
   },
   {
    "duration": 0,
    "start_time": "2022-06-08T16:09:07.769Z"
   },
   {
    "duration": 0,
    "start_time": "2022-06-08T16:09:07.771Z"
   },
   {
    "duration": 0,
    "start_time": "2022-06-08T16:09:07.772Z"
   },
   {
    "duration": 0,
    "start_time": "2022-06-08T16:09:07.773Z"
   },
   {
    "duration": 0,
    "start_time": "2022-06-08T16:09:07.773Z"
   },
   {
    "duration": 0,
    "start_time": "2022-06-08T16:09:07.774Z"
   },
   {
    "duration": 21,
    "start_time": "2022-06-08T16:09:07.779Z"
   },
   {
    "duration": 0,
    "start_time": "2022-06-08T16:09:07.802Z"
   },
   {
    "duration": 0,
    "start_time": "2022-06-08T16:09:07.804Z"
   },
   {
    "duration": 0,
    "start_time": "2022-06-08T16:09:07.805Z"
   },
   {
    "duration": 0,
    "start_time": "2022-06-08T16:09:07.865Z"
   },
   {
    "duration": 0,
    "start_time": "2022-06-08T16:09:07.867Z"
   },
   {
    "duration": 0,
    "start_time": "2022-06-08T16:09:07.868Z"
   },
   {
    "duration": 11,
    "start_time": "2022-06-08T16:09:07.871Z"
   },
   {
    "duration": 0,
    "start_time": "2022-06-08T16:09:07.884Z"
   },
   {
    "duration": 13,
    "start_time": "2022-06-08T16:09:08.005Z"
   },
   {
    "duration": 12,
    "start_time": "2022-06-08T16:09:08.042Z"
   },
   {
    "duration": 0,
    "start_time": "2022-06-08T16:09:08.065Z"
   },
   {
    "duration": 0,
    "start_time": "2022-06-08T16:09:08.067Z"
   },
   {
    "duration": 11,
    "start_time": "2022-06-08T16:09:08.069Z"
   },
   {
    "duration": 0,
    "start_time": "2022-06-08T16:09:08.081Z"
   },
   {
    "duration": 9,
    "start_time": "2022-06-08T16:09:08.083Z"
   },
   {
    "duration": 0,
    "start_time": "2022-06-08T16:09:08.094Z"
   },
   {
    "duration": 9,
    "start_time": "2022-06-08T16:09:08.104Z"
   },
   {
    "duration": 28,
    "start_time": "2022-06-08T16:45:42.724Z"
   },
   {
    "duration": 90,
    "start_time": "2022-06-08T16:45:55.565Z"
   },
   {
    "duration": 1407,
    "start_time": "2022-06-08T16:46:24.778Z"
   },
   {
    "duration": 90,
    "start_time": "2022-06-08T16:46:26.189Z"
   },
   {
    "duration": 61,
    "start_time": "2022-06-08T16:46:26.287Z"
   },
   {
    "duration": 0,
    "start_time": "2022-06-08T16:46:26.353Z"
   },
   {
    "duration": 0,
    "start_time": "2022-06-08T16:46:26.354Z"
   },
   {
    "duration": 0,
    "start_time": "2022-06-08T16:46:26.355Z"
   },
   {
    "duration": 0,
    "start_time": "2022-06-08T16:46:26.356Z"
   },
   {
    "duration": 0,
    "start_time": "2022-06-08T16:46:26.365Z"
   },
   {
    "duration": 0,
    "start_time": "2022-06-08T16:46:26.366Z"
   },
   {
    "duration": 0,
    "start_time": "2022-06-08T16:46:26.368Z"
   },
   {
    "duration": 0,
    "start_time": "2022-06-08T16:46:26.370Z"
   },
   {
    "duration": 0,
    "start_time": "2022-06-08T16:46:26.371Z"
   },
   {
    "duration": 0,
    "start_time": "2022-06-08T16:46:26.372Z"
   },
   {
    "duration": 0,
    "start_time": "2022-06-08T16:46:26.374Z"
   },
   {
    "duration": 0,
    "start_time": "2022-06-08T16:46:26.375Z"
   },
   {
    "duration": 0,
    "start_time": "2022-06-08T16:46:26.376Z"
   },
   {
    "duration": 0,
    "start_time": "2022-06-08T16:46:26.378Z"
   },
   {
    "duration": 0,
    "start_time": "2022-06-08T16:46:26.379Z"
   },
   {
    "duration": 0,
    "start_time": "2022-06-08T16:46:26.380Z"
   },
   {
    "duration": 0,
    "start_time": "2022-06-08T16:46:26.382Z"
   },
   {
    "duration": 0,
    "start_time": "2022-06-08T16:46:26.383Z"
   },
   {
    "duration": 0,
    "start_time": "2022-06-08T16:46:26.384Z"
   },
   {
    "duration": 0,
    "start_time": "2022-06-08T16:46:26.385Z"
   },
   {
    "duration": 0,
    "start_time": "2022-06-08T16:46:26.387Z"
   },
   {
    "duration": 0,
    "start_time": "2022-06-08T16:46:26.388Z"
   },
   {
    "duration": 0,
    "start_time": "2022-06-08T16:46:26.389Z"
   },
   {
    "duration": 0,
    "start_time": "2022-06-08T16:46:26.390Z"
   },
   {
    "duration": 0,
    "start_time": "2022-06-08T16:46:26.392Z"
   },
   {
    "duration": 0,
    "start_time": "2022-06-08T16:46:26.394Z"
   },
   {
    "duration": 0,
    "start_time": "2022-06-08T16:46:26.394Z"
   },
   {
    "duration": 0,
    "start_time": "2022-06-08T16:46:26.396Z"
   },
   {
    "duration": 0,
    "start_time": "2022-06-08T16:46:26.397Z"
   },
   {
    "duration": 0,
    "start_time": "2022-06-08T16:46:26.398Z"
   },
   {
    "duration": 0,
    "start_time": "2022-06-08T16:46:26.398Z"
   },
   {
    "duration": 0,
    "start_time": "2022-06-08T16:46:26.400Z"
   },
   {
    "duration": 0,
    "start_time": "2022-06-08T16:46:26.401Z"
   },
   {
    "duration": 0,
    "start_time": "2022-06-08T16:46:26.402Z"
   },
   {
    "duration": 0,
    "start_time": "2022-06-08T16:46:26.403Z"
   },
   {
    "duration": 0,
    "start_time": "2022-06-08T16:46:26.405Z"
   },
   {
    "duration": 0,
    "start_time": "2022-06-08T16:46:26.465Z"
   },
   {
    "duration": 0,
    "start_time": "2022-06-08T16:46:26.467Z"
   },
   {
    "duration": 0,
    "start_time": "2022-06-08T16:46:26.468Z"
   },
   {
    "duration": 0,
    "start_time": "2022-06-08T16:46:26.470Z"
   },
   {
    "duration": 0,
    "start_time": "2022-06-08T16:46:26.471Z"
   },
   {
    "duration": 0,
    "start_time": "2022-06-08T16:46:26.473Z"
   },
   {
    "duration": 0,
    "start_time": "2022-06-08T16:46:26.475Z"
   },
   {
    "duration": 0,
    "start_time": "2022-06-08T16:46:26.476Z"
   },
   {
    "duration": 0,
    "start_time": "2022-06-08T16:46:26.478Z"
   },
   {
    "duration": 0,
    "start_time": "2022-06-08T16:46:26.479Z"
   },
   {
    "duration": 0,
    "start_time": "2022-06-08T16:46:26.480Z"
   },
   {
    "duration": 0,
    "start_time": "2022-06-08T16:46:26.482Z"
   },
   {
    "duration": 0,
    "start_time": "2022-06-08T16:46:26.484Z"
   },
   {
    "duration": 0,
    "start_time": "2022-06-08T16:46:26.485Z"
   },
   {
    "duration": 0,
    "start_time": "2022-06-08T16:46:26.487Z"
   },
   {
    "duration": 0,
    "start_time": "2022-06-08T16:46:26.488Z"
   },
   {
    "duration": 0,
    "start_time": "2022-06-08T16:46:26.489Z"
   },
   {
    "duration": 0,
    "start_time": "2022-06-08T16:46:26.490Z"
   },
   {
    "duration": 0,
    "start_time": "2022-06-08T16:46:26.491Z"
   },
   {
    "duration": 0,
    "start_time": "2022-06-08T16:46:26.492Z"
   },
   {
    "duration": 0,
    "start_time": "2022-06-08T16:46:26.494Z"
   },
   {
    "duration": 0,
    "start_time": "2022-06-08T16:46:26.495Z"
   },
   {
    "duration": 0,
    "start_time": "2022-06-08T16:46:26.496Z"
   },
   {
    "duration": 0,
    "start_time": "2022-06-08T16:46:26.497Z"
   },
   {
    "duration": 0,
    "start_time": "2022-06-08T16:46:26.498Z"
   },
   {
    "duration": 0,
    "start_time": "2022-06-08T16:46:26.499Z"
   },
   {
    "duration": 0,
    "start_time": "2022-06-08T16:46:26.500Z"
   },
   {
    "duration": 0,
    "start_time": "2022-06-08T16:46:26.501Z"
   },
   {
    "duration": 0,
    "start_time": "2022-06-08T16:46:26.565Z"
   },
   {
    "duration": 0,
    "start_time": "2022-06-08T16:46:26.567Z"
   },
   {
    "duration": 0,
    "start_time": "2022-06-08T16:46:26.569Z"
   },
   {
    "duration": 0,
    "start_time": "2022-06-08T16:46:26.570Z"
   },
   {
    "duration": 0,
    "start_time": "2022-06-08T16:46:26.571Z"
   },
   {
    "duration": 0,
    "start_time": "2022-06-08T16:46:26.572Z"
   },
   {
    "duration": 0,
    "start_time": "2022-06-08T16:46:26.574Z"
   },
   {
    "duration": 0,
    "start_time": "2022-06-08T16:46:26.575Z"
   },
   {
    "duration": 0,
    "start_time": "2022-06-08T16:46:26.576Z"
   },
   {
    "duration": 0,
    "start_time": "2022-06-08T16:46:26.578Z"
   },
   {
    "duration": 0,
    "start_time": "2022-06-08T16:46:26.580Z"
   },
   {
    "duration": 0,
    "start_time": "2022-06-08T16:46:26.582Z"
   },
   {
    "duration": 0,
    "start_time": "2022-06-08T16:46:26.583Z"
   },
   {
    "duration": 0,
    "start_time": "2022-06-08T16:46:26.585Z"
   },
   {
    "duration": 0,
    "start_time": "2022-06-08T16:46:26.586Z"
   },
   {
    "duration": 0,
    "start_time": "2022-06-08T16:46:26.587Z"
   },
   {
    "duration": 0,
    "start_time": "2022-06-08T16:46:26.589Z"
   },
   {
    "duration": 0,
    "start_time": "2022-06-08T16:46:26.590Z"
   },
   {
    "duration": 0,
    "start_time": "2022-06-08T16:46:26.592Z"
   },
   {
    "duration": 0,
    "start_time": "2022-06-08T16:46:26.594Z"
   },
   {
    "duration": 0,
    "start_time": "2022-06-08T16:46:26.595Z"
   },
   {
    "duration": 0,
    "start_time": "2022-06-08T16:46:26.596Z"
   },
   {
    "duration": 0,
    "start_time": "2022-06-08T16:46:26.599Z"
   },
   {
    "duration": 0,
    "start_time": "2022-06-08T16:46:26.600Z"
   },
   {
    "duration": 0,
    "start_time": "2022-06-08T16:46:26.601Z"
   },
   {
    "duration": 0,
    "start_time": "2022-06-08T16:46:26.603Z"
   },
   {
    "duration": 0,
    "start_time": "2022-06-08T16:46:26.604Z"
   },
   {
    "duration": 0,
    "start_time": "2022-06-08T16:46:26.606Z"
   },
   {
    "duration": 0,
    "start_time": "2022-06-08T16:46:26.608Z"
   },
   {
    "duration": 0,
    "start_time": "2022-06-08T16:46:26.609Z"
   },
   {
    "duration": 0,
    "start_time": "2022-06-08T16:46:26.610Z"
   },
   {
    "duration": 0,
    "start_time": "2022-06-08T16:46:26.610Z"
   },
   {
    "duration": 0,
    "start_time": "2022-06-08T16:46:26.611Z"
   },
   {
    "duration": 0,
    "start_time": "2022-06-08T16:46:26.611Z"
   },
   {
    "duration": 0,
    "start_time": "2022-06-08T16:46:26.612Z"
   },
   {
    "duration": 0,
    "start_time": "2022-06-08T16:46:26.612Z"
   },
   {
    "duration": 0,
    "start_time": "2022-06-08T16:46:26.613Z"
   },
   {
    "duration": 0,
    "start_time": "2022-06-08T16:46:26.665Z"
   },
   {
    "duration": 0,
    "start_time": "2022-06-08T16:46:26.667Z"
   },
   {
    "duration": 0,
    "start_time": "2022-06-08T16:46:26.668Z"
   },
   {
    "duration": 84,
    "start_time": "2022-06-08T16:49:47.840Z"
   },
   {
    "duration": 9,
    "start_time": "2022-06-08T16:49:52.962Z"
   },
   {
    "duration": 67,
    "start_time": "2022-06-08T16:49:52.982Z"
   },
   {
    "duration": 8,
    "start_time": "2022-06-08T16:49:53.051Z"
   },
   {
    "duration": 0,
    "start_time": "2022-06-08T16:49:53.061Z"
   },
   {
    "duration": 0,
    "start_time": "2022-06-08T16:49:53.062Z"
   },
   {
    "duration": 0,
    "start_time": "2022-06-08T16:49:53.063Z"
   },
   {
    "duration": 0,
    "start_time": "2022-06-08T16:49:53.065Z"
   },
   {
    "duration": 0,
    "start_time": "2022-06-08T16:49:53.066Z"
   },
   {
    "duration": 0,
    "start_time": "2022-06-08T16:49:53.067Z"
   },
   {
    "duration": 0,
    "start_time": "2022-06-08T16:49:53.067Z"
   },
   {
    "duration": 0,
    "start_time": "2022-06-08T16:49:53.068Z"
   },
   {
    "duration": 0,
    "start_time": "2022-06-08T16:49:53.070Z"
   },
   {
    "duration": 0,
    "start_time": "2022-06-08T16:49:53.071Z"
   },
   {
    "duration": 0,
    "start_time": "2022-06-08T16:49:53.071Z"
   },
   {
    "duration": 11,
    "start_time": "2022-06-08T16:49:53.075Z"
   },
   {
    "duration": 0,
    "start_time": "2022-06-08T16:49:53.088Z"
   },
   {
    "duration": 18,
    "start_time": "2022-06-08T16:49:53.092Z"
   },
   {
    "duration": 0,
    "start_time": "2022-06-08T16:49:53.111Z"
   },
   {
    "duration": 0,
    "start_time": "2022-06-08T16:49:53.112Z"
   },
   {
    "duration": 0,
    "start_time": "2022-06-08T16:49:53.113Z"
   },
   {
    "duration": 0,
    "start_time": "2022-06-08T16:49:53.115Z"
   },
   {
    "duration": 53,
    "start_time": "2022-06-08T16:49:53.116Z"
   },
   {
    "duration": 24,
    "start_time": "2022-06-08T16:49:53.176Z"
   },
   {
    "duration": 0,
    "start_time": "2022-06-08T16:49:53.202Z"
   },
   {
    "duration": 0,
    "start_time": "2022-06-08T16:49:53.203Z"
   },
   {
    "duration": 0,
    "start_time": "2022-06-08T16:49:53.205Z"
   },
   {
    "duration": 0,
    "start_time": "2022-06-08T16:49:53.206Z"
   },
   {
    "duration": 0,
    "start_time": "2022-06-08T16:49:53.207Z"
   },
   {
    "duration": 0,
    "start_time": "2022-06-08T16:49:53.208Z"
   },
   {
    "duration": 0,
    "start_time": "2022-06-08T16:49:53.209Z"
   },
   {
    "duration": 0,
    "start_time": "2022-06-08T16:49:53.210Z"
   },
   {
    "duration": 0,
    "start_time": "2022-06-08T16:49:53.211Z"
   },
   {
    "duration": 0,
    "start_time": "2022-06-08T16:49:53.212Z"
   },
   {
    "duration": 0,
    "start_time": "2022-06-08T16:49:53.212Z"
   },
   {
    "duration": 0,
    "start_time": "2022-06-08T16:49:53.213Z"
   },
   {
    "duration": 8,
    "start_time": "2022-06-08T16:49:53.217Z"
   },
   {
    "duration": 0,
    "start_time": "2022-06-08T16:49:53.226Z"
   },
   {
    "duration": 20,
    "start_time": "2022-06-08T16:49:53.270Z"
   },
   {
    "duration": 0,
    "start_time": "2022-06-08T16:49:53.292Z"
   },
   {
    "duration": 0,
    "start_time": "2022-06-08T16:49:53.293Z"
   },
   {
    "duration": 0,
    "start_time": "2022-06-08T16:49:53.293Z"
   },
   {
    "duration": 0,
    "start_time": "2022-06-08T16:49:53.294Z"
   },
   {
    "duration": 0,
    "start_time": "2022-06-08T16:49:53.295Z"
   },
   {
    "duration": 0,
    "start_time": "2022-06-08T16:49:53.297Z"
   },
   {
    "duration": 7,
    "start_time": "2022-06-08T16:49:53.300Z"
   },
   {
    "duration": 0,
    "start_time": "2022-06-08T16:49:53.309Z"
   },
   {
    "duration": 5,
    "start_time": "2022-06-08T16:49:53.312Z"
   },
   {
    "duration": 0,
    "start_time": "2022-06-08T16:49:53.319Z"
   },
   {
    "duration": 46,
    "start_time": "2022-06-08T16:49:53.324Z"
   },
   {
    "duration": 0,
    "start_time": "2022-06-08T16:49:53.373Z"
   },
   {
    "duration": 0,
    "start_time": "2022-06-08T16:49:53.374Z"
   },
   {
    "duration": 0,
    "start_time": "2022-06-08T16:49:53.375Z"
   },
   {
    "duration": 0,
    "start_time": "2022-06-08T16:49:53.377Z"
   },
   {
    "duration": 12,
    "start_time": "2022-06-08T16:49:53.391Z"
   },
   {
    "duration": 0,
    "start_time": "2022-06-08T16:49:53.404Z"
   },
   {
    "duration": 1,
    "start_time": "2022-06-08T16:49:53.405Z"
   },
   {
    "duration": 0,
    "start_time": "2022-06-08T16:49:53.406Z"
   },
   {
    "duration": 6,
    "start_time": "2022-06-08T16:49:53.412Z"
   },
   {
    "duration": 0,
    "start_time": "2022-06-08T16:49:53.419Z"
   },
   {
    "duration": 55,
    "start_time": "2022-06-08T16:49:53.421Z"
   },
   {
    "duration": 0,
    "start_time": "2022-06-08T16:49:53.478Z"
   },
   {
    "duration": 0,
    "start_time": "2022-06-08T16:49:53.479Z"
   },
   {
    "duration": 0,
    "start_time": "2022-06-08T16:49:53.481Z"
   },
   {
    "duration": 0,
    "start_time": "2022-06-08T16:49:53.482Z"
   },
   {
    "duration": 12,
    "start_time": "2022-06-08T16:49:53.487Z"
   },
   {
    "duration": 0,
    "start_time": "2022-06-08T16:49:53.500Z"
   },
   {
    "duration": 0,
    "start_time": "2022-06-08T16:49:53.501Z"
   },
   {
    "duration": 0,
    "start_time": "2022-06-08T16:49:53.502Z"
   },
   {
    "duration": 0,
    "start_time": "2022-06-08T16:49:53.503Z"
   },
   {
    "duration": 7,
    "start_time": "2022-06-08T16:49:53.508Z"
   },
   {
    "duration": 0,
    "start_time": "2022-06-08T16:49:53.516Z"
   },
   {
    "duration": 10,
    "start_time": "2022-06-08T16:49:53.521Z"
   },
   {
    "duration": 13,
    "start_time": "2022-06-08T16:49:53.565Z"
   },
   {
    "duration": 0,
    "start_time": "2022-06-08T16:49:53.582Z"
   },
   {
    "duration": 0,
    "start_time": "2022-06-08T16:49:53.584Z"
   },
   {
    "duration": 0,
    "start_time": "2022-06-08T16:49:53.585Z"
   },
   {
    "duration": 0,
    "start_time": "2022-06-08T16:49:53.586Z"
   },
   {
    "duration": 0,
    "start_time": "2022-06-08T16:49:53.590Z"
   },
   {
    "duration": 10,
    "start_time": "2022-06-08T16:49:53.592Z"
   },
   {
    "duration": 0,
    "start_time": "2022-06-08T16:49:53.605Z"
   },
   {
    "duration": 0,
    "start_time": "2022-06-08T16:49:53.606Z"
   },
   {
    "duration": 0,
    "start_time": "2022-06-08T16:49:53.607Z"
   },
   {
    "duration": 13,
    "start_time": "2022-06-08T16:49:53.609Z"
   },
   {
    "duration": 0,
    "start_time": "2022-06-08T16:49:53.665Z"
   },
   {
    "duration": 0,
    "start_time": "2022-06-08T16:49:53.665Z"
   },
   {
    "duration": 15,
    "start_time": "2022-06-08T16:49:53.671Z"
   },
   {
    "duration": 0,
    "start_time": "2022-06-08T16:49:53.689Z"
   },
   {
    "duration": 0,
    "start_time": "2022-06-08T16:49:53.690Z"
   },
   {
    "duration": 0,
    "start_time": "2022-06-08T16:49:53.692Z"
   },
   {
    "duration": 0,
    "start_time": "2022-06-08T16:49:53.693Z"
   },
   {
    "duration": 0,
    "start_time": "2022-06-08T16:49:53.694Z"
   },
   {
    "duration": 0,
    "start_time": "2022-06-08T16:49:53.696Z"
   },
   {
    "duration": 15,
    "start_time": "2022-06-08T16:49:53.703Z"
   },
   {
    "duration": 0,
    "start_time": "2022-06-08T16:49:53.719Z"
   },
   {
    "duration": 0,
    "start_time": "2022-06-08T16:49:53.720Z"
   },
   {
    "duration": 0,
    "start_time": "2022-06-08T16:49:53.721Z"
   },
   {
    "duration": 42,
    "start_time": "2022-06-08T16:49:53.729Z"
   },
   {
    "duration": 0,
    "start_time": "2022-06-08T16:49:53.773Z"
   },
   {
    "duration": 0,
    "start_time": "2022-06-08T16:49:53.774Z"
   },
   {
    "duration": 0,
    "start_time": "2022-06-08T16:49:53.775Z"
   },
   {
    "duration": 0,
    "start_time": "2022-06-08T16:49:53.776Z"
   },
   {
    "duration": 0,
    "start_time": "2022-06-08T16:49:53.778Z"
   },
   {
    "duration": 14,
    "start_time": "2022-06-08T16:49:53.795Z"
   },
   {
    "duration": 0,
    "start_time": "2022-06-08T16:49:53.811Z"
   },
   {
    "duration": 0,
    "start_time": "2022-06-08T16:49:53.812Z"
   },
   {
    "duration": 0,
    "start_time": "2022-06-08T16:49:53.814Z"
   },
   {
    "duration": 0,
    "start_time": "2022-06-08T16:49:53.816Z"
   },
   {
    "duration": 46,
    "start_time": "2022-06-08T16:51:29.041Z"
   },
   {
    "duration": 51,
    "start_time": "2022-06-08T16:51:56.494Z"
   },
   {
    "duration": 8,
    "start_time": "2022-06-08T16:52:00.047Z"
   },
   {
    "duration": 22,
    "start_time": "2022-06-08T16:53:34.942Z"
   },
   {
    "duration": 32,
    "start_time": "2022-06-08T16:53:42.363Z"
   },
   {
    "duration": 72,
    "start_time": "2022-06-08T16:53:48.928Z"
   },
   {
    "duration": 24,
    "start_time": "2022-06-08T16:53:52.259Z"
   },
   {
    "duration": 53,
    "start_time": "2022-06-08T16:54:25.579Z"
   },
   {
    "duration": 22,
    "start_time": "2022-06-08T16:54:28.864Z"
   },
   {
    "duration": 67,
    "start_time": "2022-06-08T16:54:39.740Z"
   },
   {
    "duration": 16,
    "start_time": "2022-06-08T16:54:43.142Z"
   },
   {
    "duration": 57,
    "start_time": "2022-06-08T16:54:56.000Z"
   },
   {
    "duration": 55,
    "start_time": "2022-06-08T16:57:22.095Z"
   },
   {
    "duration": 13,
    "start_time": "2022-06-08T16:57:27.523Z"
   },
   {
    "duration": 4,
    "start_time": "2022-06-08T16:57:30.603Z"
   },
   {
    "duration": 77,
    "start_time": "2022-06-08T16:57:30.609Z"
   },
   {
    "duration": 16,
    "start_time": "2022-06-08T16:57:30.688Z"
   },
   {
    "duration": 28,
    "start_time": "2022-06-08T16:57:30.706Z"
   },
   {
    "duration": 29,
    "start_time": "2022-06-08T16:57:30.736Z"
   },
   {
    "duration": 6,
    "start_time": "2022-06-08T16:57:30.768Z"
   },
   {
    "duration": 24,
    "start_time": "2022-06-08T16:57:30.776Z"
   },
   {
    "duration": 14,
    "start_time": "2022-06-08T16:57:30.802Z"
   },
   {
    "duration": 15,
    "start_time": "2022-06-08T16:57:30.818Z"
   },
   {
    "duration": 25,
    "start_time": "2022-06-08T16:57:30.835Z"
   },
   {
    "duration": 28,
    "start_time": "2022-06-08T16:57:30.863Z"
   },
   {
    "duration": 26,
    "start_time": "2022-06-08T16:57:30.894Z"
   },
   {
    "duration": 19,
    "start_time": "2022-06-08T16:57:30.922Z"
   },
   {
    "duration": 16,
    "start_time": "2022-06-08T16:57:30.943Z"
   },
   {
    "duration": 43,
    "start_time": "2022-06-08T16:57:30.961Z"
   },
   {
    "duration": 14,
    "start_time": "2022-06-08T16:57:31.006Z"
   },
   {
    "duration": 10,
    "start_time": "2022-06-08T16:57:31.022Z"
   },
   {
    "duration": 11,
    "start_time": "2022-06-08T16:57:31.034Z"
   },
   {
    "duration": 23,
    "start_time": "2022-06-08T16:57:31.047Z"
   },
   {
    "duration": 37,
    "start_time": "2022-06-08T16:57:31.072Z"
   },
   {
    "duration": 49,
    "start_time": "2022-06-08T16:57:31.112Z"
   },
   {
    "duration": 5,
    "start_time": "2022-06-08T16:57:31.163Z"
   },
   {
    "duration": 53,
    "start_time": "2022-06-08T16:57:31.170Z"
   },
   {
    "duration": 19,
    "start_time": "2022-06-08T16:57:31.226Z"
   },
   {
    "duration": 14,
    "start_time": "2022-06-08T16:57:31.247Z"
   },
   {
    "duration": 66,
    "start_time": "2022-06-08T16:57:31.271Z"
   },
   {
    "duration": 6,
    "start_time": "2022-06-08T16:57:31.339Z"
   },
   {
    "duration": 58,
    "start_time": "2022-06-08T16:57:31.347Z"
   },
   {
    "duration": 9,
    "start_time": "2022-06-08T16:57:31.412Z"
   },
   {
    "duration": 18,
    "start_time": "2022-06-08T16:57:31.423Z"
   },
   {
    "duration": 12,
    "start_time": "2022-06-08T16:57:31.443Z"
   },
   {
    "duration": 33,
    "start_time": "2022-06-08T16:57:31.457Z"
   },
   {
    "duration": 17,
    "start_time": "2022-06-08T16:57:31.492Z"
   },
   {
    "duration": 8,
    "start_time": "2022-06-08T16:57:31.512Z"
   },
   {
    "duration": 14,
    "start_time": "2022-06-08T16:57:31.522Z"
   },
   {
    "duration": 8,
    "start_time": "2022-06-08T16:57:31.537Z"
   },
   {
    "duration": 11,
    "start_time": "2022-06-08T16:57:31.546Z"
   },
   {
    "duration": 31,
    "start_time": "2022-06-08T16:57:31.558Z"
   },
   {
    "duration": 9,
    "start_time": "2022-06-08T16:57:31.592Z"
   },
   {
    "duration": 15,
    "start_time": "2022-06-08T16:57:31.603Z"
   },
   {
    "duration": 6,
    "start_time": "2022-06-08T16:57:31.620Z"
   },
   {
    "duration": 25,
    "start_time": "2022-06-08T16:57:31.627Z"
   },
   {
    "duration": 17,
    "start_time": "2022-06-08T16:57:31.654Z"
   },
   {
    "duration": 42,
    "start_time": "2022-06-08T16:57:31.672Z"
   },
   {
    "duration": 8,
    "start_time": "2022-06-08T16:57:31.716Z"
   },
   {
    "duration": 8,
    "start_time": "2022-06-08T16:57:31.726Z"
   },
   {
    "duration": 21,
    "start_time": "2022-06-08T16:57:31.736Z"
   },
   {
    "duration": 24,
    "start_time": "2022-06-08T16:57:31.759Z"
   },
   {
    "duration": 74,
    "start_time": "2022-06-08T16:57:31.785Z"
   },
   {
    "duration": 6,
    "start_time": "2022-06-08T16:57:31.861Z"
   },
   {
    "duration": 39,
    "start_time": "2022-06-08T16:57:31.869Z"
   },
   {
    "duration": 22,
    "start_time": "2022-06-08T16:57:31.910Z"
   },
   {
    "duration": 15,
    "start_time": "2022-06-08T16:57:31.934Z"
   },
   {
    "duration": 298,
    "start_time": "2022-06-08T16:57:31.951Z"
   },
   {
    "duration": 23,
    "start_time": "2022-06-08T16:57:32.251Z"
   },
   {
    "duration": 26,
    "start_time": "2022-06-08T16:57:32.276Z"
   },
   {
    "duration": 16,
    "start_time": "2022-06-08T16:57:32.304Z"
   },
   {
    "duration": 15,
    "start_time": "2022-06-08T16:57:32.322Z"
   },
   {
    "duration": 7,
    "start_time": "2022-06-08T16:57:32.339Z"
   },
   {
    "duration": 563,
    "start_time": "2022-06-08T16:57:32.348Z"
   },
   {
    "duration": 20,
    "start_time": "2022-06-08T16:57:32.913Z"
   },
   {
    "duration": 11,
    "start_time": "2022-06-08T16:57:32.936Z"
   },
   {
    "duration": 4,
    "start_time": "2022-06-08T16:57:32.949Z"
   },
   {
    "duration": 484,
    "start_time": "2022-06-08T16:57:32.955Z"
   },
   {
    "duration": 414,
    "start_time": "2022-06-08T16:57:33.441Z"
   },
   {
    "duration": 22,
    "start_time": "2022-06-08T16:57:33.856Z"
   },
   {
    "duration": 19,
    "start_time": "2022-06-08T16:57:33.880Z"
   },
   {
    "duration": 11,
    "start_time": "2022-06-08T16:57:33.901Z"
   },
   {
    "duration": 8,
    "start_time": "2022-06-08T16:57:33.914Z"
   },
   {
    "duration": 8,
    "start_time": "2022-06-08T16:57:33.924Z"
   },
   {
    "duration": 205,
    "start_time": "2022-06-08T16:57:33.934Z"
   },
   {
    "duration": 196,
    "start_time": "2022-06-08T16:57:34.141Z"
   },
   {
    "duration": 14,
    "start_time": "2022-06-08T16:57:34.338Z"
   },
   {
    "duration": 21,
    "start_time": "2022-06-08T16:57:34.354Z"
   },
   {
    "duration": 15,
    "start_time": "2022-06-08T16:57:34.378Z"
   },
   {
    "duration": 7,
    "start_time": "2022-06-08T16:57:34.395Z"
   },
   {
    "duration": 14,
    "start_time": "2022-06-08T16:57:34.404Z"
   },
   {
    "duration": 19,
    "start_time": "2022-06-08T16:57:34.420Z"
   },
   {
    "duration": 25,
    "start_time": "2022-06-08T16:57:34.441Z"
   },
   {
    "duration": 52,
    "start_time": "2022-06-08T16:57:34.468Z"
   },
   {
    "duration": 47,
    "start_time": "2022-06-08T16:57:34.523Z"
   },
   {
    "duration": 42,
    "start_time": "2022-06-08T16:57:34.572Z"
   },
   {
    "duration": 31,
    "start_time": "2022-06-08T16:57:34.621Z"
   },
   {
    "duration": 34,
    "start_time": "2022-06-08T16:57:34.654Z"
   },
   {
    "duration": 9,
    "start_time": "2022-06-08T16:57:34.689Z"
   },
   {
    "duration": 11,
    "start_time": "2022-06-08T16:57:34.699Z"
   },
   {
    "duration": 13,
    "start_time": "2022-06-08T16:57:34.712Z"
   },
   {
    "duration": 173,
    "start_time": "2022-06-08T16:57:34.727Z"
   },
   {
    "duration": 15,
    "start_time": "2022-06-08T16:57:34.903Z"
   },
   {
    "duration": 190,
    "start_time": "2022-06-08T16:57:34.920Z"
   },
   {
    "duration": 12,
    "start_time": "2022-06-08T16:57:35.113Z"
   },
   {
    "duration": 164,
    "start_time": "2022-06-08T16:57:35.127Z"
   },
   {
    "duration": 17,
    "start_time": "2022-06-08T16:57:35.292Z"
   },
   {
    "duration": 198,
    "start_time": "2022-06-08T16:57:35.312Z"
   },
   {
    "duration": 15,
    "start_time": "2022-06-08T16:57:35.511Z"
   },
   {
    "duration": 183,
    "start_time": "2022-06-08T16:57:35.528Z"
   },
   {
    "duration": 15,
    "start_time": "2022-06-08T16:57:35.713Z"
   },
   {
    "duration": 190,
    "start_time": "2022-06-08T16:57:35.730Z"
   },
   {
    "duration": 24,
    "start_time": "2022-06-08T16:57:35.922Z"
   },
   {
    "duration": 26,
    "start_time": "2022-06-08T16:57:35.947Z"
   },
   {
    "duration": 19,
    "start_time": "2022-06-08T16:57:35.976Z"
   },
   {
    "duration": 7,
    "start_time": "2022-06-08T16:57:35.996Z"
   },
   {
    "duration": 8,
    "start_time": "2022-06-08T16:57:36.005Z"
   },
   {
    "duration": 10,
    "start_time": "2022-06-08T16:57:36.014Z"
   },
   {
    "duration": 8,
    "start_time": "2022-06-08T16:57:36.026Z"
   },
   {
    "duration": 11,
    "start_time": "2022-06-08T16:57:36.035Z"
   },
   {
    "duration": 31,
    "start_time": "2022-06-08T16:57:36.048Z"
   },
   {
    "duration": 68,
    "start_time": "2022-06-08T16:59:10.354Z"
   },
   {
    "duration": 626,
    "start_time": "2022-06-08T17:13:38.486Z"
   },
   {
    "duration": 640,
    "start_time": "2022-06-08T17:13:49.043Z"
   },
   {
    "duration": 162,
    "start_time": "2022-06-08T17:18:06.979Z"
   },
   {
    "duration": 7,
    "start_time": "2022-06-08T17:45:49.002Z"
   },
   {
    "duration": 8,
    "start_time": "2022-06-08T17:45:52.985Z"
   },
   {
    "duration": 12,
    "start_time": "2022-06-08T17:46:00.985Z"
   },
   {
    "duration": 6,
    "start_time": "2022-06-08T17:46:19.621Z"
   },
   {
    "duration": 17,
    "start_time": "2022-06-08T17:54:32.164Z"
   },
   {
    "duration": 23,
    "start_time": "2022-06-08T17:58:02.801Z"
   },
   {
    "duration": 20,
    "start_time": "2022-06-08T17:58:07.125Z"
   },
   {
    "duration": 16,
    "start_time": "2022-06-08T17:58:12.037Z"
   },
   {
    "duration": 52,
    "start_time": "2022-06-09T10:09:10.653Z"
   },
   {
    "duration": 1256,
    "start_time": "2022-06-09T10:09:15.264Z"
   },
   {
    "duration": 187,
    "start_time": "2022-06-09T10:09:16.522Z"
   },
   {
    "duration": 14,
    "start_time": "2022-06-09T10:09:16.710Z"
   },
   {
    "duration": 22,
    "start_time": "2022-06-09T10:09:16.726Z"
   },
   {
    "duration": 6,
    "start_time": "2022-06-09T10:09:16.749Z"
   },
   {
    "duration": 5,
    "start_time": "2022-06-09T10:09:16.756Z"
   },
   {
    "duration": 5,
    "start_time": "2022-06-09T10:09:16.762Z"
   },
   {
    "duration": 7,
    "start_time": "2022-06-09T10:09:16.768Z"
   },
   {
    "duration": 5,
    "start_time": "2022-06-09T10:09:16.777Z"
   },
   {
    "duration": 23,
    "start_time": "2022-06-09T10:09:16.784Z"
   },
   {
    "duration": 9,
    "start_time": "2022-06-09T10:09:16.808Z"
   },
   {
    "duration": 6,
    "start_time": "2022-06-09T10:09:16.819Z"
   },
   {
    "duration": 8,
    "start_time": "2022-06-09T10:09:16.827Z"
   },
   {
    "duration": 13,
    "start_time": "2022-06-09T10:09:16.836Z"
   },
   {
    "duration": 16,
    "start_time": "2022-06-09T10:09:16.851Z"
   },
   {
    "duration": 8,
    "start_time": "2022-06-09T10:09:16.869Z"
   },
   {
    "duration": 6,
    "start_time": "2022-06-09T10:09:16.878Z"
   },
   {
    "duration": 20,
    "start_time": "2022-06-09T10:09:16.885Z"
   },
   {
    "duration": 14,
    "start_time": "2022-06-09T10:09:16.907Z"
   },
   {
    "duration": 11,
    "start_time": "2022-06-09T10:09:16.922Z"
   },
   {
    "duration": 21,
    "start_time": "2022-06-09T10:09:16.934Z"
   },
   {
    "duration": 4,
    "start_time": "2022-06-09T10:09:16.957Z"
   },
   {
    "duration": 17,
    "start_time": "2022-06-09T10:09:16.962Z"
   },
   {
    "duration": 24,
    "start_time": "2022-06-09T10:09:16.980Z"
   },
   {
    "duration": 11,
    "start_time": "2022-06-09T10:09:17.005Z"
   },
   {
    "duration": 20,
    "start_time": "2022-06-09T10:09:17.018Z"
   },
   {
    "duration": 5,
    "start_time": "2022-06-09T10:09:17.040Z"
   },
   {
    "duration": 15,
    "start_time": "2022-06-09T10:09:17.050Z"
   },
   {
    "duration": 4,
    "start_time": "2022-06-09T10:09:17.067Z"
   },
   {
    "duration": 14,
    "start_time": "2022-06-09T10:09:17.095Z"
   },
   {
    "duration": 6,
    "start_time": "2022-06-09T10:09:17.110Z"
   },
   {
    "duration": 14,
    "start_time": "2022-06-09T10:09:17.117Z"
   },
   {
    "duration": 6,
    "start_time": "2022-06-09T10:09:17.132Z"
   },
   {
    "duration": 6,
    "start_time": "2022-06-09T10:09:17.140Z"
   },
   {
    "duration": 11,
    "start_time": "2022-06-09T10:09:17.148Z"
   },
   {
    "duration": 6,
    "start_time": "2022-06-09T10:09:17.160Z"
   },
   {
    "duration": 38,
    "start_time": "2022-06-09T10:09:17.168Z"
   },
   {
    "duration": 6,
    "start_time": "2022-06-09T10:09:17.208Z"
   },
   {
    "duration": 7,
    "start_time": "2022-06-09T10:09:17.215Z"
   },
   {
    "duration": 4,
    "start_time": "2022-06-09T10:09:17.223Z"
   },
   {
    "duration": 5,
    "start_time": "2022-06-09T10:09:17.228Z"
   },
   {
    "duration": 16,
    "start_time": "2022-06-09T10:09:17.234Z"
   },
   {
    "duration": 10,
    "start_time": "2022-06-09T10:09:17.252Z"
   },
   {
    "duration": 9,
    "start_time": "2022-06-09T10:09:17.264Z"
   },
   {
    "duration": 7,
    "start_time": "2022-06-09T10:09:17.274Z"
   },
   {
    "duration": 12,
    "start_time": "2022-06-09T10:09:17.283Z"
   },
   {
    "duration": 15,
    "start_time": "2022-06-09T10:09:17.308Z"
   },
   {
    "duration": 16,
    "start_time": "2022-06-09T10:09:17.325Z"
   },
   {
    "duration": 13,
    "start_time": "2022-06-09T10:09:17.343Z"
   },
   {
    "duration": 3,
    "start_time": "2022-06-09T10:09:17.358Z"
   },
   {
    "duration": 15,
    "start_time": "2022-06-09T10:09:17.363Z"
   },
   {
    "duration": 31,
    "start_time": "2022-06-09T10:09:17.379Z"
   },
   {
    "duration": 26,
    "start_time": "2022-06-09T10:09:17.412Z"
   },
   {
    "duration": 210,
    "start_time": "2022-06-09T10:09:17.440Z"
   },
   {
    "duration": 14,
    "start_time": "2022-06-09T10:09:17.651Z"
   },
   {
    "duration": 9,
    "start_time": "2022-06-09T10:09:17.666Z"
   },
   {
    "duration": 31,
    "start_time": "2022-06-09T10:09:17.677Z"
   },
   {
    "duration": 9,
    "start_time": "2022-06-09T10:09:17.710Z"
   },
   {
    "duration": 5,
    "start_time": "2022-06-09T10:09:17.720Z"
   },
   {
    "duration": 478,
    "start_time": "2022-06-09T10:09:17.727Z"
   },
   {
    "duration": 20,
    "start_time": "2022-06-09T10:09:18.207Z"
   },
   {
    "duration": 10,
    "start_time": "2022-06-09T10:09:18.228Z"
   },
   {
    "duration": 6,
    "start_time": "2022-06-09T10:09:18.240Z"
   },
   {
    "duration": 387,
    "start_time": "2022-06-09T10:09:18.248Z"
   },
   {
    "duration": 252,
    "start_time": "2022-06-09T10:09:18.636Z"
   },
   {
    "duration": 7,
    "start_time": "2022-06-09T10:09:18.903Z"
   },
   {
    "duration": 13,
    "start_time": "2022-06-09T10:09:18.912Z"
   },
   {
    "duration": 12,
    "start_time": "2022-06-09T10:09:18.926Z"
   },
   {
    "duration": 5,
    "start_time": "2022-06-09T10:09:18.939Z"
   },
   {
    "duration": 6,
    "start_time": "2022-06-09T10:09:18.945Z"
   },
   {
    "duration": 213,
    "start_time": "2022-06-09T10:09:18.952Z"
   },
   {
    "duration": 144,
    "start_time": "2022-06-09T10:09:19.167Z"
   },
   {
    "duration": 13,
    "start_time": "2022-06-09T10:09:19.312Z"
   },
   {
    "duration": 11,
    "start_time": "2022-06-09T10:09:19.326Z"
   },
   {
    "duration": 6,
    "start_time": "2022-06-09T10:09:19.338Z"
   },
   {
    "duration": 5,
    "start_time": "2022-06-09T10:09:19.345Z"
   },
   {
    "duration": 17,
    "start_time": "2022-06-09T10:09:19.351Z"
   },
   {
    "duration": 40,
    "start_time": "2022-06-09T10:09:19.369Z"
   },
   {
    "duration": 5,
    "start_time": "2022-06-09T10:09:19.411Z"
   },
   {
    "duration": 34,
    "start_time": "2022-06-09T10:09:19.417Z"
   },
   {
    "duration": 27,
    "start_time": "2022-06-09T10:09:19.453Z"
   },
   {
    "duration": 24,
    "start_time": "2022-06-09T10:09:19.485Z"
   },
   {
    "duration": 7,
    "start_time": "2022-06-09T10:09:19.511Z"
   },
   {
    "duration": 7,
    "start_time": "2022-06-09T10:09:19.520Z"
   },
   {
    "duration": 10,
    "start_time": "2022-06-09T10:09:19.528Z"
   },
   {
    "duration": 27,
    "start_time": "2022-06-09T10:09:19.540Z"
   },
   {
    "duration": 23,
    "start_time": "2022-06-09T10:09:19.568Z"
   },
   {
    "duration": 33,
    "start_time": "2022-06-09T10:09:19.593Z"
   },
   {
    "duration": 121,
    "start_time": "2022-06-09T10:09:19.628Z"
   },
   {
    "duration": 10,
    "start_time": "2022-06-09T10:09:19.750Z"
   },
   {
    "duration": 126,
    "start_time": "2022-06-09T10:09:19.761Z"
   },
   {
    "duration": 22,
    "start_time": "2022-06-09T10:09:19.888Z"
   },
   {
    "duration": 112,
    "start_time": "2022-06-09T10:09:19.911Z"
   },
   {
    "duration": 11,
    "start_time": "2022-06-09T10:09:20.025Z"
   },
   {
    "duration": 153,
    "start_time": "2022-06-09T10:09:20.038Z"
   },
   {
    "duration": 20,
    "start_time": "2022-06-09T10:09:20.193Z"
   },
   {
    "duration": 124,
    "start_time": "2022-06-09T10:09:20.214Z"
   },
   {
    "duration": 10,
    "start_time": "2022-06-09T10:09:20.339Z"
   },
   {
    "duration": 127,
    "start_time": "2022-06-09T10:09:20.350Z"
   },
   {
    "duration": 30,
    "start_time": "2022-06-09T10:09:20.479Z"
   },
   {
    "duration": 16,
    "start_time": "2022-06-09T10:09:20.512Z"
   },
   {
    "duration": 9,
    "start_time": "2022-06-09T10:09:20.530Z"
   },
   {
    "duration": 10,
    "start_time": "2022-06-09T10:09:20.540Z"
   },
   {
    "duration": 7,
    "start_time": "2022-06-09T10:09:20.552Z"
   },
   {
    "duration": 5,
    "start_time": "2022-06-09T10:09:20.560Z"
   },
   {
    "duration": 8,
    "start_time": "2022-06-09T10:09:20.566Z"
   },
   {
    "duration": 27,
    "start_time": "2022-06-09T10:09:20.576Z"
   },
   {
    "duration": 4,
    "start_time": "2022-06-09T10:09:20.605Z"
   },
   {
    "duration": 7,
    "start_time": "2022-06-09T10:09:20.610Z"
   },
   {
    "duration": 405,
    "start_time": "2022-06-09T10:14:13.261Z"
   },
   {
    "duration": 283,
    "start_time": "2022-06-09T10:14:24.452Z"
   },
   {
    "duration": 218,
    "start_time": "2022-06-09T10:15:14.321Z"
   },
   {
    "duration": 4,
    "start_time": "2022-06-09T10:16:58.666Z"
   },
   {
    "duration": 9,
    "start_time": "2022-06-09T10:17:01.505Z"
   },
   {
    "duration": 12,
    "start_time": "2022-06-09T10:17:30.364Z"
   },
   {
    "duration": 10,
    "start_time": "2022-06-09T10:17:38.448Z"
   },
   {
    "duration": 11,
    "start_time": "2022-06-09T10:19:50.372Z"
   },
   {
    "duration": 6,
    "start_time": "2022-06-09T10:20:05.218Z"
   },
   {
    "duration": 28,
    "start_time": "2022-06-09T10:20:17.544Z"
   },
   {
    "duration": 7,
    "start_time": "2022-06-09T10:20:59.650Z"
   },
   {
    "duration": 5,
    "start_time": "2022-06-09T10:21:06.919Z"
   },
   {
    "duration": 5,
    "start_time": "2022-06-09T10:21:14.572Z"
   },
   {
    "duration": 7,
    "start_time": "2022-06-09T10:22:32.673Z"
   },
   {
    "duration": 9,
    "start_time": "2022-06-09T10:33:40.062Z"
   },
   {
    "duration": 9,
    "start_time": "2022-06-09T10:33:46.182Z"
   },
   {
    "duration": 14,
    "start_time": "2022-06-09T10:33:54.515Z"
   },
   {
    "duration": 13,
    "start_time": "2022-06-09T10:34:49.039Z"
   },
   {
    "duration": 15,
    "start_time": "2022-06-09T10:35:11.475Z"
   },
   {
    "duration": 16,
    "start_time": "2022-06-09T10:35:22.700Z"
   },
   {
    "duration": 19,
    "start_time": "2022-06-09T10:35:57.433Z"
   },
   {
    "duration": 12,
    "start_time": "2022-06-09T10:37:04.179Z"
   },
   {
    "duration": 7,
    "start_time": "2022-06-09T10:37:38.972Z"
   },
   {
    "duration": 8,
    "start_time": "2022-06-09T10:37:59.659Z"
   },
   {
    "duration": 13,
    "start_time": "2022-06-09T10:38:52.591Z"
   },
   {
    "duration": 14,
    "start_time": "2022-06-09T10:38:56.945Z"
   },
   {
    "duration": 20,
    "start_time": "2022-06-09T10:50:43.207Z"
   },
   {
    "duration": 20,
    "start_time": "2022-06-09T10:51:01.211Z"
   },
   {
    "duration": 20,
    "start_time": "2022-06-09T10:51:06.474Z"
   },
   {
    "duration": 20,
    "start_time": "2022-06-09T10:51:09.270Z"
   },
   {
    "duration": 19,
    "start_time": "2022-06-09T10:51:11.306Z"
   },
   {
    "duration": 4,
    "start_time": "2022-06-09T10:51:19.235Z"
   },
   {
    "duration": 62,
    "start_time": "2022-06-09T10:51:19.243Z"
   },
   {
    "duration": 14,
    "start_time": "2022-06-09T10:51:19.307Z"
   },
   {
    "duration": 19,
    "start_time": "2022-06-09T10:51:19.323Z"
   },
   {
    "duration": 9,
    "start_time": "2022-06-09T10:51:19.344Z"
   },
   {
    "duration": 6,
    "start_time": "2022-06-09T10:51:19.356Z"
   },
   {
    "duration": 32,
    "start_time": "2022-06-09T10:51:19.364Z"
   },
   {
    "duration": 7,
    "start_time": "2022-06-09T10:51:19.398Z"
   },
   {
    "duration": 7,
    "start_time": "2022-06-09T10:51:19.406Z"
   },
   {
    "duration": 8,
    "start_time": "2022-06-09T10:51:19.414Z"
   },
   {
    "duration": 9,
    "start_time": "2022-06-09T10:51:19.424Z"
   },
   {
    "duration": 14,
    "start_time": "2022-06-09T10:51:19.434Z"
   },
   {
    "duration": 9,
    "start_time": "2022-06-09T10:51:19.450Z"
   },
   {
    "duration": 11,
    "start_time": "2022-06-09T10:51:19.461Z"
   },
   {
    "duration": 18,
    "start_time": "2022-06-09T10:51:19.497Z"
   },
   {
    "duration": 7,
    "start_time": "2022-06-09T10:51:19.517Z"
   },
   {
    "duration": 4,
    "start_time": "2022-06-09T10:51:19.525Z"
   },
   {
    "duration": 9,
    "start_time": "2022-06-09T10:51:19.531Z"
   },
   {
    "duration": 15,
    "start_time": "2022-06-09T10:51:19.542Z"
   },
   {
    "duration": 44,
    "start_time": "2022-06-09T10:51:19.559Z"
   },
   {
    "duration": 26,
    "start_time": "2022-06-09T10:51:19.605Z"
   },
   {
    "duration": 6,
    "start_time": "2022-06-09T10:51:19.633Z"
   },
   {
    "duration": 20,
    "start_time": "2022-06-09T10:51:19.641Z"
   },
   {
    "duration": 34,
    "start_time": "2022-06-09T10:51:19.663Z"
   },
   {
    "duration": 5,
    "start_time": "2022-06-09T10:51:19.699Z"
   },
   {
    "duration": 30,
    "start_time": "2022-06-09T10:51:19.706Z"
   },
   {
    "duration": 5,
    "start_time": "2022-06-09T10:51:19.737Z"
   },
   {
    "duration": 19,
    "start_time": "2022-06-09T10:51:19.744Z"
   },
   {
    "duration": 4,
    "start_time": "2022-06-09T10:51:19.795Z"
   },
   {
    "duration": 12,
    "start_time": "2022-06-09T10:51:19.801Z"
   },
   {
    "duration": 7,
    "start_time": "2022-06-09T10:51:19.815Z"
   },
   {
    "duration": 8,
    "start_time": "2022-06-09T10:51:19.828Z"
   },
   {
    "duration": 7,
    "start_time": "2022-06-09T10:51:19.837Z"
   },
   {
    "duration": 9,
    "start_time": "2022-06-09T10:51:19.846Z"
   },
   {
    "duration": 38,
    "start_time": "2022-06-09T10:51:19.857Z"
   },
   {
    "duration": 7,
    "start_time": "2022-06-09T10:51:19.897Z"
   },
   {
    "duration": 15,
    "start_time": "2022-06-09T10:51:19.906Z"
   },
   {
    "duration": 12,
    "start_time": "2022-06-09T10:51:19.923Z"
   },
   {
    "duration": 9,
    "start_time": "2022-06-09T10:51:19.936Z"
   },
   {
    "duration": 6,
    "start_time": "2022-06-09T10:51:19.946Z"
   },
   {
    "duration": 6,
    "start_time": "2022-06-09T10:51:19.954Z"
   },
   {
    "duration": 41,
    "start_time": "2022-06-09T10:51:19.961Z"
   },
   {
    "duration": 20,
    "start_time": "2022-06-09T10:51:20.003Z"
   },
   {
    "duration": 21,
    "start_time": "2022-06-09T10:51:20.025Z"
   },
   {
    "duration": 14,
    "start_time": "2022-06-09T10:51:20.048Z"
   },
   {
    "duration": 14,
    "start_time": "2022-06-09T10:51:20.064Z"
   },
   {
    "duration": 42,
    "start_time": "2022-06-09T10:51:20.080Z"
   },
   {
    "duration": 15,
    "start_time": "2022-06-09T10:51:20.124Z"
   },
   {
    "duration": 23,
    "start_time": "2022-06-09T10:51:20.141Z"
   },
   {
    "duration": 5,
    "start_time": "2022-06-09T10:51:20.166Z"
   },
   {
    "duration": 33,
    "start_time": "2022-06-09T10:51:20.172Z"
   },
   {
    "duration": 23,
    "start_time": "2022-06-09T10:51:20.207Z"
   },
   {
    "duration": 13,
    "start_time": "2022-06-09T10:51:20.232Z"
   },
   {
    "duration": 206,
    "start_time": "2022-06-09T10:51:20.247Z"
   },
   {
    "duration": 14,
    "start_time": "2022-06-09T10:51:20.454Z"
   },
   {
    "duration": 25,
    "start_time": "2022-06-09T10:51:20.470Z"
   },
   {
    "duration": 8,
    "start_time": "2022-06-09T10:51:20.497Z"
   },
   {
    "duration": 11,
    "start_time": "2022-06-09T10:51:20.507Z"
   },
   {
    "duration": 19,
    "start_time": "2022-06-09T10:51:20.520Z"
   },
   {
    "duration": 440,
    "start_time": "2022-06-09T10:51:20.541Z"
   },
   {
    "duration": 24,
    "start_time": "2022-06-09T10:51:20.982Z"
   },
   {
    "duration": 17,
    "start_time": "2022-06-09T10:51:21.008Z"
   },
   {
    "duration": 5,
    "start_time": "2022-06-09T10:51:21.027Z"
   },
   {
    "duration": 406,
    "start_time": "2022-06-09T10:51:21.034Z"
   },
   {
    "duration": 315,
    "start_time": "2022-06-09T10:51:21.444Z"
   },
   {
    "duration": 8,
    "start_time": "2022-06-09T10:51:21.764Z"
   },
   {
    "duration": 32,
    "start_time": "2022-06-09T10:51:21.774Z"
   },
   {
    "duration": 16,
    "start_time": "2022-06-09T10:51:21.808Z"
   },
   {
    "duration": 7,
    "start_time": "2022-06-09T10:51:21.826Z"
   },
   {
    "duration": 5,
    "start_time": "2022-06-09T10:51:21.835Z"
   },
   {
    "duration": 192,
    "start_time": "2022-06-09T10:51:21.842Z"
   },
   {
    "duration": 184,
    "start_time": "2022-06-09T10:51:22.036Z"
   },
   {
    "duration": 14,
    "start_time": "2022-06-09T10:51:22.222Z"
   },
   {
    "duration": 12,
    "start_time": "2022-06-09T10:51:22.238Z"
   },
   {
    "duration": 7,
    "start_time": "2022-06-09T10:51:22.252Z"
   },
   {
    "duration": 7,
    "start_time": "2022-06-09T10:51:22.260Z"
   },
   {
    "duration": 13,
    "start_time": "2022-06-09T10:51:22.294Z"
   },
   {
    "duration": 16,
    "start_time": "2022-06-09T10:51:22.309Z"
   },
   {
    "duration": 10,
    "start_time": "2022-06-09T10:51:22.327Z"
   },
   {
    "duration": 7,
    "start_time": "2022-06-09T10:51:22.339Z"
   },
   {
    "duration": 17,
    "start_time": "2022-06-09T10:51:22.348Z"
   },
   {
    "duration": 33,
    "start_time": "2022-06-09T10:51:22.367Z"
   },
   {
    "duration": 8,
    "start_time": "2022-06-09T10:51:22.401Z"
   },
   {
    "duration": 7,
    "start_time": "2022-06-09T10:51:22.411Z"
   },
   {
    "duration": 8,
    "start_time": "2022-06-09T10:51:22.419Z"
   },
   {
    "duration": 9,
    "start_time": "2022-06-09T10:51:22.429Z"
   },
   {
    "duration": 16,
    "start_time": "2022-06-09T10:51:22.440Z"
   },
   {
    "duration": 44,
    "start_time": "2022-06-09T10:51:22.458Z"
   },
   {
    "duration": 164,
    "start_time": "2022-06-09T10:51:22.504Z"
   },
   {
    "duration": 12,
    "start_time": "2022-06-09T10:51:22.670Z"
   },
   {
    "duration": 237,
    "start_time": "2022-06-09T10:51:22.695Z"
   },
   {
    "duration": 15,
    "start_time": "2022-06-09T10:51:22.934Z"
   },
   {
    "duration": 200,
    "start_time": "2022-06-09T10:51:22.951Z"
   },
   {
    "duration": 16,
    "start_time": "2022-06-09T10:51:23.154Z"
   },
   {
    "duration": 177,
    "start_time": "2022-06-09T10:51:23.172Z"
   },
   {
    "duration": 11,
    "start_time": "2022-06-09T10:51:23.351Z"
   },
   {
    "duration": 160,
    "start_time": "2022-06-09T10:51:23.364Z"
   },
   {
    "duration": 13,
    "start_time": "2022-06-09T10:51:23.526Z"
   },
   {
    "duration": 156,
    "start_time": "2022-06-09T10:51:23.541Z"
   },
   {
    "duration": 22,
    "start_time": "2022-06-09T10:51:23.699Z"
   },
   {
    "duration": 16,
    "start_time": "2022-06-09T10:51:23.723Z"
   },
   {
    "duration": 16,
    "start_time": "2022-06-09T10:51:23.741Z"
   },
   {
    "duration": 6,
    "start_time": "2022-06-09T10:51:23.760Z"
   },
   {
    "duration": 27,
    "start_time": "2022-06-09T10:51:23.768Z"
   },
   {
    "duration": 12,
    "start_time": "2022-06-09T10:51:23.797Z"
   },
   {
    "duration": 13,
    "start_time": "2022-06-09T10:51:23.811Z"
   },
   {
    "duration": 7,
    "start_time": "2022-06-09T10:51:23.827Z"
   },
   {
    "duration": 8,
    "start_time": "2022-06-09T10:51:23.835Z"
   },
   {
    "duration": 14,
    "start_time": "2022-06-09T10:51:23.845Z"
   },
   {
    "duration": 13,
    "start_time": "2022-06-09T10:52:16.253Z"
   },
   {
    "duration": 15,
    "start_time": "2022-06-09T10:52:32.889Z"
   },
   {
    "duration": 15,
    "start_time": "2022-06-09T10:53:11.118Z"
   },
   {
    "duration": 15,
    "start_time": "2022-06-09T10:54:54.595Z"
   },
   {
    "duration": 14,
    "start_time": "2022-06-09T11:00:51.025Z"
   },
   {
    "duration": 112,
    "start_time": "2022-06-09T11:01:38.897Z"
   },
   {
    "duration": 124,
    "start_time": "2022-06-09T11:01:45.934Z"
   },
   {
    "duration": 100,
    "start_time": "2022-06-09T11:01:58.401Z"
   },
   {
    "duration": 148,
    "start_time": "2022-06-09T11:02:22.491Z"
   },
   {
    "duration": 115,
    "start_time": "2022-06-09T11:02:32.802Z"
   },
   {
    "duration": 110,
    "start_time": "2022-06-09T11:02:43.131Z"
   }
  ],
  "kernelspec": {
   "display_name": "Python 3 (ipykernel)",
   "language": "python",
   "name": "python3"
  },
  "language_info": {
   "codemirror_mode": {
    "name": "ipython",
    "version": 3
   },
   "file_extension": ".py",
   "mimetype": "text/x-python",
   "name": "python",
   "nbconvert_exporter": "python",
   "pygments_lexer": "ipython3",
   "version": "3.9.7"
  },
  "toc": {
   "base_numbering": 1,
   "nav_menu": {},
   "number_sections": true,
   "sideBar": true,
   "skip_h1_title": true,
   "title_cell": "Оглавление",
   "title_sidebar": "Contents",
   "toc_cell": true,
   "toc_position": {},
   "toc_section_display": true,
   "toc_window_display": false
  }
 },
 "nbformat": 4,
 "nbformat_minor": 5
}
